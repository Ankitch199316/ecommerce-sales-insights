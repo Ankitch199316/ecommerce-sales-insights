{
 "cells": [
  {
   "cell_type": "code",
   "execution_count": 2,
   "id": "83b783e8-e08c-418a-8f2e-a371f6a16175",
   "metadata": {},
   "outputs": [],
   "source": [
    "### Importing pandas to explore the tabular datasets.\n",
    "### Import sqlite \n",
    "import pandas as pd\n",
    "import sqlite3\n",
    "conn = sqlite3.connect('ecommerce.db')\n",
    "cursor = conn.cursor()\n"
   ]
  },
  {
   "cell_type": "markdown",
   "id": "eb0e00ba-b139-4018-b514-78fd44c44168",
   "metadata": {},
   "source": [
    "## Loading and Exploring the dataset, there are 9 files, starting with the most relevent ones for understanding sales data"
   ]
  },
  {
   "cell_type": "markdown",
   "id": "b8453c82-5746-4f25-84ed-de3cbbb9e6dd",
   "metadata": {},
   "source": [
    "### Why Focus on These Files?\n",
    "\n",
    "Orders: The backbone of sales data, showing what was ordered and when.\n",
    "\n",
    "Order Items: Details what was sold and at what price.\n",
    "\n",
    "Products: Adds context with product categories."
   ]
  },
  {
   "cell_type": "code",
   "execution_count": 4,
   "id": "1a6f5f42-80c8-4faf-b48b-aac9740677f5",
   "metadata": {},
   "outputs": [],
   "source": [
    "orders = pd.read_csv('olist_orders_dataset.csv')\n",
    "order_items = pd.read_csv('olist_order_items_dataset.csv')\n",
    "products = pd.read_csv('olist_products_dataset.csv')"
   ]
  },
  {
   "cell_type": "code",
   "execution_count": 6,
   "id": "f3045dbf-3d5b-4737-b0bc-653d595ea631",
   "metadata": {},
   "outputs": [
    {
     "name": "stdout",
     "output_type": "stream",
     "text": [
      "                           order_id                       customer_id  \\\n",
      "0  e481f51cbdc54678b7cc49136f2d6af7  9ef432eb6251297304e76186b10a928d   \n",
      "1  53cdb2fc8bc7dce0b6741e2150273451  b0830fb4747a6c6d20dea0b8c802d7ef   \n",
      "2  47770eb9100c2d0c44946d9cf07ec65d  41ce2a54c0b03bf3443c3d931a367089   \n",
      "3  949d5b44dbf5de918fe9c16f97b45f8a  f88197465ea7920adcdbec7375364d82   \n",
      "4  ad21c59c0840e6cb83a9ceb5573f8159  8ab97904e6daea8866dbdbc4fb7aad2c   \n",
      "\n",
      "  order_status order_purchase_timestamp    order_approved_at  \\\n",
      "0    delivered      2017-10-02 10:56:33  2017-10-02 11:07:15   \n",
      "1    delivered      2018-07-24 20:41:37  2018-07-26 03:24:27   \n",
      "2    delivered      2018-08-08 08:38:49  2018-08-08 08:55:23   \n",
      "3    delivered      2017-11-18 19:28:06  2017-11-18 19:45:59   \n",
      "4    delivered      2018-02-13 21:18:39  2018-02-13 22:20:29   \n",
      "\n",
      "  order_delivered_carrier_date order_delivered_customer_date  \\\n",
      "0          2017-10-04 19:55:00           2017-10-10 21:25:13   \n",
      "1          2018-07-26 14:31:00           2018-08-07 15:27:45   \n",
      "2          2018-08-08 13:50:00           2018-08-17 18:06:29   \n",
      "3          2017-11-22 13:39:59           2017-12-02 00:28:42   \n",
      "4          2018-02-14 19:46:34           2018-02-16 18:17:02   \n",
      "\n",
      "  order_estimated_delivery_date  \n",
      "0           2017-10-18 00:00:00  \n",
      "1           2018-08-13 00:00:00  \n",
      "2           2018-09-04 00:00:00  \n",
      "3           2017-12-15 00:00:00  \n",
      "4           2018-02-26 00:00:00  \n",
      "                           order_id  order_item_id  \\\n",
      "0  00010242fe8c5a6d1ba2dd792cb16214              1   \n",
      "1  00018f77f2f0320c557190d7a144bdd3              1   \n",
      "2  000229ec398224ef6ca0657da4fc703e              1   \n",
      "3  00024acbcdf0a6daa1e931b038114c75              1   \n",
      "4  00042b26cf59d7ce69dfabb4e55b4fd9              1   \n",
      "\n",
      "                         product_id                         seller_id  \\\n",
      "0  4244733e06e7ecb4970a6e2683c13e61  48436dade18ac8b2bce089ec2a041202   \n",
      "1  e5f2d52b802189ee658865ca93d83a8f  dd7ddc04e1b6c2c614352b383efe2d36   \n",
      "2  c777355d18b72b67abbeef9df44fd0fd  5b51032eddd242adc84c38acab88f23d   \n",
      "3  7634da152a4610f1595efa32f14722fc  9d7a1d34a5052409006425275ba1c2b4   \n",
      "4  ac6c3623068f30de03045865e4e10089  df560393f3a51e74553ab94004ba5c87   \n",
      "\n",
      "   shipping_limit_date   price  freight_value  \n",
      "0  2017-09-19 09:45:35   58.90          13.29  \n",
      "1  2017-05-03 11:05:13  239.90          19.93  \n",
      "2  2018-01-18 14:48:30  199.00          17.87  \n",
      "3  2018-08-15 10:10:18   12.99          12.79  \n",
      "4  2017-02-13 13:57:51  199.90          18.14  \n",
      "                         product_id  product_category_name  \\\n",
      "0  1e9e8ef04dbcff4541ed26657ea517e5             perfumaria   \n",
      "1  3aa071139cb16b67ca9e5dea641aaa2f                  artes   \n",
      "2  96bd76ec8810374ed1b65e291975717f          esporte_lazer   \n",
      "3  cef67bcfe19066a932b7673e239eb23d                  bebes   \n",
      "4  9dc1a7de274444849c219cff195d0b71  utilidades_domesticas   \n",
      "\n",
      "   product_name_lenght  product_description_lenght  product_photos_qty  \\\n",
      "0                 40.0                       287.0                 1.0   \n",
      "1                 44.0                       276.0                 1.0   \n",
      "2                 46.0                       250.0                 1.0   \n",
      "3                 27.0                       261.0                 1.0   \n",
      "4                 37.0                       402.0                 4.0   \n",
      "\n",
      "   product_weight_g  product_length_cm  product_height_cm  product_width_cm  \n",
      "0             225.0               16.0               10.0              14.0  \n",
      "1            1000.0               30.0               18.0              20.0  \n",
      "2             154.0               18.0                9.0              15.0  \n",
      "3             371.0               26.0                4.0              26.0  \n",
      "4             625.0               20.0               17.0              13.0  \n"
     ]
    }
   ],
   "source": [
    "print(orders.head())\n",
    "print(order_items.head())\n",
    "print(products.head())"
   ]
  },
  {
   "cell_type": "code",
   "execution_count": 8,
   "id": "ee3e3cb0-79f3-4631-88e3-6352cc99a43d",
   "metadata": {},
   "outputs": [
    {
     "name": "stdout",
     "output_type": "stream",
     "text": [
      "<class 'pandas.core.frame.DataFrame'>\n",
      "RangeIndex: 99441 entries, 0 to 99440\n",
      "Data columns (total 8 columns):\n",
      " #   Column                         Non-Null Count  Dtype \n",
      "---  ------                         --------------  ----- \n",
      " 0   order_id                       99441 non-null  object\n",
      " 1   customer_id                    99441 non-null  object\n",
      " 2   order_status                   99441 non-null  object\n",
      " 3   order_purchase_timestamp       99441 non-null  object\n",
      " 4   order_approved_at              99281 non-null  object\n",
      " 5   order_delivered_carrier_date   97658 non-null  object\n",
      " 6   order_delivered_customer_date  96476 non-null  object\n",
      " 7   order_estimated_delivery_date  99441 non-null  object\n",
      "dtypes: object(8)\n",
      "memory usage: 6.1+ MB\n",
      "None\n",
      "<class 'pandas.core.frame.DataFrame'>\n",
      "RangeIndex: 112650 entries, 0 to 112649\n",
      "Data columns (total 7 columns):\n",
      " #   Column               Non-Null Count   Dtype  \n",
      "---  ------               --------------   -----  \n",
      " 0   order_id             112650 non-null  object \n",
      " 1   order_item_id        112650 non-null  int64  \n",
      " 2   product_id           112650 non-null  object \n",
      " 3   seller_id            112650 non-null  object \n",
      " 4   shipping_limit_date  112650 non-null  object \n",
      " 5   price                112650 non-null  float64\n",
      " 6   freight_value        112650 non-null  float64\n",
      "dtypes: float64(2), int64(1), object(4)\n",
      "memory usage: 6.0+ MB\n",
      "None\n",
      "<class 'pandas.core.frame.DataFrame'>\n",
      "RangeIndex: 32951 entries, 0 to 32950\n",
      "Data columns (total 9 columns):\n",
      " #   Column                      Non-Null Count  Dtype  \n",
      "---  ------                      --------------  -----  \n",
      " 0   product_id                  32951 non-null  object \n",
      " 1   product_category_name       32341 non-null  object \n",
      " 2   product_name_lenght         32341 non-null  float64\n",
      " 3   product_description_lenght  32341 non-null  float64\n",
      " 4   product_photos_qty          32341 non-null  float64\n",
      " 5   product_weight_g            32949 non-null  float64\n",
      " 6   product_length_cm           32949 non-null  float64\n",
      " 7   product_height_cm           32949 non-null  float64\n",
      " 8   product_width_cm            32949 non-null  float64\n",
      "dtypes: float64(7), object(2)\n",
      "memory usage: 2.3+ MB\n",
      "None\n"
     ]
    }
   ],
   "source": [
    "print(orders.info())\n",
    "print(order_items.info())\n",
    "print(products.info())"
   ]
  },
  {
   "cell_type": "markdown",
   "id": "fd3fd98e-a672-400f-8f6e-fca13b0a26f8",
   "metadata": {},
   "source": [
    "### Dataset Structure Observations\n",
    "#### Orders (99,441 rows, 8 columns)\n",
    "- Timestamps are strings, need to convert to datetime.\n",
    "- Missing values in delivery columns: 2,965 orders lack delivery date.\n",
    "- Most orders are 'delivered'.\n",
    "\n",
    "#### Order Items (112,650 rows, 7 columns)\n",
    "- No missing values.\n",
    "- Price and freight value are numeric, ready for calculations.\n",
    "- Each row represents one item per order (order_item_id=1 in sample).\n",
    "\n",
    "#### Products (32,951 rows, 9 columns)\n",
    "- 610 products missing category and description details.\n",
    "- Categories in Portuguese, need translation.\n",
    "- Dimensions vary, useful for shipping analysis.\n",
    "  "
   ]
  },
  {
   "cell_type": "markdown",
   "id": "ceeb076a-729a-469a-8a2d-72c3b2a53243",
   "metadata": {},
   "source": [
    "### Identify Key Relationships:\n",
    "#### From the .head() outputs, we can see:\n",
    "order_id links orders and order_items (e.g., order_id in orders matches order_id in order_items).\n",
    "product_id connects order_items and products (e.g., product_id in order_items matches product_id in products)."
   ]
  },
  {
   "cell_type": "markdown",
   "id": "49cfa78a-f827-4ead-b939-7f6c8cad97ba",
   "metadata": {},
   "source": [
    "### Merge Datasets"
   ]
  },
  {
   "cell_type": "code",
   "execution_count": 13,
   "id": "17796e5e-4e3a-4871-902a-56a95116a517",
   "metadata": {},
   "outputs": [
    {
     "name": "stdout",
     "output_type": "stream",
     "text": [
      "                           order_id                        product_id  \\\n",
      "0  00010242fe8c5a6d1ba2dd792cb16214  4244733e06e7ecb4970a6e2683c13e61   \n",
      "1  00018f77f2f0320c557190d7a144bdd3  e5f2d52b802189ee658865ca93d83a8f   \n",
      "2  000229ec398224ef6ca0657da4fc703e  c777355d18b72b67abbeef9df44fd0fd   \n",
      "3  00024acbcdf0a6daa1e931b038114c75  7634da152a4610f1595efa32f14722fc   \n",
      "4  00042b26cf59d7ce69dfabb4e55b4fd9  ac6c3623068f30de03045865e4e10089   \n",
      "\n",
      "  product_category_name   price  \n",
      "0            cool_stuff   58.90  \n",
      "1              pet_shop  239.90  \n",
      "2      moveis_decoracao  199.00  \n",
      "3            perfumaria   12.99  \n",
      "4    ferramentas_jardim  199.90  \n"
     ]
    }
   ],
   "source": [
    "### Merge order_items with products to get product details for each item sold:\n",
    "\n",
    "items_with_products = pd.merge(order_items, products, on='product_id')\n",
    "print(items_with_products[['order_id', 'product_id', 'product_category_name', 'price']].head())\n"
   ]
  },
  {
   "cell_type": "code",
   "execution_count": 15,
   "id": "20e525e8-ecc1-46a4-9057-ed9db20b8d4f",
   "metadata": {},
   "outputs": [
    {
     "name": "stdout",
     "output_type": "stream",
     "text": [
      "                           order_id product_category_name   price order_status\n",
      "0  00010242fe8c5a6d1ba2dd792cb16214            cool_stuff   58.90    delivered\n",
      "1  00018f77f2f0320c557190d7a144bdd3              pet_shop  239.90    delivered\n",
      "2  000229ec398224ef6ca0657da4fc703e      moveis_decoracao  199.00    delivered\n",
      "3  00024acbcdf0a6daa1e931b038114c75            perfumaria   12.99    delivered\n",
      "4  00042b26cf59d7ce69dfabb4e55b4fd9    ferramentas_jardim  199.90    delivered\n"
     ]
    }
   ],
   "source": [
    "### Merge the result with orders to include order details:\n",
    "\n",
    "sales_data = pd.merge(items_with_products, orders, on='order_id')\n",
    "print(sales_data[['order_id', 'product_category_name', 'price', 'order_status']].head())"
   ]
  },
  {
   "cell_type": "markdown",
   "id": "adef376b-54dc-43c5-b278-2e44e0249025",
   "metadata": {},
   "source": [
    "### Dataset Relationships\n",
    "- `orders` and `order_items` are linked by `order_id`.\n",
    "- `order_items` and `products` are linked by `product_id`.\n",
    "- Merged all three datasets to create a `sales_data` DataFrame for analysis."
   ]
  },
  {
   "cell_type": "code",
   "execution_count": 40,
   "id": "0a15337b-ba20-45f8-b8c7-b85904c4d5ef",
   "metadata": {
    "collapsed": true,
    "jupyter": {
     "outputs_hidden": true
    }
   },
   "outputs": [
    {
     "name": "stdout",
     "output_type": "stream",
     "text": [
      "\u001b[34m==>\u001b[0m \u001b[1mAuto-updating Homebrew...\u001b[0m\n",
      "Adjust how often this is run with HOMEBREW_AUTO_UPDATE_SECS or disable with\n",
      "HOMEBREW_NO_AUTO_UPDATE. Hide these hints with HOMEBREW_NO_ENV_HINTS (see `man brew`).\n",
      "\u001b[34m==>\u001b[0m \u001b[1mAuto-updated Homebrew!\u001b[0m\n",
      "Updated 3 taps (homebrew/services, homebrew/core and homebrew/cask).\n",
      "\u001b[34m==>\u001b[0m \u001b[1mNew Formulae\u001b[0m\n",
      "adaptivecpp                              icu4c@77\n",
      "alloy                                    is-fast\n",
      "anubis                                   jaguar\n",
      "anyquery                                 keyutils\n",
      "block-goose-cli                          krep\n",
      "cargo-sort                               ktexttemplate\n",
      "cargo-spellcheck                         lavat\n",
      "cpp-lazy                                 leetgo\n",
      "darklua                                  libgoa\n",
      "decompose                                libgudev\n",
      "dish                                     lld@19\n",
      "dockcheck                                llvm@19\n",
      "easyeda2kicad                            lume\n",
      "ente-cli                                 mcpm\n",
      "excalidraw-converter                     mob\n",
      "fabric-ai                                nmstatectl\n",
      "falcosecurity-libs                       node-red\n",
      "fiona                                    physunits\n",
      "fortran-stdlib                           projectable\n",
      "gama                                     protobuf@29\n",
      "gamdl                                    ra-multiplex\n",
      "gcr                                      rasterio\n",
      "gdown                                    shuttle\n",
      "geesefs                                  statesmith\n",
      "git-graph                                terraform-iam-policy-validator\n",
      "git-who                                  umockdev\n",
      "gnome-online-accounts                    veccore\n",
      "grafana-alloy                            x-cmd\n",
      "gtree                                    xan\n",
      "gut                                      yalantinglibs\n",
      "harsh                                    yutu\n",
      "hjson                                    zlib-rs\n",
      "\u001b[34m==>\u001b[0m \u001b[1mNew Casks\u001b[0m\n",
      "ace-studio                               grayjay\n",
      "advanced-renamer                         hamrs-pro\n",
      "agent-tars                               hy-rpe2\n",
      "atv-remote                               inmusic-software-center\n",
      "bambu-connect                            irpf2025\n",
      "beutl                                    k6-studio\n",
      "captainplugins                           kate\n",
      "charles@4                                kilohearts-installer\n",
      "chime@alpha                              moment\n",
      "chordpotion                              mouseless@preview\n",
      "coterm                                   nethlink\n",
      "earnapp                                  pastenow\n",
      "font-lxgw-wenkai-gb-lite                 qobuz-downloader\n",
      "font-maple-mono-normal                   qt-design-studio\n",
      "font-maple-mono-normal-cn                rave\n",
      "font-maple-mono-normal-nf                restapia\n",
      "font-maple-mono-normal-nf-cn             slidepad\n",
      "font-playpen-sans-arabic                 stability-matrix\n",
      "font-playpen-sans-deva                   swift-shift\n",
      "font-playpen-sans-hebrew                 tal-drum\n",
      "font-playpen-sans-thai                   thelowtechguys-cling\n",
      "font-pretendard-gov                      triliumnext-notes\n",
      "font-special-gothic                      vesktop\n",
      "font-webdings                            voiceink\n",
      "font-winky-rough\n",
      "\n",
      "You have \u001b[1m3\u001b[0m outdated formulae installed.\n",
      "\n",
      "\u001b[33mWarning:\u001b[0m sqlite 3.49.1 is already installed and up-to-date.\n",
      "To reinstall 3.49.1, run:\n",
      "  brew reinstall sqlite\n"
     ]
    }
   ],
   "source": [
    "!brew install sqlite"
   ]
  },
  {
   "cell_type": "code",
   "execution_count": 44,
   "id": "6ce22351-b0b0-4023-b58b-7a0d4f8ac31e",
   "metadata": {
    "collapsed": true,
    "jupyter": {
     "outputs_hidden": true
    },
    "scrolled": true
   },
   "outputs": [
    {
     "name": "stdout",
     "output_type": "stream",
     "text": [
      "\u001b[34m==>\u001b[0m \u001b[1mDownloading https://ghcr.io/v2/homebrew/core/sqlite/manifests/3.49.1\u001b[0m\n",
      "Already downloaded: /Users/ankitchoubey/Library/Caches/Homebrew/downloads/ce3cf24bf33f0eff2d169e046ba5da3ec75ab9fe0439e7b7face44f42e033fcb--sqlite-3.49.1.bottle_manifest.json\n",
      "\u001b[32m==>\u001b[0m \u001b[1mFetching \u001b[32msqlite\u001b[39m\u001b[0m\n",
      "\u001b[34m==>\u001b[0m \u001b[1mDownloading https://ghcr.io/v2/homebrew/core/sqlite/blobs/sha256:e716021f048\u001b[0m\n",
      "Already downloaded: /Users/ankitchoubey/Library/Caches/Homebrew/downloads/c10387eb2d8cbb3a6d934bd01b19fccd08c401be3d0f629dbe0ba4364d8b040e--sqlite--3.49.1.sequoia.bottle.tar.gz\n",
      "\u001b[32m==>\u001b[0m \u001b[1mReinstalling \u001b[32msqlite\u001b[39m \u001b[0m\n",
      "\u001b[34m==>\u001b[0m \u001b[1mPouring sqlite--3.49.1.sequoia.bottle.tar.gz\u001b[0m\n",
      "🍺  /usr/local/Cellar/sqlite/3.49.1: 13 files, 4.6MB\n",
      "\u001b[34m==>\u001b[0m \u001b[1mRunning `brew cleanup sqlite`...\u001b[0m\n",
      "Disable this behaviour by setting HOMEBREW_NO_INSTALL_CLEANUP.\n",
      "Hide these hints with HOMEBREW_NO_ENV_HINTS (see `man brew`).\n"
     ]
    }
   ],
   "source": [
    "!brew reinstall sqlite"
   ]
  },
  {
   "cell_type": "code",
   "execution_count": 50,
   "id": "1f230a4e-13ef-4d74-929e-d8500f5244c7",
   "metadata": {},
   "outputs": [
    {
     "name": "stdout",
     "output_type": "stream",
     "text": [
      "3.45.3 2024-04-15 13:34:05 8653b758870e6ef0c98d46b3ace27849054af85da891eb121e9aaa537f1e8355 (64-bit)\n"
     ]
    }
   ],
   "source": [
    "!sqlite3 --version"
   ]
  },
  {
   "cell_type": "markdown",
   "id": "e9bdc646-8b17-413b-a537-1fc8af1253b7",
   "metadata": {},
   "source": [
    "## Data Manipulation"
   ]
  },
  {
   "cell_type": "code",
   "execution_count": 18,
   "id": "9b524139-007e-4856-9325-8b0f46386de9",
   "metadata": {},
   "outputs": [
    {
     "data": {
      "text/plain": [
       "100"
      ]
     },
     "execution_count": 18,
     "metadata": {},
     "output_type": "execute_result"
    }
   ],
   "source": [
    "products_sample = products.head(100)\n",
    "products_sample.to_sql('products', conn, if_exists='replace', index=False)"
   ]
  },
  {
   "cell_type": "code",
   "execution_count": 20,
   "id": "4b301b0e-1a39-40b8-b539-27fa419da046",
   "metadata": {},
   "outputs": [],
   "source": [
    "cursor = conn.cursor()  ### Cursor to execute queries"
   ]
  },
  {
   "cell_type": "code",
   "execution_count": 22,
   "id": "9616712c-3f34-43d9-9be1-8cdeb587e73e",
   "metadata": {},
   "outputs": [
    {
     "name": "stdout",
     "output_type": "stream",
     "text": [
      "[('1e9e8ef04dbcff4541ed26657ea517e5', 'perfumaria', 40.0, 287.0, 1.0, 225.0, 16.0, 10.0, 14.0), ('3aa071139cb16b67ca9e5dea641aaa2f', 'artes', 44.0, 276.0, 1.0, 1000.0, 30.0, 18.0, 20.0), ('96bd76ec8810374ed1b65e291975717f', 'esporte_lazer', 46.0, 250.0, 1.0, 154.0, 18.0, 9.0, 15.0), ('cef67bcfe19066a932b7673e239eb23d', 'bebes', 27.0, 261.0, 1.0, 371.0, 26.0, 4.0, 26.0), ('9dc1a7de274444849c219cff195d0b71', 'utilidades_domesticas', 37.0, 402.0, 4.0, 625.0, 20.0, 17.0, 13.0)]\n"
     ]
    }
   ],
   "source": [
    "cursor.execute(\"SELECT * FROM products LIMIT 5\")\n",
    "print(cursor.fetchall())"
   ]
  },
  {
   "cell_type": "code",
   "execution_count": 24,
   "id": "43e7a6eb-a609-4fce-a6da-4502afeaaf7f",
   "metadata": {},
   "outputs": [
    {
     "name": "stdout",
     "output_type": "stream",
     "text": [
      "[('9dc1a7de274444849c219cff195d0b71', 'utilidades_domesticas'), ('732bd381ad09e530fe0a5f457d81becb', 'cool_stuff'), ('03b63c5fc16691530586ae020c345514', 'bebes'), ('cf55509ea8edaaac1d28fdb16e48fc22', 'instrumentos_musicais'), ('eb31436580a610f202c859463d8c7415', 'construcao_ferramentas_seguranca'), ('1c1890ba1779090cd54008a3c3302921', 'moveis_decoracao'), ('e3e020af31d4d89d2602272b315c3f6e', 'beleza_saude'), ('f6574524b07d5bb753bab6f35abe2d06', 'malas_acessorios'), ('e1d1d22e9f8122a4ec1533b032c12562', 'ferramentas_jardim'), ('ce5b91848b91118daffb3af53b747475', 'esporte_lazer'), ('5370b82a213393979691c98074265584', 'bebes'), ('db46052aed7dff59ba38cf2fe29b87f9', 'cama_mesa_banho'), ('b864b103180d5a6a3f830e67f93e8735', 'bebes'), ('83b9bc6aae6f527ff6aafb9e01d6cbf3', 'brinquedos'), ('5f504b3a1c75b73d6151be81eb05bdc9', 'cool_stuff'), ('5eaa343860dc445b3fd43d1b682809fd', 'esporte_lazer'), ('3fcd8dfe610c62edfb51de2630cd9ef4', 'bebes'), ('1065dbb6b0bf03daaedab1236979e296', 'papelaria'), ('0d826eba8e0a2ae3bca9e3a947dd756d', 'brinquedos'), ('22937a73f92a33040ab4e2540355a5d8', 'fashion_bolsas_e_acessorios'), ('94080f9219044d897195e2be145945dc', 'automotivo'), ('575c38b4c88fc7b35ef22fc8312bfe1b', 'cool_stuff'), ('e586ebb6022265ae1eea38f46ffe3ead', 'beleza_saude'), ('278b3c6462e86b4556b99989513ddf73', 'eletroportateis'), ('2734390ee304b0f4817b3c233094fc16', 'instrumentos_musicais'), ('7f34b85142d1ef9e077a0da9ada27385', 'moveis_decoracao'), ('adf591c625cb265c12bc6749d3a2f757', 'beleza_saude'), ('3e0f398b664b26e3224c79dbf435191f', 'esporte_lazer'), ('e6a1ff3552ba3305c1cf0a4dde50347f', 'automotivo')]\n"
     ]
    }
   ],
   "source": [
    "# Query 2: Select specific columns\n",
    "cursor.execute(\"SELECT product_id, product_category_name FROM products WHERE product_photos_qty > 2\")\n",
    "print(cursor.fetchall())"
   ]
  },
  {
   "cell_type": "code",
   "execution_count": 26,
   "id": "4b6eff42-a4c9-408f-804e-97d8fac900f1",
   "metadata": {},
   "outputs": [
    {
     "name": "stdout",
     "output_type": "stream",
     "text": [
      "[('agro_industria_e_comercio', 1), ('artes', 1), ('automotivo', 5), ('bebes', 6), ('beleza_saude', 8), ('brinquedos', 4), ('cama_mesa_banho', 9), ('casa_construcao', 1), ('construcao_ferramentas_construcao', 1), ('construcao_ferramentas_seguranca', 1), ('cool_stuff', 6), ('eletrodomesticos', 1), ('eletronicos', 1), ('eletroportateis', 1), ('esporte_lazer', 9), ('fashion_bolsas_e_acessorios', 1), ('fashion_calcados', 1), ('ferramentas_jardim', 3), ('informatica_acessorios', 4), ('instrumentos_musicais', 3), ('malas_acessorios', 2), ('moveis_decoracao', 12), ('moveis_escritorio', 1), ('papelaria', 4), ('pcs', 1), ('perfumaria', 4), ('pet_shop', 1), ('relogios_presentes', 3), ('telefonia', 2), ('utilidades_domesticas', 3)]\n"
     ]
    }
   ],
   "source": [
    "# Query 3: Count products by category\n",
    "cursor.execute(\"SELECT product_category_name, COUNT(*) FROM products GROUP BY product_category_name\")\n",
    "print(cursor.fetchall())"
   ]
  },
  {
   "cell_type": "markdown",
   "id": "28f980aa-469a-4a21-9abd-e64c773c7bf1",
   "metadata": {},
   "source": [
    "### SQL Practice\n",
    "- `SELECT * FROM products LIMIT 5`: Fetches first 5 rows.\n",
    "- `SELECT product_id, product_category_name WHERE product_photos_qty > 2`: Filters products with more than 2 photos.\n",
    "- `SELECT product_category_name, COUNT(*) GROUP BY product_category_name`: Counts products per category."
   ]
  },
  {
   "cell_type": "markdown",
   "id": "f133c94c-114d-4756-b323-4b60518859a8",
   "metadata": {},
   "source": [
    "### Explore Relationships Between Datasets with Pandas"
   ]
  },
  {
   "cell_type": "code",
   "execution_count": 30,
   "id": "160b5662-7478-48ae-80f1-78e6f47cfb1a",
   "metadata": {},
   "outputs": [
    {
     "name": "stdout",
     "output_type": "stream",
     "text": [
      "                           order_id                        product_id  \\\n",
      "0  00010242fe8c5a6d1ba2dd792cb16214  4244733e06e7ecb4970a6e2683c13e61   \n",
      "1  00018f77f2f0320c557190d7a144bdd3  e5f2d52b802189ee658865ca93d83a8f   \n",
      "2  000229ec398224ef6ca0657da4fc703e  c777355d18b72b67abbeef9df44fd0fd   \n",
      "3  00024acbcdf0a6daa1e931b038114c75  7634da152a4610f1595efa32f14722fc   \n",
      "4  00042b26cf59d7ce69dfabb4e55b4fd9  ac6c3623068f30de03045865e4e10089   \n",
      "\n",
      "  product_category_name   price  \n",
      "0            cool_stuff   58.90  \n",
      "1              pet_shop  239.90  \n",
      "2      moveis_decoracao  199.00  \n",
      "3            perfumaria   12.99  \n",
      "4    ferramentas_jardim  199.90  \n"
     ]
    }
   ],
   "source": [
    "## Merge 'order_items' with 'products' to get product details for each item sold:\n",
    "items_with_products = pd.merge(order_items, products, on='product_id')\n",
    "print(items_with_products[['order_id', 'product_id', 'product_category_name', 'price']].head())"
   ]
  },
  {
   "cell_type": "code",
   "execution_count": 32,
   "id": "b5171297-f218-4c48-9050-fb145d2bd648",
   "metadata": {},
   "outputs": [
    {
     "name": "stdout",
     "output_type": "stream",
     "text": [
      "                           order_id product_category_name   price order_status\n",
      "0  00010242fe8c5a6d1ba2dd792cb16214            cool_stuff   58.90    delivered\n",
      "1  00018f77f2f0320c557190d7a144bdd3              pet_shop  239.90    delivered\n",
      "2  000229ec398224ef6ca0657da4fc703e      moveis_decoracao  199.00    delivered\n",
      "3  00024acbcdf0a6daa1e931b038114c75            perfumaria   12.99    delivered\n",
      "4  00042b26cf59d7ce69dfabb4e55b4fd9    ferramentas_jardim  199.90    delivered\n"
     ]
    }
   ],
   "source": [
    "### Merge the result with orders to include order details\n",
    "\n",
    "sales_data = pd.merge(items_with_products, orders, on='order_id')\n",
    "print(sales_data[['order_id', 'product_category_name', 'price', 'order_status']].head())"
   ]
  },
  {
   "cell_type": "markdown",
   "id": "b18b87b9-15e5-446b-babd-5a337cdea9d1",
   "metadata": {},
   "source": [
    "#### Basic Analysis"
   ]
  },
  {
   "cell_type": "code",
   "execution_count": 35,
   "id": "16333714-2186-407b-a58a-0b5aa7a14a81",
   "metadata": {},
   "outputs": [
    {
     "name": "stdout",
     "output_type": "stream",
     "text": [
      "product_category_name\n",
      "beleza_saude              1258681.34\n",
      "relogios_presentes        1205005.68\n",
      "cama_mesa_banho           1036988.68\n",
      "esporte_lazer              988048.97\n",
      "informatica_acessorios     911954.32\n",
      "Name: price, dtype: float64\n"
     ]
    }
   ],
   "source": [
    "revenue_by_category = sales_data.groupby('product_category_name')['price'].sum().sort_values(ascending=False)\n",
    "print(revenue_by_category.head())"
   ]
  },
  {
   "cell_type": "code",
   "execution_count": 37,
   "id": "75d2f8e1-efc3-461f-b2b2-8ec4c9dd7fe5",
   "metadata": {},
   "outputs": [
    {
     "name": "stdout",
     "output_type": "stream",
     "text": [
      "order_status\n",
      "delivered      110197\n",
      "shipped          1185\n",
      "canceled          542\n",
      "invoiced          359\n",
      "processing        357\n",
      "unavailable         7\n",
      "approved            3\n",
      "Name: count, dtype: int64\n"
     ]
    }
   ],
   "source": [
    "print(sales_data['order_status'].value_counts())"
   ]
  },
  {
   "cell_type": "markdown",
   "id": "fad20411-1f41-44f6-9ded-915c74c371e5",
   "metadata": {},
   "source": [
    "### Dataset Relationships\n",
    "- Merged `order_items` with `products` on `product_id`.\n",
    "- Merged with `orders` on `order_id`.\n",
    "- Top revenue categories: [list top 5 from output].\n",
    "- Most orders are 'delivered'."
   ]
  },
  {
   "cell_type": "code",
   "execution_count": 40,
   "id": "b8f250c6-fba1-4506-85dc-9cef25b2b394",
   "metadata": {},
   "outputs": [
    {
     "name": "stdout",
     "output_type": "stream",
     "text": [
      "                           order_id product_category_name   price\n",
      "1  00018f77f2f0320c557190d7a144bdd3              pet_shop  239.90\n",
      "2  000229ec398224ef6ca0657da4fc703e      moveis_decoracao  199.00\n",
      "4  00042b26cf59d7ce69dfabb4e55b4fd9    ferramentas_jardim  199.90\n",
      "7  000576fe39319847cbb9d288c5617fa6    ferramentas_jardim  810.00\n",
      "8  0005a1a1728c9d785b8e2b08b904576c          beleza_saude  145.95\n"
     ]
    }
   ],
   "source": [
    "delivered_expensive = sales_data[(sales_data['order_status']== 'delivered') & (sales_data['price']>100)]\n",
    "print(delivered_expensive[['order_id','product_category_name', 'price']].head())"
   ]
  },
  {
   "cell_type": "markdown",
   "id": "41f43379-3dc1-4ab7-a567-1501c2f5c3c4",
   "metadata": {},
   "source": [
    "### SQL Concepts in Pandas\n",
    "- Filtering: Used `sales_data[(condition)]` to mimic `WHERE`.\n",
    "- Grouping: Used `groupby()` to mimic `GROUP BY`.\n",
    "- Joining: Used `pd.merge()` to mimic `JOIN`."
   ]
  },
  {
   "cell_type": "code",
   "execution_count": 43,
   "id": "ddf36260-64e9-4cbb-9fdc-49c407a74d23",
   "metadata": {},
   "outputs": [],
   "source": [
    "conn.close()"
   ]
  },
  {
   "cell_type": "markdown",
   "id": "beed2773-cfe3-4e29-ab86-eb10ab1cc75e",
   "metadata": {},
   "source": [
    "### Day 1 Summary\n",
    "- Explored `orders`, `order_items`, and `products` datasets.\n",
    "- Installed SQLite and practiced basic SQL queries.\n",
    "- Merged datasets and analyzed revenue by category.\n",
    "- Next: Clean data and build ETL pipeline."
   ]
  },
  {
   "cell_type": "markdown",
   "id": "7079e683-70ef-49d7-8285-533d61780bbb",
   "metadata": {},
   "source": [
    "### Added work "
   ]
  },
  {
   "cell_type": "code",
   "execution_count": 47,
   "id": "40146ca5-a499-466b-b715-ca4fbfa4de3c",
   "metadata": {},
   "outputs": [],
   "source": [
    "import sqlite3\n",
    "conn = sqlite3.connect('ecommerce.db')  # Use your database name\n",
    "cursor = conn.cursor()"
   ]
  },
  {
   "cell_type": "code",
   "execution_count": 49,
   "id": "f654a684-8c28-4321-a6d5-8dfe73ab07c9",
   "metadata": {
    "collapsed": true,
    "jupyter": {
     "outputs_hidden": true
    }
   },
   "outputs": [
    {
     "ename": "OperationalError",
     "evalue": "table simple_orders already exists",
     "output_type": "error",
     "traceback": [
      "\u001b[0;31m---------------------------------------------------------------------------\u001b[0m",
      "\u001b[0;31mOperationalError\u001b[0m                          Traceback (most recent call last)",
      "Cell \u001b[0;32mIn[49], line 2\u001b[0m\n\u001b[1;32m      1\u001b[0m \u001b[38;5;66;03m### create simple_orders table\u001b[39;00m\n\u001b[0;32m----> 2\u001b[0m cursor\u001b[38;5;241m.\u001b[39mexecute(\u001b[38;5;124m'''\u001b[39m\u001b[38;5;124mCREATE TABLE simple_orders (\u001b[39m\n\u001b[1;32m      3\u001b[0m \u001b[38;5;124m                    order_id TEXT PRIMARY KEY,\u001b[39m\n\u001b[1;32m      4\u001b[0m \u001b[38;5;124m                    customer_id TEXT,\u001b[39m\n\u001b[1;32m      5\u001b[0m \u001b[38;5;124m                    Total_value REAL\u001b[39m\n\u001b[1;32m      6\u001b[0m \u001b[38;5;124m    )\u001b[39m\n\u001b[1;32m      7\u001b[0m \u001b[38;5;124m'''\u001b[39m)\n",
      "\u001b[0;31mOperationalError\u001b[0m: table simple_orders already exists"
     ]
    }
   ],
   "source": [
    "### create simple_orders table\n",
    "cursor.execute('''CREATE TABLE simple_orders (\n",
    "                    order_id TEXT PRIMARY KEY,\n",
    "                    customer_id TEXT,\n",
    "                    Total_value REAL\n",
    "    )\n",
    "''')"
   ]
  },
  {
   "cell_type": "code",
   "execution_count": 51,
   "id": "23a3751f-83c8-4e34-ace3-c282716aef3f",
   "metadata": {
    "collapsed": true,
    "jupyter": {
     "outputs_hidden": true
    }
   },
   "outputs": [
    {
     "ename": "IntegrityError",
     "evalue": "UNIQUE constraint failed: simple_orders.order_id",
     "output_type": "error",
     "traceback": [
      "\u001b[0;31m---------------------------------------------------------------------------\u001b[0m",
      "\u001b[0;31mIntegrityError\u001b[0m                            Traceback (most recent call last)",
      "Cell \u001b[0;32mIn[51], line 1\u001b[0m\n\u001b[0;32m----> 1\u001b[0m cursor\u001b[38;5;241m.\u001b[39mexecute(\u001b[38;5;124m\"\u001b[39m\u001b[38;5;124mINSERT INTO simple_orders VALUES (\u001b[39m\u001b[38;5;124m'\u001b[39m\u001b[38;5;124mORD001\u001b[39m\u001b[38;5;124m'\u001b[39m\u001b[38;5;124m, \u001b[39m\u001b[38;5;124m'\u001b[39m\u001b[38;5;124mCUST001\u001b[39m\u001b[38;5;124m'\u001b[39m\u001b[38;5;124m, 202.33)\u001b[39m\u001b[38;5;124m\"\u001b[39m)\n\u001b[1;32m      2\u001b[0m cursor\u001b[38;5;241m.\u001b[39mexecute(\u001b[38;5;124m\"\u001b[39m\u001b[38;5;124mINSERT INTO simple_orders VALUES (\u001b[39m\u001b[38;5;124m'\u001b[39m\u001b[38;5;124mORD002\u001b[39m\u001b[38;5;124m'\u001b[39m\u001b[38;5;124m, \u001b[39m\u001b[38;5;124m'\u001b[39m\u001b[38;5;124mCUST002\u001b[39m\u001b[38;5;124m'\u001b[39m\u001b[38;5;124m, 102.43)\u001b[39m\u001b[38;5;124m\"\u001b[39m)\n\u001b[1;32m      3\u001b[0m cursor\u001b[38;5;241m.\u001b[39mexecute(\u001b[38;5;124m\"\u001b[39m\u001b[38;5;124mINSERT INTO simple_orders VALUES (\u001b[39m\u001b[38;5;124m'\u001b[39m\u001b[38;5;124mORD003\u001b[39m\u001b[38;5;124m'\u001b[39m\u001b[38;5;124m, \u001b[39m\u001b[38;5;124m'\u001b[39m\u001b[38;5;124mCUST003\u001b[39m\u001b[38;5;124m'\u001b[39m\u001b[38;5;124m, 293.22)\u001b[39m\u001b[38;5;124m\"\u001b[39m)\n",
      "\u001b[0;31mIntegrityError\u001b[0m: UNIQUE constraint failed: simple_orders.order_id"
     ]
    }
   ],
   "source": [
    "cursor.execute(\"INSERT INTO simple_orders VALUES ('ORD001', 'CUST001', 202.33)\")\n",
    "cursor.execute(\"INSERT INTO simple_orders VALUES ('ORD002', 'CUST002', 102.43)\")\n",
    "cursor.execute(\"INSERT INTO simple_orders VALUES ('ORD003', 'CUST003', 293.22)\")\n",
    "cursor.execute(\"INSERT INTO simple_orders VALUES ('ORD004', 'CUST004', 342.22)\")\n",
    "cursor.execute(\"INSERT INTO simple_orders VALUES ('ORD005', 'CUST005', 167.94)\")\n",
    "conn.commit()"
   ]
  },
  {
   "cell_type": "code",
   "execution_count": 53,
   "id": "cbe8bd56-fd67-42d3-9236-aee7b62729cf",
   "metadata": {},
   "outputs": [
    {
     "name": "stdout",
     "output_type": "stream",
     "text": [
      "[('ORD001', 'CUST001', 202.33), ('ORD002', 'CUST002', 102.43), ('ORD003', 'CUST003', 293.22), ('ORD004', 'CUST004', 342.22), ('ORD005', 'CUST005', 167.94)]\n"
     ]
    }
   ],
   "source": [
    "cursor.execute(\"SELECT * FROM simple_orders\")\n",
    "print(cursor.fetchall())"
   ]
  },
  {
   "cell_type": "code",
   "execution_count": 57,
   "id": "e92cbd71-a335-4c70-8792-d53ba2b91788",
   "metadata": {},
   "outputs": [
    {
     "name": "stdout",
     "output_type": "stream",
     "text": [
      "[('ORD001', 'CUST001', 202.33), ('ORD003', 'CUST003', 293.22), ('ORD004', 'CUST004', 342.22), ('ORD005', 'CUST005', 167.94)]\n"
     ]
    }
   ],
   "source": [
    "cursor.execute(\"SELECT * FROM simple_orders WHERE Total_value > 150\")\n",
    "print(cursor.fetchall())"
   ]
  },
  {
   "cell_type": "markdown",
   "id": "13dfe453-6d24-46fb-876d-b69ce65a0f4d",
   "metadata": {},
   "source": [
    "### SQL Practice: Manual Table\n",
    "- Created `simple_orders` table with columns: `order_id`, `customer_id`, `total_value`.\n",
    "- Inserted 5 sample rows.\n",
    "- Queried all orders and filtered for `total_value > 150`."
   ]
  },
  {
   "cell_type": "markdown",
   "id": "52755a24-472d-4133-875b-5e067ff0c025",
   "metadata": {},
   "source": [
    "## Starting DATA Cleaning:"
   ]
  },
  {
   "cell_type": "code",
   "execution_count": 61,
   "id": "a8de009b-97b5-45b4-abce-9e102243abbc",
   "metadata": {},
   "outputs": [
    {
     "name": "stdout",
     "output_type": "stream",
     "text": [
      "product_category_name            1603\n",
      "product_name_lenght              1603\n",
      "product_description_lenght       1603\n",
      "product_photos_qty               1603\n",
      "product_weight_g                   18\n",
      "product_length_cm                  18\n",
      "product_height_cm                  18\n",
      "product_width_cm                   18\n",
      "order_approved_at                  15\n",
      "order_delivered_carrier_date     1194\n",
      "order_delivered_customer_date    2454\n",
      "dtype: int64\n"
     ]
    }
   ],
   "source": [
    "missing_values = sales_data.isnull().sum()\n",
    "print(missing_values[missing_values > 0])"
   ]
  },
  {
   "cell_type": "markdown",
   "id": "6470bdb3-9c0a-4ba3-bafb-bef7e170f8a2",
   "metadata": {},
   "source": [
    "### Understand the Missing Values\n",
    "The missing values fall into two categories: product details and order delivery information. Notably:\n",
    "\n",
    "The 1,603 missing values in product_category_name, product_name_length, product_description_length, and product_photos_qty occur in the same number, suggesting they likely correspond to the same 1,603 rows (e.g., products with no metadata).\n",
    "\n",
    "The 18 missing values in product_weight_g, product_length_cm, product_height_cm, and product_width_cm also align, indicating a smaller subset of products missing dimension data.\n",
    "\n",
    "Order-related missing values vary significantly, with order_delivered_customer_date having the most (2,454), followed by order_delivered_carrier_date (1,194), and order_approved_at (15), suggesting different reasons for missingness (e.g., undelivered orders or processing delays).\n",
    "\n",
    "Assuming sales_data has a large number of rows (e.g., 112,650 from order_items or 99,441 from orders, based on typical e-commerce datasets like Olist), these missing values represent a small percentage, but they still require careful handling"
   ]
  },
  {
   "cell_type": "code",
   "execution_count": 64,
   "id": "fc360cc5-200e-47de-8ab5-55a713d1255b",
   "metadata": {
    "scrolled": true
   },
   "outputs": [
    {
     "name": "stderr",
     "output_type": "stream",
     "text": [
      "/var/folders/37/nw4lhjzn47zfwxclrvtmx3pr0000gn/T/ipykernel_1537/3385491805.py:1: FutureWarning: A value is trying to be set on a copy of a DataFrame or Series through chained assignment using an inplace method.\n",
      "The behavior will change in pandas 3.0. This inplace method will never work because the intermediate object on which we are setting values always behaves as a copy.\n",
      "\n",
      "For example, when doing 'df[col].method(value, inplace=True)', try using 'df.method({col: value}, inplace=True)' or df[col] = df[col].method(value) instead, to perform the operation inplace on the original object.\n",
      "\n",
      "\n",
      "  sales_data['product_category_name'].fillna('Unknown', inplace=True)\n",
      "/var/folders/37/nw4lhjzn47zfwxclrvtmx3pr0000gn/T/ipykernel_1537/3385491805.py:2: FutureWarning: A value is trying to be set on a copy of a DataFrame or Series through chained assignment using an inplace method.\n",
      "The behavior will change in pandas 3.0. This inplace method will never work because the intermediate object on which we are setting values always behaves as a copy.\n",
      "\n",
      "For example, when doing 'df[col].method(value, inplace=True)', try using 'df.method({col: value}, inplace=True)' or df[col] = df[col].method(value) instead, to perform the operation inplace on the original object.\n",
      "\n",
      "\n",
      "  sales_data['product_name_lenght'].fillna(0, inplace=True)\n",
      "/var/folders/37/nw4lhjzn47zfwxclrvtmx3pr0000gn/T/ipykernel_1537/3385491805.py:3: FutureWarning: A value is trying to be set on a copy of a DataFrame or Series through chained assignment using an inplace method.\n",
      "The behavior will change in pandas 3.0. This inplace method will never work because the intermediate object on which we are setting values always behaves as a copy.\n",
      "\n",
      "For example, when doing 'df[col].method(value, inplace=True)', try using 'df.method({col: value}, inplace=True)' or df[col] = df[col].method(value) instead, to perform the operation inplace on the original object.\n",
      "\n",
      "\n",
      "  sales_data['product_description_lenght'].fillna(0, inplace=True)\n",
      "/var/folders/37/nw4lhjzn47zfwxclrvtmx3pr0000gn/T/ipykernel_1537/3385491805.py:4: FutureWarning: A value is trying to be set on a copy of a DataFrame or Series through chained assignment using an inplace method.\n",
      "The behavior will change in pandas 3.0. This inplace method will never work because the intermediate object on which we are setting values always behaves as a copy.\n",
      "\n",
      "For example, when doing 'df[col].method(value, inplace=True)', try using 'df.method({col: value}, inplace=True)' or df[col] = df[col].method(value) instead, to perform the operation inplace on the original object.\n",
      "\n",
      "\n",
      "  sales_data['product_photos_qty'].fillna(0, inplace=True)\n"
     ]
    }
   ],
   "source": [
    "sales_data['product_category_name'].fillna('Unknown', inplace=True)\n",
    "sales_data['product_name_lenght'].fillna(0, inplace=True)\n",
    "sales_data['product_description_lenght'].fillna(0, inplace=True)\n",
    "sales_data['product_photos_qty'].fillna(0, inplace=True)"
   ]
  },
  {
   "cell_type": "code",
   "execution_count": 66,
   "id": "9de064e0-e211-4519-a106-fae37c4bcae0",
   "metadata": {
    "scrolled": true
   },
   "outputs": [
    {
     "name": "stderr",
     "output_type": "stream",
     "text": [
      "/var/folders/37/nw4lhjzn47zfwxclrvtmx3pr0000gn/T/ipykernel_1537/3819287830.py:3: FutureWarning: A value is trying to be set on a copy of a DataFrame or Series through chained assignment using an inplace method.\n",
      "The behavior will change in pandas 3.0. This inplace method will never work because the intermediate object on which we are setting values always behaves as a copy.\n",
      "\n",
      "For example, when doing 'df[col].method(value, inplace=True)', try using 'df.method({col: value}, inplace=True)' or df[col] = df[col].method(value) instead, to perform the operation inplace on the original object.\n",
      "\n",
      "\n",
      "  sales_data[col].fillna(median_value, inplace=True)\n"
     ]
    }
   ],
   "source": [
    "for col in ['product_weight_g', 'product_length_cm', 'product_height_cm', 'product_width_cm']:\n",
    "    median_value = sales_data[col].median()\n",
    "    sales_data[col].fillna(median_value, inplace=True)"
   ]
  },
  {
   "cell_type": "code",
   "execution_count": 68,
   "id": "56903d31-23fd-47f2-9da6-cd44e4771d34",
   "metadata": {},
   "outputs": [
    {
     "name": "stdout",
     "output_type": "stream",
     "text": [
      "order_id                            0\n",
      "order_item_id                       0\n",
      "product_id                          0\n",
      "seller_id                           0\n",
      "shipping_limit_date                 0\n",
      "price                               0\n",
      "freight_value                       0\n",
      "product_category_name               0\n",
      "product_name_lenght                 0\n",
      "product_description_lenght          0\n",
      "product_photos_qty                  0\n",
      "product_weight_g                    0\n",
      "product_length_cm                   0\n",
      "product_height_cm                   0\n",
      "product_width_cm                    0\n",
      "customer_id                         0\n",
      "order_status                        0\n",
      "order_purchase_timestamp            0\n",
      "order_approved_at                  15\n",
      "order_delivered_carrier_date     1194\n",
      "order_delivered_customer_date    2454\n",
      "order_estimated_delivery_date       0\n",
      "dtype: int64\n"
     ]
    }
   ],
   "source": [
    "print(sales_data.isnull().sum())"
   ]
  },
  {
   "cell_type": "code",
   "execution_count": 70,
   "id": "56c01dbd-0ede-41b6-aee6-42721cca5e50",
   "metadata": {
    "scrolled": true
   },
   "outputs": [
    {
     "name": "stderr",
     "output_type": "stream",
     "text": [
      "/var/folders/37/nw4lhjzn47zfwxclrvtmx3pr0000gn/T/ipykernel_1537/2392903326.py:3: FutureWarning: A value is trying to be set on a copy of a DataFrame or Series through chained assignment using an inplace method.\n",
      "The behavior will change in pandas 3.0. This inplace method will never work because the intermediate object on which we are setting values always behaves as a copy.\n",
      "\n",
      "For example, when doing 'df[col].method(value, inplace=True)', try using 'df.method({col: value}, inplace=True)' or df[col] = df[col].method(value) instead, to perform the operation inplace on the original object.\n",
      "\n",
      "\n",
      "  sales_data['order_approved_at'].fillna(sales_data['order_purchase_timestamp'], inplace=True)\n"
     ]
    }
   ],
   "source": [
    "# Impute order_approved_at (if order_purchase_timestamp exists)\n",
    "if 'order_purchase_timestamp' in sales_data.columns:\n",
    "    sales_data['order_approved_at'].fillna(sales_data['order_purchase_timestamp'], inplace=True)\n",
    "else:\n",
    "    sales_data.dropna(subset=['order_approved_at'], inplace=True)\n",
    "\n",
    "# Handle delivery dates (assuming order_status exists)\n",
    "if 'order_status' in sales_data.columns:\n",
    "    sales_data = sales_data[~((sales_data['order_status'] == 'delivered') & \n",
    "                              (sales_data['order_delivered_customer_date'].isna()))]"
   ]
  },
  {
   "cell_type": "code",
   "execution_count": 72,
   "id": "407edae2-76e2-4724-925d-e377dc89baef",
   "metadata": {},
   "outputs": [
    {
     "name": "stdout",
     "output_type": "stream",
     "text": [
      "order_id                            0\n",
      "order_item_id                       0\n",
      "product_id                          0\n",
      "seller_id                           0\n",
      "shipping_limit_date                 0\n",
      "price                               0\n",
      "freight_value                       0\n",
      "product_category_name               0\n",
      "product_name_lenght                 0\n",
      "product_description_lenght          0\n",
      "product_photos_qty                  0\n",
      "product_weight_g                    0\n",
      "product_length_cm                   0\n",
      "product_height_cm                   0\n",
      "product_width_cm                    0\n",
      "customer_id                         0\n",
      "order_status                        0\n",
      "order_purchase_timestamp            0\n",
      "order_approved_at                   0\n",
      "order_delivered_carrier_date     1193\n",
      "order_delivered_customer_date    2446\n",
      "order_estimated_delivery_date       0\n",
      "dtype: int64\n"
     ]
    }
   ],
   "source": [
    "print(sales_data.isnull().sum())"
   ]
  },
  {
   "cell_type": "markdown",
   "id": "6a704160-9577-4acd-a25f-db67e2eff57c",
   "metadata": {},
   "source": [
    "### Note on Missing Delivery Dates\n",
    "- `order_delivered_carrier_date` (1,192 missing) and `order_delivered_customer_date` (2,453 missing) reflect non-delivered orders (e.g., 'shipped', 'canceled').\n",
    "- No imputation is needed for general use; filter to 'delivered' orders for delivery metrics."
   ]
  },
  {
   "cell_type": "code",
   "execution_count": 75,
   "id": "6a8c1602-acbe-4c7a-9f98-f8a54a57c023",
   "metadata": {},
   "outputs": [],
   "source": [
    "delivered_data = sales_data[sales_data['order_status'] == 'delivered']"
   ]
  },
  {
   "cell_type": "code",
   "execution_count": 77,
   "id": "9c317268-d34c-4d4a-90f2-fe28f898db50",
   "metadata": {},
   "outputs": [
    {
     "name": "stdout",
     "output_type": "stream",
     "text": [
      "order_delivered_carrier_date     1192\n",
      "order_delivered_customer_date    2446\n",
      "dtype: int64\n"
     ]
    }
   ],
   "source": [
    "print(sales_data[sales_data['order_status'] != 'delivered'][['order_delivered_carrier_date', 'order_delivered_customer_date']].isna().sum())"
   ]
  },
  {
   "cell_type": "code",
   "execution_count": 79,
   "id": "53f181ea-96c6-4da7-9992-e569a54167e5",
   "metadata": {},
   "outputs": [],
   "source": [
    "sales_data.dropna(subset=['order_delivered_customer_date'], inplace=True) ### hence dorpping the null values \n",
    "sales_data.dropna(subset=['order_delivered_carrier_date'], inplace=True)"
   ]
  },
  {
   "cell_type": "code",
   "execution_count": 81,
   "id": "32fa28d7-a321-4d76-a95d-2ae99d4cefd4",
   "metadata": {},
   "outputs": [
    {
     "data": {
      "text/plain": [
       "order_id                         0\n",
       "order_item_id                    0\n",
       "product_id                       0\n",
       "seller_id                        0\n",
       "shipping_limit_date              0\n",
       "price                            0\n",
       "freight_value                    0\n",
       "product_category_name            0\n",
       "product_name_lenght              0\n",
       "product_description_lenght       0\n",
       "product_photos_qty               0\n",
       "product_weight_g                 0\n",
       "product_length_cm                0\n",
       "product_height_cm                0\n",
       "product_width_cm                 0\n",
       "customer_id                      0\n",
       "order_status                     0\n",
       "order_purchase_timestamp         0\n",
       "order_approved_at                0\n",
       "order_delivered_carrier_date     0\n",
       "order_delivered_customer_date    0\n",
       "order_estimated_delivery_date    0\n",
       "dtype: int64"
      ]
     },
     "execution_count": 81,
     "metadata": {},
     "output_type": "execute_result"
    }
   ],
   "source": [
    "sales_data.isnull().sum()"
   ]
  },
  {
   "cell_type": "code",
   "execution_count": 83,
   "id": "840bb577-2bcc-472a-a1e5-d5698041bda6",
   "metadata": {},
   "outputs": [
    {
     "name": "stdout",
     "output_type": "stream",
     "text": [
      "order_id                          object\n",
      "order_item_id                      int64\n",
      "product_id                        object\n",
      "seller_id                         object\n",
      "shipping_limit_date               object\n",
      "price                            float64\n",
      "freight_value                    float64\n",
      "product_category_name             object\n",
      "product_name_lenght              float64\n",
      "product_description_lenght       float64\n",
      "product_photos_qty               float64\n",
      "product_weight_g                 float64\n",
      "product_length_cm                float64\n",
      "product_height_cm                float64\n",
      "product_width_cm                 float64\n",
      "customer_id                       object\n",
      "order_status                      object\n",
      "order_purchase_timestamp          object\n",
      "order_approved_at                 object\n",
      "order_delivered_carrier_date      object\n",
      "order_delivered_customer_date     object\n",
      "order_estimated_delivery_date     object\n",
      "dtype: object\n"
     ]
    }
   ],
   "source": [
    "print(sales_data.dtypes)"
   ]
  },
  {
   "cell_type": "code",
   "execution_count": 85,
   "id": "8ce8e2a2-96d5-43ee-9f90-eea204af4394",
   "metadata": {},
   "outputs": [],
   "source": [
    "\n",
    "sales_data['shipping_limit_date'] = pd.to_datetime(sales_data['shipping_limit_date'])\n",
    "sales_data['order_purchase_timestamp'] = pd.to_datetime(sales_data['order_purchase_timestamp'])\n",
    "sales_data['order_approved_at'] = pd.to_datetime(sales_data['order_approved_at'])\n",
    "sales_data['order_delivered_carrier_date'] = pd.to_datetime(sales_data['order_delivered_carrier_date'])\n",
    "sales_data['order_delivered_customer_date'] = pd.to_datetime(sales_data['order_delivered_customer_date'])\n",
    "sales_data['order_estimated_delivery_date'] = pd.to_datetime(sales_data['order_estimated_delivery_date'])"
   ]
  },
  {
   "cell_type": "code",
   "execution_count": 87,
   "id": "cc0a7281-d136-4298-bb0c-b9423df70fd6",
   "metadata": {},
   "outputs": [
    {
     "name": "stdout",
     "output_type": "stream",
     "text": [
      "order_id                                 object\n",
      "order_item_id                             int64\n",
      "product_id                               object\n",
      "seller_id                                object\n",
      "shipping_limit_date              datetime64[ns]\n",
      "price                                   float64\n",
      "freight_value                           float64\n",
      "product_category_name                    object\n",
      "product_name_lenght                     float64\n",
      "product_description_lenght              float64\n",
      "product_photos_qty                      float64\n",
      "product_weight_g                        float64\n",
      "product_length_cm                       float64\n",
      "product_height_cm                       float64\n",
      "product_width_cm                        float64\n",
      "customer_id                              object\n",
      "order_status                             object\n",
      "order_purchase_timestamp         datetime64[ns]\n",
      "order_approved_at                datetime64[ns]\n",
      "order_delivered_carrier_date     datetime64[ns]\n",
      "order_delivered_customer_date    datetime64[ns]\n",
      "order_estimated_delivery_date    datetime64[ns]\n",
      "dtype: object\n"
     ]
    }
   ],
   "source": [
    "print(sales_data.dtypes)"
   ]
  },
  {
   "cell_type": "code",
   "execution_count": 89,
   "id": "50c0d0bb-0527-4545-9717-b12458187ef2",
   "metadata": {},
   "outputs": [
    {
     "name": "stdout",
     "output_type": "stream",
     "text": [
      "Number of duplicate rows: 0\n"
     ]
    }
   ],
   "source": [
    "duplicates = sales_data.duplicated().sum()\n",
    "print(f\"Number of duplicate rows: {duplicates}\")"
   ]
  },
  {
   "cell_type": "markdown",
   "id": "1e899380-ba7d-4640-a32b-17bc34987be9",
   "metadata": {},
   "source": [
    "### Data Cleaning\n",
    "- **Missing Values:**\n",
    "  - `product_category_name`: Filled 1603 missing with 'Unknown'.\n",
    "  - `product_name_lenght` : Filled 1603 missing with 0.\n",
    "  - `product_description_lenght` : Filled 1603 missing with 0.\n",
    "  - `product_photo_qty` : Filled 1603 missing with 0.\n",
    "  - `product_lenght_cm` : Filled 18 missing with 0.\n",
    "  - `product_weight_g` : Filled 18 missing with 0.\n",
    "  - `product_height_cm` : Filled 18 missing with 0.\n",
    "  - `product_width_cm` : Filled 18 missing with 0.\n",
    "  - `order_approved_at` : Filled 15 missing with 0.\n",
    "  - `order_delivered_customer_date`: Dropped 2965 rows with missing dates.\n",
    " - `order_delivered_carrier_date`: Dropped 1194 rows with missing dates.\n",
    "- **Data Types:** Converted `order_purchase_timestamp`  to `datetime`.\n",
    "- **Data Types:** Converted `order_approved_at` to `datetime`.\n",
    "- **Data Types:** Converted `order_delivered_carrier_date` to `datetime`.\n",
    "- **Data Types:** Converted `order_delivered_customer_date` to `datetime`.\n",
    "- **Data Types:** Converted `order_estimated_delivery_date` to `datetime`.\n",
    "- **Duplicates:** Removed X duplicate rows ( There were no duplicates in the data set) "
   ]
  },
  {
   "cell_type": "markdown",
   "id": "edb9b8d6-a6fc-4ca5-a6ec-eccdf0ace9c4",
   "metadata": {},
   "source": [
    "## Day 2"
   ]
  },
  {
   "cell_type": "code",
   "execution_count": 93,
   "id": "791f6d9b-73b8-41db-b088-3a07fd48490a",
   "metadata": {},
   "outputs": [],
   "source": [
    "# Load datasets\n",
    "customers = pd.read_csv('olist_customers_dataset.csv')\n",
    "geolocation = pd.read_csv('olist_geolocation_dataset.csv')\n",
    "payments = pd.read_csv('olist_order_payments_dataset.csv')\n",
    "reviews = pd.read_csv('olist_order_reviews_dataset.csv')\n",
    "sellers = pd.read_csv('olist_sellers_dataset.csv')\n",
    "category_translation = pd.read_csv('product_category_name_translation.csv')"
   ]
  },
  {
   "cell_type": "code",
   "execution_count": 94,
   "id": "631e07fe-8cb1-450c-be3d-026512dff46a",
   "metadata": {},
   "outputs": [
    {
     "name": "stdout",
     "output_type": "stream",
     "text": [
      "Customers:\n",
      "                         customer_id                customer_unique_id  \\\n",
      "0  06b8999e2fba1a1fbc88172c00ba8bc7  861eff4711a542e4b93843c6dd7febb0   \n",
      "1  18955e83d337fd6b2def6b18a428ac77  290c77bc529b7ac935b93aa66c333dc3   \n",
      "2  4e7b3e00288586ebd08712fdd0374a03  060e732b5b29e8181a18229c7b0b2b5e   \n",
      "3  b2b6027bc5c5109e529d4dc6358b12c3  259dac757896d24d7702b9acbbff3f3c   \n",
      "4  4f2d8ab171c80ec8364f7c12e35b23ad  345ecd01c38d18a9036ed96c73b8d066   \n",
      "\n",
      "   customer_zip_code_prefix          customer_city customer_state  \n",
      "0                     14409                 franca             SP  \n",
      "1                      9790  sao bernardo do campo             SP  \n",
      "2                      1151              sao paulo             SP  \n",
      "3                      8775        mogi das cruzes             SP  \n",
      "4                     13056               campinas             SP   \n",
      "\n",
      "Geolocation:\n",
      "    geolocation_zip_code_prefix  geolocation_lat  geolocation_lng  \\\n",
      "0                         1037       -23.545621       -46.639292   \n",
      "1                         1046       -23.546081       -46.644820   \n",
      "2                         1046       -23.546129       -46.642951   \n",
      "3                         1041       -23.544392       -46.639499   \n",
      "4                         1035       -23.541578       -46.641607   \n",
      "\n",
      "  geolocation_city geolocation_state  \n",
      "0        sao paulo                SP  \n",
      "1        sao paulo                SP  \n",
      "2        sao paulo                SP  \n",
      "3        sao paulo                SP  \n",
      "4        sao paulo                SP   \n",
      "\n",
      "Payments:\n",
      "                            order_id  payment_sequential payment_type  \\\n",
      "0  b81ef226f3fe1789b1e8b2acac839d17                   1  credit_card   \n",
      "1  a9810da82917af2d9aefd1278f1dcfa0                   1  credit_card   \n",
      "2  25e8ea4e93396b6fa0d3dd708e76c1bd                   1  credit_card   \n",
      "3  ba78997921bbcdc1373bb41e913ab953                   1  credit_card   \n",
      "4  42fdf880ba16b47b59251dd489d4441a                   1  credit_card   \n",
      "\n",
      "   payment_installments  payment_value  \n",
      "0                     8          99.33  \n",
      "1                     1          24.39  \n",
      "2                     1          65.71  \n",
      "3                     8         107.78  \n",
      "4                     2         128.45   \n",
      "\n",
      "Reviews:\n",
      "                           review_id                          order_id  \\\n",
      "0  7bc2406110b926393aa56f80a40eba40  73fc7af87114b39712e6da79b0a377eb   \n",
      "1  80e641a11e56f04c1ad469d5645fdfde  a548910a1c6147796b98fdf73dbeba33   \n",
      "2  228ce5500dc1d8e020d8d1322874b6f0  f9e4b658b201a9f2ecdecbb34bed034b   \n",
      "3  e64fb393e7b32834bb789ff8bb30750e  658677c97b385a9be170737859d3511b   \n",
      "4  f7c4243c7fe1938f181bec41a392bdeb  8e6bfb81e283fa7e4f11123a3fb894f1   \n",
      "\n",
      "   review_score review_comment_title  \\\n",
      "0             4                  NaN   \n",
      "1             5                  NaN   \n",
      "2             5                  NaN   \n",
      "3             5                  NaN   \n",
      "4             5                  NaN   \n",
      "\n",
      "                              review_comment_message review_creation_date  \\\n",
      "0                                                NaN  2018-01-18 00:00:00   \n",
      "1                                                NaN  2018-03-10 00:00:00   \n",
      "2                                                NaN  2018-02-17 00:00:00   \n",
      "3              Recebi bem antes do prazo estipulado.  2017-04-21 00:00:00   \n",
      "4  Parabéns lojas lannister adorei comprar pela I...  2018-03-01 00:00:00   \n",
      "\n",
      "  review_answer_timestamp  \n",
      "0     2018-01-18 21:46:59  \n",
      "1     2018-03-11 03:05:13  \n",
      "2     2018-02-18 14:36:24  \n",
      "3     2017-04-21 22:02:06  \n",
      "4     2018-03-02 10:26:53   \n",
      "\n",
      "Sellers:\n",
      "                           seller_id  seller_zip_code_prefix  \\\n",
      "0  3442f8959a84dea7ee197c632cb2df15                   13023   \n",
      "1  d1b65fc7debc3361ea86b5f14c68d2e2                   13844   \n",
      "2  ce3ad9de960102d0677a81f5d0bb7b2d                   20031   \n",
      "3  c0f3eea2e14555b6faeea3dd58c1b1c3                    4195   \n",
      "4  51a04a8a6bdcb23deccc82b0b80742cf                   12914   \n",
      "\n",
      "         seller_city seller_state  \n",
      "0           campinas           SP  \n",
      "1         mogi guacu           SP  \n",
      "2     rio de janeiro           RJ  \n",
      "3          sao paulo           SP  \n",
      "4  braganca paulista           SP   \n",
      "\n",
      "Category Translation:\n",
      "     product_category_name product_category_name_english\n",
      "0            beleza_saude                 health_beauty\n",
      "1  informatica_acessorios         computers_accessories\n",
      "2              automotivo                          auto\n",
      "3         cama_mesa_banho                bed_bath_table\n",
      "4        moveis_decoracao               furniture_decor \n",
      "\n"
     ]
    }
   ],
   "source": [
    "print(\"Customers:\\n\", customers.head(), \"\\n\")\n",
    "print(\"Geolocation:\\n\", geolocation.head(), \"\\n\")\n",
    "print(\"Payments:\\n\", payments.head(), \"\\n\")\n",
    "print(\"Reviews:\\n\", reviews.head(), \"\\n\")\n",
    "print(\"Sellers:\\n\", sellers.head(), \"\\n\")\n",
    "print(\"Category Translation:\\n\", category_translation.head(), \"\\n\")"
   ]
  },
  {
   "cell_type": "code",
   "execution_count": 97,
   "id": "6557a510-e39f-4bed-9a28-82d61c96389d",
   "metadata": {},
   "outputs": [
    {
     "name": "stdout",
     "output_type": "stream",
     "text": [
      "<class 'pandas.core.frame.DataFrame'>\n",
      "Index: 110195 entries, 0 to 112649\n",
      "Data columns (total 22 columns):\n",
      " #   Column                         Non-Null Count   Dtype         \n",
      "---  ------                         --------------   -----         \n",
      " 0   order_id                       110195 non-null  object        \n",
      " 1   order_item_id                  110195 non-null  int64         \n",
      " 2   product_id                     110195 non-null  object        \n",
      " 3   seller_id                      110195 non-null  object        \n",
      " 4   shipping_limit_date            110195 non-null  datetime64[ns]\n",
      " 5   price                          110195 non-null  float64       \n",
      " 6   freight_value                  110195 non-null  float64       \n",
      " 7   product_category_name          110195 non-null  object        \n",
      " 8   product_name_lenght            110195 non-null  float64       \n",
      " 9   product_description_lenght     110195 non-null  float64       \n",
      " 10  product_photos_qty             110195 non-null  float64       \n",
      " 11  product_weight_g               110195 non-null  float64       \n",
      " 12  product_length_cm              110195 non-null  float64       \n",
      " 13  product_height_cm              110195 non-null  float64       \n",
      " 14  product_width_cm               110195 non-null  float64       \n",
      " 15  customer_id                    110195 non-null  object        \n",
      " 16  order_status                   110195 non-null  object        \n",
      " 17  order_purchase_timestamp       110195 non-null  datetime64[ns]\n",
      " 18  order_approved_at              110195 non-null  datetime64[ns]\n",
      " 19  order_delivered_carrier_date   110195 non-null  datetime64[ns]\n",
      " 20  order_delivered_customer_date  110195 non-null  datetime64[ns]\n",
      " 21  order_estimated_delivery_date  110195 non-null  datetime64[ns]\n",
      "dtypes: datetime64[ns](6), float64(9), int64(1), object(6)\n",
      "memory usage: 19.3+ MB\n",
      "None\n",
      "                           order_id  order_item_id  \\\n",
      "0  00010242fe8c5a6d1ba2dd792cb16214              1   \n",
      "1  00018f77f2f0320c557190d7a144bdd3              1   \n",
      "2  000229ec398224ef6ca0657da4fc703e              1   \n",
      "3  00024acbcdf0a6daa1e931b038114c75              1   \n",
      "4  00042b26cf59d7ce69dfabb4e55b4fd9              1   \n",
      "\n",
      "                         product_id                         seller_id  \\\n",
      "0  4244733e06e7ecb4970a6e2683c13e61  48436dade18ac8b2bce089ec2a041202   \n",
      "1  e5f2d52b802189ee658865ca93d83a8f  dd7ddc04e1b6c2c614352b383efe2d36   \n",
      "2  c777355d18b72b67abbeef9df44fd0fd  5b51032eddd242adc84c38acab88f23d   \n",
      "3  7634da152a4610f1595efa32f14722fc  9d7a1d34a5052409006425275ba1c2b4   \n",
      "4  ac6c3623068f30de03045865e4e10089  df560393f3a51e74553ab94004ba5c87   \n",
      "\n",
      "  shipping_limit_date   price  freight_value product_category_name  \\\n",
      "0 2017-09-19 09:45:35   58.90          13.29            cool_stuff   \n",
      "1 2017-05-03 11:05:13  239.90          19.93              pet_shop   \n",
      "2 2018-01-18 14:48:30  199.00          17.87      moveis_decoracao   \n",
      "3 2018-08-15 10:10:18   12.99          12.79            perfumaria   \n",
      "4 2017-02-13 13:57:51  199.90          18.14    ferramentas_jardim   \n",
      "\n",
      "   product_name_lenght  product_description_lenght  ...  product_length_cm  \\\n",
      "0                 58.0                       598.0  ...               28.0   \n",
      "1                 56.0                       239.0  ...               50.0   \n",
      "2                 59.0                       695.0  ...               33.0   \n",
      "3                 42.0                       480.0  ...               16.0   \n",
      "4                 59.0                       409.0  ...               35.0   \n",
      "\n",
      "   product_height_cm  product_width_cm                       customer_id  \\\n",
      "0                9.0              14.0  3ce436f183e68e07877b285a838db11a   \n",
      "1               30.0              40.0  f6dd3ec061db4e3987629fe6b26e5cce   \n",
      "2               13.0              33.0  6489ae5e4333f3693df5ad4372dab6d3   \n",
      "3               10.0              15.0  d4eb9395c8c0431ee92fce09860c5a06   \n",
      "4               40.0              30.0  58dbd0b2d70206bf40e62cd34e84d795   \n",
      "\n",
      "   order_status order_purchase_timestamp   order_approved_at  \\\n",
      "0     delivered      2017-09-13 08:59:02 2017-09-13 09:45:35   \n",
      "1     delivered      2017-04-26 10:53:06 2017-04-26 11:05:13   \n",
      "2     delivered      2018-01-14 14:33:31 2018-01-14 14:48:30   \n",
      "3     delivered      2018-08-08 10:00:35 2018-08-08 10:10:18   \n",
      "4     delivered      2017-02-04 13:57:51 2017-02-04 14:10:13   \n",
      "\n",
      "  order_delivered_carrier_date order_delivered_customer_date  \\\n",
      "0          2017-09-19 18:34:16           2017-09-20 23:43:48   \n",
      "1          2017-05-04 14:35:00           2017-05-12 16:04:24   \n",
      "2          2018-01-16 12:36:48           2018-01-22 13:19:16   \n",
      "3          2018-08-10 13:28:00           2018-08-14 13:32:39   \n",
      "4          2017-02-16 09:46:09           2017-03-01 16:42:31   \n",
      "\n",
      "  order_estimated_delivery_date  \n",
      "0                    2017-09-29  \n",
      "1                    2017-05-15  \n",
      "2                    2018-02-05  \n",
      "3                    2018-08-20  \n",
      "4                    2017-03-17  \n",
      "\n",
      "[5 rows x 22 columns]\n"
     ]
    }
   ],
   "source": [
    "print(sales_data.info())\n",
    "print(sales_data.head())"
   ]
  },
  {
   "cell_type": "code",
   "execution_count": 99,
   "id": "9626f8bb-58cf-4b9e-8a30-b2da5e7b198c",
   "metadata": {},
   "outputs": [
    {
     "name": "stdout",
     "output_type": "stream",
     "text": [
      "order_id                         0\n",
      "order_item_id                    0\n",
      "product_id                       0\n",
      "seller_id                        0\n",
      "shipping_limit_date              0\n",
      "price                            0\n",
      "freight_value                    0\n",
      "product_category_name            0\n",
      "product_name_lenght              0\n",
      "product_description_lenght       0\n",
      "product_photos_qty               0\n",
      "product_weight_g                 0\n",
      "product_length_cm                0\n",
      "product_height_cm                0\n",
      "product_width_cm                 0\n",
      "customer_id                      0\n",
      "order_status                     0\n",
      "order_purchase_timestamp         0\n",
      "order_approved_at                0\n",
      "order_delivered_carrier_date     0\n",
      "order_delivered_customer_date    0\n",
      "order_estimated_delivery_date    0\n",
      "dtype: int64\n"
     ]
    }
   ],
   "source": [
    "print(sales_data.isnull().sum())  # Should be minimal/null after yesterday"
   ]
  },
  {
   "cell_type": "code",
   "execution_count": 101,
   "id": "cc7c5e9b-960c-467d-9bc9-d90093008dbc",
   "metadata": {},
   "outputs": [
    {
     "name": "stdout",
     "output_type": "stream",
     "text": [
      "['delivered' 'canceled']\n"
     ]
    }
   ],
   "source": [
    "print(sales_data['order_status'].unique())  # Confirm consistency (e.g., ‘delivered’, ‘shipped’)"
   ]
  },
  {
   "cell_type": "markdown",
   "id": "453ced49-2c4c-4814-9cac-7b1750a8ee13",
   "metadata": {},
   "source": [
    "### Dataset Verification\n",
    "- Loaded sales_data: [list key columns, `order_id`,`order_item_id`,`product_id`,`seller_id`,`shipping_limit_date`, `price`, `freight_value`, `product_category_name`, etc ].\n",
    "- Confirmed no significant nulls and dates in datetime format from Day 1 cleaning."
   ]
  },
  {
   "cell_type": "code",
   "execution_count": 104,
   "id": "8b6ef43b-3342-489d-9d9d-362983fcb6ce",
   "metadata": {},
   "outputs": [
    {
     "name": "stdout",
     "output_type": "stream",
     "text": [
      "    price  freight_value  total_order_value\n",
      "0   58.90          13.29              72.19\n",
      "1  239.90          19.93             259.83\n",
      "2  199.00          17.87             216.87\n",
      "3   12.99          12.79              25.78\n",
      "4  199.90          18.14             218.04\n"
     ]
    }
   ],
   "source": [
    "sales_data['total_order_value'] = sales_data['price'] + sales_data['freight_value']\n",
    "print(sales_data[['price', 'freight_value', 'total_order_value']].head())"
   ]
  },
  {
   "cell_type": "code",
   "execution_count": 106,
   "id": "4a03d66a-ca55-4785-9441-8fbe6dd2699f",
   "metadata": {},
   "outputs": [
    {
     "name": "stdout",
     "output_type": "stream",
     "text": [
      "count    110195.000000\n",
      "mean        139.924220\n",
      "std         189.320441\n",
      "min           6.080000\n",
      "25%          55.175000\n",
      "50%          92.120000\n",
      "75%         157.460000\n",
      "max        6929.310000\n",
      "Name: total_order_value, dtype: float64\n"
     ]
    }
   ],
   "source": [
    "print(sales_data['total_order_value'].describe())"
   ]
  },
  {
   "cell_type": "code",
   "execution_count": 108,
   "id": "f138be51-e764-4aba-be3f-c1e768c723d0",
   "metadata": {},
   "outputs": [
    {
     "name": "stdout",
     "output_type": "stream",
     "text": [
      "count    110195.00000\n",
      "mean         12.00736\n",
      "std           9.45073\n",
      "min           0.00000\n",
      "25%           6.00000\n",
      "50%          10.00000\n",
      "75%          15.00000\n",
      "max         209.00000\n",
      "Name: delivery_time_days, dtype: float64\n"
     ]
    }
   ],
   "source": [
    "sales_data['delivery_time_days'] = (sales_data['order_delivered_customer_date'] - \n",
    "                                   sales_data['order_purchase_timestamp']).dt.days\n",
    "print(sales_data['delivery_time_days'].describe())"
   ]
  },
  {
   "cell_type": "code",
   "execution_count": 110,
   "id": "6ffd1601-e911-4738-a7fb-e064d2f0dbd4",
   "metadata": {},
   "outputs": [],
   "source": [
    "negetive_delivery_date = sales_data['delivery_time_days']<0"
   ]
  },
  {
   "cell_type": "code",
   "execution_count": 112,
   "id": "e3acd0e4-ace6-48df-a49d-4e53740ec221",
   "metadata": {},
   "outputs": [
    {
     "name": "stdout",
     "output_type": "stream",
     "text": [
      "0\n"
     ]
    }
   ],
   "source": [
    "num_negetive_dates = negetive_delivery_date.sum()\n",
    "print(num_negetive_dates)"
   ]
  },
  {
   "cell_type": "code",
   "execution_count": 114,
   "id": "1fd6af21-7f7b-44f7-b41e-3e18f996f335",
   "metadata": {},
   "outputs": [],
   "source": [
    "sales_data.to_csv('sales_data_with_features.csv', index=False)"
   ]
  },
  {
   "cell_type": "markdown",
   "id": "e9022d5d-f0f3-4226-891b-c54c42e2adaa",
   "metadata": {},
   "source": [
    "### New Features Created\n",
    "- `total_order_value`: Sum of price and freight_value per order.\n",
    "- `delivery_time_days`: Days from purchase to delivery, negatives set to None.\n",
    "- `is_late_delivery`: True if delivered after estimated date."
   ]
  },
  {
   "cell_type": "markdown",
   "id": "06aef033-79c3-4e89-9c8e-057a465eac96",
   "metadata": {},
   "source": [
    "### Day3"
   ]
  },
  {
   "cell_type": "code",
   "execution_count": 118,
   "id": "0efe8145-6373-4a47-855a-a36502553f7f",
   "metadata": {},
   "outputs": [],
   "source": [
    "from sqlalchemy import create_engine\n",
    "from sqlalchemy import text\n",
    "\n",
    "engine = create_engine('sqlite:///ecommerce.db')"
   ]
  },
  {
   "cell_type": "code",
   "execution_count": 120,
   "id": "3e385e64-24f4-46e8-b7a1-827890f24116",
   "metadata": {
    "collapsed": true,
    "jupyter": {
     "outputs_hidden": true
    },
    "scrolled": true
   },
   "outputs": [
    {
     "ename": "OperationalError",
     "evalue": "(sqlite3.OperationalError) database is locked\n[SQL: \nDROP TABLE sales_data]\n(Background on this error at: https://sqlalche.me/e/20/e3q8)",
     "output_type": "error",
     "traceback": [
      "\u001b[0;31m---------------------------------------------------------------------------\u001b[0m",
      "\u001b[0;31mOperationalError\u001b[0m                          Traceback (most recent call last)",
      "File \u001b[0;32m/opt/anaconda3/lib/python3.12/site-packages/sqlalchemy/engine/base.py:1967\u001b[0m, in \u001b[0;36mConnection._exec_single_context\u001b[0;34m(self, dialect, context, statement, parameters)\u001b[0m\n\u001b[1;32m   1966\u001b[0m     \u001b[38;5;28;01mif\u001b[39;00m \u001b[38;5;129;01mnot\u001b[39;00m evt_handled:\n\u001b[0;32m-> 1967\u001b[0m         \u001b[38;5;28mself\u001b[39m\u001b[38;5;241m.\u001b[39mdialect\u001b[38;5;241m.\u001b[39mdo_execute(\n\u001b[1;32m   1968\u001b[0m             cursor, str_statement, effective_parameters, context\n\u001b[1;32m   1969\u001b[0m         )\n\u001b[1;32m   1971\u001b[0m \u001b[38;5;28;01mif\u001b[39;00m \u001b[38;5;28mself\u001b[39m\u001b[38;5;241m.\u001b[39m_has_events \u001b[38;5;129;01mor\u001b[39;00m \u001b[38;5;28mself\u001b[39m\u001b[38;5;241m.\u001b[39mengine\u001b[38;5;241m.\u001b[39m_has_events:\n",
      "File \u001b[0;32m/opt/anaconda3/lib/python3.12/site-packages/sqlalchemy/engine/default.py:941\u001b[0m, in \u001b[0;36mDefaultDialect.do_execute\u001b[0;34m(self, cursor, statement, parameters, context)\u001b[0m\n\u001b[1;32m    940\u001b[0m \u001b[38;5;28;01mdef\u001b[39;00m \u001b[38;5;21mdo_execute\u001b[39m(\u001b[38;5;28mself\u001b[39m, cursor, statement, parameters, context\u001b[38;5;241m=\u001b[39m\u001b[38;5;28;01mNone\u001b[39;00m):\n\u001b[0;32m--> 941\u001b[0m     cursor\u001b[38;5;241m.\u001b[39mexecute(statement, parameters)\n",
      "\u001b[0;31mOperationalError\u001b[0m: database is locked",
      "\nThe above exception was the direct cause of the following exception:\n",
      "\u001b[0;31mOperationalError\u001b[0m                          Traceback (most recent call last)",
      "Cell \u001b[0;32mIn[120], line 1\u001b[0m\n\u001b[0;32m----> 1\u001b[0m sales_data\u001b[38;5;241m.\u001b[39mto_sql(\u001b[38;5;124m'\u001b[39m\u001b[38;5;124msales_data\u001b[39m\u001b[38;5;124m'\u001b[39m, con\u001b[38;5;241m=\u001b[39mengine, if_exists\u001b[38;5;241m=\u001b[39m\u001b[38;5;124m'\u001b[39m\u001b[38;5;124mreplace\u001b[39m\u001b[38;5;124m'\u001b[39m, index\u001b[38;5;241m=\u001b[39m\u001b[38;5;28;01mFalse\u001b[39;00m)\n",
      "File \u001b[0;32m/opt/anaconda3/lib/python3.12/site-packages/pandas/util/_decorators.py:333\u001b[0m, in \u001b[0;36mdeprecate_nonkeyword_arguments.<locals>.decorate.<locals>.wrapper\u001b[0;34m(*args, **kwargs)\u001b[0m\n\u001b[1;32m    327\u001b[0m \u001b[38;5;28;01mif\u001b[39;00m \u001b[38;5;28mlen\u001b[39m(args) \u001b[38;5;241m>\u001b[39m num_allow_args:\n\u001b[1;32m    328\u001b[0m     warnings\u001b[38;5;241m.\u001b[39mwarn(\n\u001b[1;32m    329\u001b[0m         msg\u001b[38;5;241m.\u001b[39mformat(arguments\u001b[38;5;241m=\u001b[39m_format_argument_list(allow_args)),\n\u001b[1;32m    330\u001b[0m         \u001b[38;5;167;01mFutureWarning\u001b[39;00m,\n\u001b[1;32m    331\u001b[0m         stacklevel\u001b[38;5;241m=\u001b[39mfind_stack_level(),\n\u001b[1;32m    332\u001b[0m     )\n\u001b[0;32m--> 333\u001b[0m \u001b[38;5;28;01mreturn\u001b[39;00m func(\u001b[38;5;241m*\u001b[39margs, \u001b[38;5;241m*\u001b[39m\u001b[38;5;241m*\u001b[39mkwargs)\n",
      "File \u001b[0;32m/opt/anaconda3/lib/python3.12/site-packages/pandas/core/generic.py:3087\u001b[0m, in \u001b[0;36mNDFrame.to_sql\u001b[0;34m(self, name, con, schema, if_exists, index, index_label, chunksize, dtype, method)\u001b[0m\n\u001b[1;32m   2889\u001b[0m \u001b[38;5;250m\u001b[39m\u001b[38;5;124;03m\"\"\"\u001b[39;00m\n\u001b[1;32m   2890\u001b[0m \u001b[38;5;124;03mWrite records stored in a DataFrame to a SQL database.\u001b[39;00m\n\u001b[1;32m   2891\u001b[0m \n\u001b[0;32m   (...)\u001b[0m\n\u001b[1;32m   3083\u001b[0m \u001b[38;5;124;03m[(1,), (None,), (2,)]\u001b[39;00m\n\u001b[1;32m   3084\u001b[0m \u001b[38;5;124;03m\"\"\"\u001b[39;00m  \u001b[38;5;66;03m# noqa: E501\u001b[39;00m\n\u001b[1;32m   3085\u001b[0m \u001b[38;5;28;01mfrom\u001b[39;00m \u001b[38;5;21;01mpandas\u001b[39;00m\u001b[38;5;21;01m.\u001b[39;00m\u001b[38;5;21;01mio\u001b[39;00m \u001b[38;5;28;01mimport\u001b[39;00m sql\n\u001b[0;32m-> 3087\u001b[0m \u001b[38;5;28;01mreturn\u001b[39;00m sql\u001b[38;5;241m.\u001b[39mto_sql(\n\u001b[1;32m   3088\u001b[0m     \u001b[38;5;28mself\u001b[39m,\n\u001b[1;32m   3089\u001b[0m     name,\n\u001b[1;32m   3090\u001b[0m     con,\n\u001b[1;32m   3091\u001b[0m     schema\u001b[38;5;241m=\u001b[39mschema,\n\u001b[1;32m   3092\u001b[0m     if_exists\u001b[38;5;241m=\u001b[39mif_exists,\n\u001b[1;32m   3093\u001b[0m     index\u001b[38;5;241m=\u001b[39mindex,\n\u001b[1;32m   3094\u001b[0m     index_label\u001b[38;5;241m=\u001b[39mindex_label,\n\u001b[1;32m   3095\u001b[0m     chunksize\u001b[38;5;241m=\u001b[39mchunksize,\n\u001b[1;32m   3096\u001b[0m     dtype\u001b[38;5;241m=\u001b[39mdtype,\n\u001b[1;32m   3097\u001b[0m     method\u001b[38;5;241m=\u001b[39mmethod,\n\u001b[1;32m   3098\u001b[0m )\n",
      "File \u001b[0;32m/opt/anaconda3/lib/python3.12/site-packages/pandas/io/sql.py:842\u001b[0m, in \u001b[0;36mto_sql\u001b[0;34m(frame, name, con, schema, if_exists, index, index_label, chunksize, dtype, method, engine, **engine_kwargs)\u001b[0m\n\u001b[1;32m    837\u001b[0m     \u001b[38;5;28;01mraise\u001b[39;00m \u001b[38;5;167;01mNotImplementedError\u001b[39;00m(\n\u001b[1;32m    838\u001b[0m         \u001b[38;5;124m\"\u001b[39m\u001b[38;5;124m'\u001b[39m\u001b[38;5;124mframe\u001b[39m\u001b[38;5;124m'\u001b[39m\u001b[38;5;124m argument should be either a Series or a DataFrame\u001b[39m\u001b[38;5;124m\"\u001b[39m\n\u001b[1;32m    839\u001b[0m     )\n\u001b[1;32m    841\u001b[0m \u001b[38;5;28;01mwith\u001b[39;00m pandasSQL_builder(con, schema\u001b[38;5;241m=\u001b[39mschema, need_transaction\u001b[38;5;241m=\u001b[39m\u001b[38;5;28;01mTrue\u001b[39;00m) \u001b[38;5;28;01mas\u001b[39;00m pandas_sql:\n\u001b[0;32m--> 842\u001b[0m     \u001b[38;5;28;01mreturn\u001b[39;00m pandas_sql\u001b[38;5;241m.\u001b[39mto_sql(\n\u001b[1;32m    843\u001b[0m         frame,\n\u001b[1;32m    844\u001b[0m         name,\n\u001b[1;32m    845\u001b[0m         if_exists\u001b[38;5;241m=\u001b[39mif_exists,\n\u001b[1;32m    846\u001b[0m         index\u001b[38;5;241m=\u001b[39mindex,\n\u001b[1;32m    847\u001b[0m         index_label\u001b[38;5;241m=\u001b[39mindex_label,\n\u001b[1;32m    848\u001b[0m         schema\u001b[38;5;241m=\u001b[39mschema,\n\u001b[1;32m    849\u001b[0m         chunksize\u001b[38;5;241m=\u001b[39mchunksize,\n\u001b[1;32m    850\u001b[0m         dtype\u001b[38;5;241m=\u001b[39mdtype,\n\u001b[1;32m    851\u001b[0m         method\u001b[38;5;241m=\u001b[39mmethod,\n\u001b[1;32m    852\u001b[0m         engine\u001b[38;5;241m=\u001b[39mengine,\n\u001b[1;32m    853\u001b[0m         \u001b[38;5;241m*\u001b[39m\u001b[38;5;241m*\u001b[39mengine_kwargs,\n\u001b[1;32m    854\u001b[0m     )\n",
      "File \u001b[0;32m/opt/anaconda3/lib/python3.12/site-packages/pandas/io/sql.py:2008\u001b[0m, in \u001b[0;36mSQLDatabase.to_sql\u001b[0;34m(self, frame, name, if_exists, index, index_label, schema, chunksize, dtype, method, engine, **engine_kwargs)\u001b[0m\n\u001b[1;32m   1958\u001b[0m \u001b[38;5;250m\u001b[39m\u001b[38;5;124;03m\"\"\"\u001b[39;00m\n\u001b[1;32m   1959\u001b[0m \u001b[38;5;124;03mWrite records stored in a DataFrame to a SQL database.\u001b[39;00m\n\u001b[1;32m   1960\u001b[0m \n\u001b[0;32m   (...)\u001b[0m\n\u001b[1;32m   2004\u001b[0m \u001b[38;5;124;03m    Any additional kwargs are passed to the engine.\u001b[39;00m\n\u001b[1;32m   2005\u001b[0m \u001b[38;5;124;03m\"\"\"\u001b[39;00m\n\u001b[1;32m   2006\u001b[0m sql_engine \u001b[38;5;241m=\u001b[39m get_engine(engine)\n\u001b[0;32m-> 2008\u001b[0m table \u001b[38;5;241m=\u001b[39m \u001b[38;5;28mself\u001b[39m\u001b[38;5;241m.\u001b[39mprep_table(\n\u001b[1;32m   2009\u001b[0m     frame\u001b[38;5;241m=\u001b[39mframe,\n\u001b[1;32m   2010\u001b[0m     name\u001b[38;5;241m=\u001b[39mname,\n\u001b[1;32m   2011\u001b[0m     if_exists\u001b[38;5;241m=\u001b[39mif_exists,\n\u001b[1;32m   2012\u001b[0m     index\u001b[38;5;241m=\u001b[39mindex,\n\u001b[1;32m   2013\u001b[0m     index_label\u001b[38;5;241m=\u001b[39mindex_label,\n\u001b[1;32m   2014\u001b[0m     schema\u001b[38;5;241m=\u001b[39mschema,\n\u001b[1;32m   2015\u001b[0m     dtype\u001b[38;5;241m=\u001b[39mdtype,\n\u001b[1;32m   2016\u001b[0m )\n\u001b[1;32m   2018\u001b[0m total_inserted \u001b[38;5;241m=\u001b[39m sql_engine\u001b[38;5;241m.\u001b[39minsert_records(\n\u001b[1;32m   2019\u001b[0m     table\u001b[38;5;241m=\u001b[39mtable,\n\u001b[1;32m   2020\u001b[0m     con\u001b[38;5;241m=\u001b[39m\u001b[38;5;28mself\u001b[39m\u001b[38;5;241m.\u001b[39mcon,\n\u001b[0;32m   (...)\u001b[0m\n\u001b[1;32m   2027\u001b[0m     \u001b[38;5;241m*\u001b[39m\u001b[38;5;241m*\u001b[39mengine_kwargs,\n\u001b[1;32m   2028\u001b[0m )\n\u001b[1;32m   2030\u001b[0m \u001b[38;5;28mself\u001b[39m\u001b[38;5;241m.\u001b[39mcheck_case_sensitive(name\u001b[38;5;241m=\u001b[39mname, schema\u001b[38;5;241m=\u001b[39mschema)\n",
      "File \u001b[0;32m/opt/anaconda3/lib/python3.12/site-packages/pandas/io/sql.py:1912\u001b[0m, in \u001b[0;36mSQLDatabase.prep_table\u001b[0;34m(self, frame, name, if_exists, index, index_label, schema, dtype)\u001b[0m\n\u001b[1;32m   1900\u001b[0m             \u001b[38;5;28;01mraise\u001b[39;00m \u001b[38;5;167;01mValueError\u001b[39;00m(\u001b[38;5;124mf\u001b[39m\u001b[38;5;124m\"\u001b[39m\u001b[38;5;124mThe type of \u001b[39m\u001b[38;5;132;01m{\u001b[39;00mcol\u001b[38;5;132;01m}\u001b[39;00m\u001b[38;5;124m is not a SQLAlchemy type\u001b[39m\u001b[38;5;124m\"\u001b[39m)\n\u001b[1;32m   1902\u001b[0m table \u001b[38;5;241m=\u001b[39m SQLTable(\n\u001b[1;32m   1903\u001b[0m     name,\n\u001b[1;32m   1904\u001b[0m     \u001b[38;5;28mself\u001b[39m,\n\u001b[0;32m   (...)\u001b[0m\n\u001b[1;32m   1910\u001b[0m     dtype\u001b[38;5;241m=\u001b[39mdtype,\n\u001b[1;32m   1911\u001b[0m )\n\u001b[0;32m-> 1912\u001b[0m table\u001b[38;5;241m.\u001b[39mcreate()\n\u001b[1;32m   1913\u001b[0m \u001b[38;5;28;01mreturn\u001b[39;00m table\n",
      "File \u001b[0;32m/opt/anaconda3/lib/python3.12/site-packages/pandas/io/sql.py:988\u001b[0m, in \u001b[0;36mSQLTable.create\u001b[0;34m(self)\u001b[0m\n\u001b[1;32m    986\u001b[0m     \u001b[38;5;28;01mraise\u001b[39;00m \u001b[38;5;167;01mValueError\u001b[39;00m(\u001b[38;5;124mf\u001b[39m\u001b[38;5;124m\"\u001b[39m\u001b[38;5;124mTable \u001b[39m\u001b[38;5;124m'\u001b[39m\u001b[38;5;132;01m{\u001b[39;00m\u001b[38;5;28mself\u001b[39m\u001b[38;5;241m.\u001b[39mname\u001b[38;5;132;01m}\u001b[39;00m\u001b[38;5;124m'\u001b[39m\u001b[38;5;124m already exists.\u001b[39m\u001b[38;5;124m\"\u001b[39m)\n\u001b[1;32m    987\u001b[0m \u001b[38;5;28;01mif\u001b[39;00m \u001b[38;5;28mself\u001b[39m\u001b[38;5;241m.\u001b[39mif_exists \u001b[38;5;241m==\u001b[39m \u001b[38;5;124m\"\u001b[39m\u001b[38;5;124mreplace\u001b[39m\u001b[38;5;124m\"\u001b[39m:\n\u001b[0;32m--> 988\u001b[0m     \u001b[38;5;28mself\u001b[39m\u001b[38;5;241m.\u001b[39mpd_sql\u001b[38;5;241m.\u001b[39mdrop_table(\u001b[38;5;28mself\u001b[39m\u001b[38;5;241m.\u001b[39mname, \u001b[38;5;28mself\u001b[39m\u001b[38;5;241m.\u001b[39mschema)\n\u001b[1;32m    989\u001b[0m     \u001b[38;5;28mself\u001b[39m\u001b[38;5;241m.\u001b[39m_execute_create()\n\u001b[1;32m    990\u001b[0m \u001b[38;5;28;01melif\u001b[39;00m \u001b[38;5;28mself\u001b[39m\u001b[38;5;241m.\u001b[39mif_exists \u001b[38;5;241m==\u001b[39m \u001b[38;5;124m\"\u001b[39m\u001b[38;5;124mappend\u001b[39m\u001b[38;5;124m\"\u001b[39m:\n",
      "File \u001b[0;32m/opt/anaconda3/lib/python3.12/site-packages/pandas/io/sql.py:2063\u001b[0m, in \u001b[0;36mSQLDatabase.drop_table\u001b[0;34m(self, table_name, schema)\u001b[0m\n\u001b[1;32m   2059\u001b[0m \u001b[38;5;28mself\u001b[39m\u001b[38;5;241m.\u001b[39mmeta\u001b[38;5;241m.\u001b[39mreflect(\n\u001b[1;32m   2060\u001b[0m     bind\u001b[38;5;241m=\u001b[39m\u001b[38;5;28mself\u001b[39m\u001b[38;5;241m.\u001b[39mcon, only\u001b[38;5;241m=\u001b[39m[table_name], schema\u001b[38;5;241m=\u001b[39mschema, views\u001b[38;5;241m=\u001b[39m\u001b[38;5;28;01mTrue\u001b[39;00m\n\u001b[1;32m   2061\u001b[0m )\n\u001b[1;32m   2062\u001b[0m \u001b[38;5;28;01mwith\u001b[39;00m \u001b[38;5;28mself\u001b[39m\u001b[38;5;241m.\u001b[39mrun_transaction():\n\u001b[0;32m-> 2063\u001b[0m     \u001b[38;5;28mself\u001b[39m\u001b[38;5;241m.\u001b[39mget_table(table_name, schema)\u001b[38;5;241m.\u001b[39mdrop(bind\u001b[38;5;241m=\u001b[39m\u001b[38;5;28mself\u001b[39m\u001b[38;5;241m.\u001b[39mcon)\n\u001b[1;32m   2064\u001b[0m \u001b[38;5;28mself\u001b[39m\u001b[38;5;241m.\u001b[39mmeta\u001b[38;5;241m.\u001b[39mclear()\n",
      "File \u001b[0;32m/opt/anaconda3/lib/python3.12/site-packages/sqlalchemy/sql/schema.py:1296\u001b[0m, in \u001b[0;36mTable.drop\u001b[0;34m(self, bind, checkfirst)\u001b[0m\n\u001b[1;32m   1286\u001b[0m \u001b[38;5;28;01mdef\u001b[39;00m \u001b[38;5;21mdrop\u001b[39m(\u001b[38;5;28mself\u001b[39m, bind: _CreateDropBind, checkfirst: \u001b[38;5;28mbool\u001b[39m \u001b[38;5;241m=\u001b[39m \u001b[38;5;28;01mFalse\u001b[39;00m) \u001b[38;5;241m-\u001b[39m\u001b[38;5;241m>\u001b[39m \u001b[38;5;28;01mNone\u001b[39;00m:\n\u001b[1;32m   1287\u001b[0m \u001b[38;5;250m    \u001b[39m\u001b[38;5;124;03m\"\"\"Issue a ``DROP`` statement for this\u001b[39;00m\n\u001b[1;32m   1288\u001b[0m \u001b[38;5;124;03m    :class:`_schema.Table`, using the given\u001b[39;00m\n\u001b[1;32m   1289\u001b[0m \u001b[38;5;124;03m    :class:`.Connection` or :class:`.Engine` for connectivity.\u001b[39;00m\n\u001b[0;32m   (...)\u001b[0m\n\u001b[1;32m   1294\u001b[0m \n\u001b[1;32m   1295\u001b[0m \u001b[38;5;124;03m    \"\"\"\u001b[39;00m\n\u001b[0;32m-> 1296\u001b[0m     bind\u001b[38;5;241m.\u001b[39m_run_ddl_visitor(ddl\u001b[38;5;241m.\u001b[39mSchemaDropper, \u001b[38;5;28mself\u001b[39m, checkfirst\u001b[38;5;241m=\u001b[39mcheckfirst)\n",
      "File \u001b[0;32m/opt/anaconda3/lib/python3.12/site-packages/sqlalchemy/engine/base.py:2459\u001b[0m, in \u001b[0;36mConnection._run_ddl_visitor\u001b[0;34m(self, visitorcallable, element, **kwargs)\u001b[0m\n\u001b[1;32m   2447\u001b[0m \u001b[38;5;28;01mdef\u001b[39;00m \u001b[38;5;21m_run_ddl_visitor\u001b[39m(\n\u001b[1;32m   2448\u001b[0m     \u001b[38;5;28mself\u001b[39m,\n\u001b[1;32m   2449\u001b[0m     visitorcallable: Type[Union[SchemaGenerator, SchemaDropper]],\n\u001b[1;32m   2450\u001b[0m     element: SchemaItem,\n\u001b[1;32m   2451\u001b[0m     \u001b[38;5;241m*\u001b[39m\u001b[38;5;241m*\u001b[39mkwargs: Any,\n\u001b[1;32m   2452\u001b[0m ) \u001b[38;5;241m-\u001b[39m\u001b[38;5;241m>\u001b[39m \u001b[38;5;28;01mNone\u001b[39;00m:\n\u001b[1;32m   2453\u001b[0m \u001b[38;5;250m    \u001b[39m\u001b[38;5;124;03m\"\"\"run a DDL visitor.\u001b[39;00m\n\u001b[1;32m   2454\u001b[0m \n\u001b[1;32m   2455\u001b[0m \u001b[38;5;124;03m    This method is only here so that the MockConnection can change the\u001b[39;00m\n\u001b[1;32m   2456\u001b[0m \u001b[38;5;124;03m    options given to the visitor so that \"checkfirst\" is skipped.\u001b[39;00m\n\u001b[1;32m   2457\u001b[0m \n\u001b[1;32m   2458\u001b[0m \u001b[38;5;124;03m    \"\"\"\u001b[39;00m\n\u001b[0;32m-> 2459\u001b[0m     visitorcallable(\u001b[38;5;28mself\u001b[39m\u001b[38;5;241m.\u001b[39mdialect, \u001b[38;5;28mself\u001b[39m, \u001b[38;5;241m*\u001b[39m\u001b[38;5;241m*\u001b[39mkwargs)\u001b[38;5;241m.\u001b[39mtraverse_single(element)\n",
      "File \u001b[0;32m/opt/anaconda3/lib/python3.12/site-packages/sqlalchemy/sql/visitors.py:664\u001b[0m, in \u001b[0;36mExternalTraversal.traverse_single\u001b[0;34m(self, obj, **kw)\u001b[0m\n\u001b[1;32m    662\u001b[0m meth \u001b[38;5;241m=\u001b[39m \u001b[38;5;28mgetattr\u001b[39m(v, \u001b[38;5;124m\"\u001b[39m\u001b[38;5;124mvisit_\u001b[39m\u001b[38;5;132;01m%s\u001b[39;00m\u001b[38;5;124m\"\u001b[39m \u001b[38;5;241m%\u001b[39m obj\u001b[38;5;241m.\u001b[39m__visit_name__, \u001b[38;5;28;01mNone\u001b[39;00m)\n\u001b[1;32m    663\u001b[0m \u001b[38;5;28;01mif\u001b[39;00m meth:\n\u001b[0;32m--> 664\u001b[0m     \u001b[38;5;28;01mreturn\u001b[39;00m meth(obj, \u001b[38;5;241m*\u001b[39m\u001b[38;5;241m*\u001b[39mkw)\n",
      "File \u001b[0;32m/opt/anaconda3/lib/python3.12/site-packages/sqlalchemy/sql/ddl.py:1143\u001b[0m, in \u001b[0;36mSchemaDropper.visit_table\u001b[0;34m(self, table, drop_ok, _is_metadata_operation, _ignore_sequences)\u001b[0m\n\u001b[1;32m   1136\u001b[0m     \u001b[38;5;28;01mreturn\u001b[39;00m\n\u001b[1;32m   1138\u001b[0m \u001b[38;5;28;01mwith\u001b[39;00m \u001b[38;5;28mself\u001b[39m\u001b[38;5;241m.\u001b[39mwith_ddl_events(\n\u001b[1;32m   1139\u001b[0m     table,\n\u001b[1;32m   1140\u001b[0m     checkfirst\u001b[38;5;241m=\u001b[39m\u001b[38;5;28mself\u001b[39m\u001b[38;5;241m.\u001b[39mcheckfirst,\n\u001b[1;32m   1141\u001b[0m     _is_metadata_operation\u001b[38;5;241m=\u001b[39m_is_metadata_operation,\n\u001b[1;32m   1142\u001b[0m ):\n\u001b[0;32m-> 1143\u001b[0m     DropTable(table)\u001b[38;5;241m.\u001b[39m_invoke_with(\u001b[38;5;28mself\u001b[39m\u001b[38;5;241m.\u001b[39mconnection)\n\u001b[1;32m   1145\u001b[0m     \u001b[38;5;66;03m# traverse client side defaults which may refer to server-side\u001b[39;00m\n\u001b[1;32m   1146\u001b[0m     \u001b[38;5;66;03m# sequences. noting that some of these client side defaults may\u001b[39;00m\n\u001b[1;32m   1147\u001b[0m     \u001b[38;5;66;03m# also be set up as server side defaults\u001b[39;00m\n\u001b[0;32m   (...)\u001b[0m\n\u001b[1;32m   1150\u001b[0m     \u001b[38;5;66;03m# #associating-a-sequence-as-the-server-side-\u001b[39;00m\n\u001b[1;32m   1151\u001b[0m     \u001b[38;5;66;03m# default), so have to be dropped after the table is dropped.\u001b[39;00m\n\u001b[1;32m   1152\u001b[0m     \u001b[38;5;28;01mfor\u001b[39;00m column \u001b[38;5;129;01min\u001b[39;00m table\u001b[38;5;241m.\u001b[39mcolumns:\n",
      "File \u001b[0;32m/opt/anaconda3/lib/python3.12/site-packages/sqlalchemy/sql/ddl.py:314\u001b[0m, in \u001b[0;36mExecutableDDLElement._invoke_with\u001b[0;34m(self, bind)\u001b[0m\n\u001b[1;32m    312\u001b[0m \u001b[38;5;28;01mdef\u001b[39;00m \u001b[38;5;21m_invoke_with\u001b[39m(\u001b[38;5;28mself\u001b[39m, bind):\n\u001b[1;32m    313\u001b[0m     \u001b[38;5;28;01mif\u001b[39;00m \u001b[38;5;28mself\u001b[39m\u001b[38;5;241m.\u001b[39m_should_execute(\u001b[38;5;28mself\u001b[39m\u001b[38;5;241m.\u001b[39mtarget, bind):\n\u001b[0;32m--> 314\u001b[0m         \u001b[38;5;28;01mreturn\u001b[39;00m bind\u001b[38;5;241m.\u001b[39mexecute(\u001b[38;5;28mself\u001b[39m)\n",
      "File \u001b[0;32m/opt/anaconda3/lib/python3.12/site-packages/sqlalchemy/engine/base.py:1418\u001b[0m, in \u001b[0;36mConnection.execute\u001b[0;34m(self, statement, parameters, execution_options)\u001b[0m\n\u001b[1;32m   1416\u001b[0m     \u001b[38;5;28;01mraise\u001b[39;00m exc\u001b[38;5;241m.\u001b[39mObjectNotExecutableError(statement) \u001b[38;5;28;01mfrom\u001b[39;00m \u001b[38;5;21;01merr\u001b[39;00m\n\u001b[1;32m   1417\u001b[0m \u001b[38;5;28;01melse\u001b[39;00m:\n\u001b[0;32m-> 1418\u001b[0m     \u001b[38;5;28;01mreturn\u001b[39;00m meth(\n\u001b[1;32m   1419\u001b[0m         \u001b[38;5;28mself\u001b[39m,\n\u001b[1;32m   1420\u001b[0m         distilled_parameters,\n\u001b[1;32m   1421\u001b[0m         execution_options \u001b[38;5;129;01mor\u001b[39;00m NO_OPTIONS,\n\u001b[1;32m   1422\u001b[0m     )\n",
      "File \u001b[0;32m/opt/anaconda3/lib/python3.12/site-packages/sqlalchemy/sql/ddl.py:180\u001b[0m, in \u001b[0;36mExecutableDDLElement._execute_on_connection\u001b[0;34m(self, connection, distilled_params, execution_options)\u001b[0m\n\u001b[1;32m    177\u001b[0m \u001b[38;5;28;01mdef\u001b[39;00m \u001b[38;5;21m_execute_on_connection\u001b[39m(\n\u001b[1;32m    178\u001b[0m     \u001b[38;5;28mself\u001b[39m, connection, distilled_params, execution_options\n\u001b[1;32m    179\u001b[0m ):\n\u001b[0;32m--> 180\u001b[0m     \u001b[38;5;28;01mreturn\u001b[39;00m connection\u001b[38;5;241m.\u001b[39m_execute_ddl(\n\u001b[1;32m    181\u001b[0m         \u001b[38;5;28mself\u001b[39m, distilled_params, execution_options\n\u001b[1;32m    182\u001b[0m     )\n",
      "File \u001b[0;32m/opt/anaconda3/lib/python3.12/site-packages/sqlalchemy/engine/base.py:1529\u001b[0m, in \u001b[0;36mConnection._execute_ddl\u001b[0;34m(self, ddl, distilled_parameters, execution_options)\u001b[0m\n\u001b[1;32m   1524\u001b[0m dialect \u001b[38;5;241m=\u001b[39m \u001b[38;5;28mself\u001b[39m\u001b[38;5;241m.\u001b[39mdialect\n\u001b[1;32m   1526\u001b[0m compiled \u001b[38;5;241m=\u001b[39m ddl\u001b[38;5;241m.\u001b[39mcompile(\n\u001b[1;32m   1527\u001b[0m     dialect\u001b[38;5;241m=\u001b[39mdialect, schema_translate_map\u001b[38;5;241m=\u001b[39mschema_translate_map\n\u001b[1;32m   1528\u001b[0m )\n\u001b[0;32m-> 1529\u001b[0m ret \u001b[38;5;241m=\u001b[39m \u001b[38;5;28mself\u001b[39m\u001b[38;5;241m.\u001b[39m_execute_context(\n\u001b[1;32m   1530\u001b[0m     dialect,\n\u001b[1;32m   1531\u001b[0m     dialect\u001b[38;5;241m.\u001b[39mexecution_ctx_cls\u001b[38;5;241m.\u001b[39m_init_ddl,\n\u001b[1;32m   1532\u001b[0m     compiled,\n\u001b[1;32m   1533\u001b[0m     \u001b[38;5;28;01mNone\u001b[39;00m,\n\u001b[1;32m   1534\u001b[0m     exec_opts,\n\u001b[1;32m   1535\u001b[0m     compiled,\n\u001b[1;32m   1536\u001b[0m )\n\u001b[1;32m   1537\u001b[0m \u001b[38;5;28;01mif\u001b[39;00m \u001b[38;5;28mself\u001b[39m\u001b[38;5;241m.\u001b[39m_has_events \u001b[38;5;129;01mor\u001b[39;00m \u001b[38;5;28mself\u001b[39m\u001b[38;5;241m.\u001b[39mengine\u001b[38;5;241m.\u001b[39m_has_events:\n\u001b[1;32m   1538\u001b[0m     \u001b[38;5;28mself\u001b[39m\u001b[38;5;241m.\u001b[39mdispatch\u001b[38;5;241m.\u001b[39mafter_execute(\n\u001b[1;32m   1539\u001b[0m         \u001b[38;5;28mself\u001b[39m,\n\u001b[1;32m   1540\u001b[0m         ddl,\n\u001b[0;32m   (...)\u001b[0m\n\u001b[1;32m   1544\u001b[0m         ret,\n\u001b[1;32m   1545\u001b[0m     )\n",
      "File \u001b[0;32m/opt/anaconda3/lib/python3.12/site-packages/sqlalchemy/engine/base.py:1846\u001b[0m, in \u001b[0;36mConnection._execute_context\u001b[0;34m(self, dialect, constructor, statement, parameters, execution_options, *args, **kw)\u001b[0m\n\u001b[1;32m   1844\u001b[0m     \u001b[38;5;28;01mreturn\u001b[39;00m \u001b[38;5;28mself\u001b[39m\u001b[38;5;241m.\u001b[39m_exec_insertmany_context(dialect, context)\n\u001b[1;32m   1845\u001b[0m \u001b[38;5;28;01melse\u001b[39;00m:\n\u001b[0;32m-> 1846\u001b[0m     \u001b[38;5;28;01mreturn\u001b[39;00m \u001b[38;5;28mself\u001b[39m\u001b[38;5;241m.\u001b[39m_exec_single_context(\n\u001b[1;32m   1847\u001b[0m         dialect, context, statement, parameters\n\u001b[1;32m   1848\u001b[0m     )\n",
      "File \u001b[0;32m/opt/anaconda3/lib/python3.12/site-packages/sqlalchemy/engine/base.py:1986\u001b[0m, in \u001b[0;36mConnection._exec_single_context\u001b[0;34m(self, dialect, context, statement, parameters)\u001b[0m\n\u001b[1;32m   1983\u001b[0m     result \u001b[38;5;241m=\u001b[39m context\u001b[38;5;241m.\u001b[39m_setup_result_proxy()\n\u001b[1;32m   1985\u001b[0m \u001b[38;5;28;01mexcept\u001b[39;00m \u001b[38;5;167;01mBaseException\u001b[39;00m \u001b[38;5;28;01mas\u001b[39;00m e:\n\u001b[0;32m-> 1986\u001b[0m     \u001b[38;5;28mself\u001b[39m\u001b[38;5;241m.\u001b[39m_handle_dbapi_exception(\n\u001b[1;32m   1987\u001b[0m         e, str_statement, effective_parameters, cursor, context\n\u001b[1;32m   1988\u001b[0m     )\n\u001b[1;32m   1990\u001b[0m \u001b[38;5;28;01mreturn\u001b[39;00m result\n",
      "File \u001b[0;32m/opt/anaconda3/lib/python3.12/site-packages/sqlalchemy/engine/base.py:2355\u001b[0m, in \u001b[0;36mConnection._handle_dbapi_exception\u001b[0;34m(self, e, statement, parameters, cursor, context, is_sub_exec)\u001b[0m\n\u001b[1;32m   2353\u001b[0m \u001b[38;5;28;01melif\u001b[39;00m should_wrap:\n\u001b[1;32m   2354\u001b[0m     \u001b[38;5;28;01massert\u001b[39;00m sqlalchemy_exception \u001b[38;5;129;01mis\u001b[39;00m \u001b[38;5;129;01mnot\u001b[39;00m \u001b[38;5;28;01mNone\u001b[39;00m\n\u001b[0;32m-> 2355\u001b[0m     \u001b[38;5;28;01mraise\u001b[39;00m sqlalchemy_exception\u001b[38;5;241m.\u001b[39mwith_traceback(exc_info[\u001b[38;5;241m2\u001b[39m]) \u001b[38;5;28;01mfrom\u001b[39;00m \u001b[38;5;21;01me\u001b[39;00m\n\u001b[1;32m   2356\u001b[0m \u001b[38;5;28;01melse\u001b[39;00m:\n\u001b[1;32m   2357\u001b[0m     \u001b[38;5;28;01massert\u001b[39;00m exc_info[\u001b[38;5;241m1\u001b[39m] \u001b[38;5;129;01mis\u001b[39;00m \u001b[38;5;129;01mnot\u001b[39;00m \u001b[38;5;28;01mNone\u001b[39;00m\n",
      "File \u001b[0;32m/opt/anaconda3/lib/python3.12/site-packages/sqlalchemy/engine/base.py:1967\u001b[0m, in \u001b[0;36mConnection._exec_single_context\u001b[0;34m(self, dialect, context, statement, parameters)\u001b[0m\n\u001b[1;32m   1965\u001b[0m                 \u001b[38;5;28;01mbreak\u001b[39;00m\n\u001b[1;32m   1966\u001b[0m     \u001b[38;5;28;01mif\u001b[39;00m \u001b[38;5;129;01mnot\u001b[39;00m evt_handled:\n\u001b[0;32m-> 1967\u001b[0m         \u001b[38;5;28mself\u001b[39m\u001b[38;5;241m.\u001b[39mdialect\u001b[38;5;241m.\u001b[39mdo_execute(\n\u001b[1;32m   1968\u001b[0m             cursor, str_statement, effective_parameters, context\n\u001b[1;32m   1969\u001b[0m         )\n\u001b[1;32m   1971\u001b[0m \u001b[38;5;28;01mif\u001b[39;00m \u001b[38;5;28mself\u001b[39m\u001b[38;5;241m.\u001b[39m_has_events \u001b[38;5;129;01mor\u001b[39;00m \u001b[38;5;28mself\u001b[39m\u001b[38;5;241m.\u001b[39mengine\u001b[38;5;241m.\u001b[39m_has_events:\n\u001b[1;32m   1972\u001b[0m     \u001b[38;5;28mself\u001b[39m\u001b[38;5;241m.\u001b[39mdispatch\u001b[38;5;241m.\u001b[39mafter_cursor_execute(\n\u001b[1;32m   1973\u001b[0m         \u001b[38;5;28mself\u001b[39m,\n\u001b[1;32m   1974\u001b[0m         cursor,\n\u001b[0;32m   (...)\u001b[0m\n\u001b[1;32m   1978\u001b[0m         context\u001b[38;5;241m.\u001b[39mexecutemany,\n\u001b[1;32m   1979\u001b[0m     )\n",
      "File \u001b[0;32m/opt/anaconda3/lib/python3.12/site-packages/sqlalchemy/engine/default.py:941\u001b[0m, in \u001b[0;36mDefaultDialect.do_execute\u001b[0;34m(self, cursor, statement, parameters, context)\u001b[0m\n\u001b[1;32m    940\u001b[0m \u001b[38;5;28;01mdef\u001b[39;00m \u001b[38;5;21mdo_execute\u001b[39m(\u001b[38;5;28mself\u001b[39m, cursor, statement, parameters, context\u001b[38;5;241m=\u001b[39m\u001b[38;5;28;01mNone\u001b[39;00m):\n\u001b[0;32m--> 941\u001b[0m     cursor\u001b[38;5;241m.\u001b[39mexecute(statement, parameters)\n",
      "\u001b[0;31mOperationalError\u001b[0m: (sqlite3.OperationalError) database is locked\n[SQL: \nDROP TABLE sales_data]\n(Background on this error at: https://sqlalche.me/e/20/e3q8)"
     ]
    }
   ],
   "source": [
    "sales_data.to_sql('sales_data', con=engine, if_exists='replace', index=False)\n",
    "### inserting sales_data in a SQL tabel"
   ]
  },
  {
   "cell_type": "code",
   "execution_count": null,
   "id": "827eea63-f6fc-4448-a9f7-62f1537cc387",
   "metadata": {},
   "outputs": [],
   "source": [
    "with engine.connect() as conn:\n",
    "    result = conn.execute(text(\"SELECT COUNT(*) FROM sales_data\"))\n",
    "    print(result.fetchone())\n"
   ]
  },
  {
   "cell_type": "markdown",
   "id": "45d82d75-1023-4ab4-9de5-0978d5e1227e",
   "metadata": {},
   "source": [
    "## SQL-Practice "
   ]
  },
  {
   "cell_type": "code",
   "execution_count": null,
   "id": "104a2759-15a0-49ec-9237-6070b3b186e5",
   "metadata": {},
   "outputs": [],
   "source": [
    "### Revenue by Product Category\n",
    "\n",
    "query1 = text(\"\"\"\n",
    "SELECT product_category_name, \n",
    "       SUM(price) AS total_revenue\n",
    "FROM sales_data\n",
    "GROUP BY product_category_name\n",
    "ORDER BY total_revenue DESC\n",
    "LIMIT 10\n",
    "\"\"\")\n",
    "\n",
    "with engine.connect() as conn:\n",
    "    result = conn.execute(query1).fetchall()\n",
    "\n",
    "for row in result:\n",
    "    print(row)\n"
   ]
  },
  {
   "cell_type": "code",
   "execution_count": null,
   "id": "6b283e9b-5d7c-4a2f-9eee-4517d4090193",
   "metadata": {},
   "outputs": [],
   "source": [
    "### Average Freight Cost by product Category\n",
    "\n",
    "query2 = text(\"\"\"\n",
    "SELECT product_category_name,\n",
    "       ROUND(AVG(freight_value), 2) AS avg_freight\n",
    "FROM sales_data\n",
    "GROUP BY product_category_name\n",
    "ORDER BY avg_freight DESC\n",
    "LIMIT 10\n",
    "\"\"\")\n"
   ]
  },
  {
   "cell_type": "code",
   "execution_count": null,
   "id": "a32c426b-8705-444e-9998-d1621a0ca308",
   "metadata": {},
   "outputs": [],
   "source": [
    "### Order Counts by Status\n",
    "\n",
    "query3 = text(\"\"\"\n",
    "SELECT order_status, COUNT(*) AS total_orders\n",
    "FROM sales_data\n",
    "GROUP BY order_status\n",
    "ORDER BY total_orders DESC\n",
    "\"\"\")\n"
   ]
  },
  {
   "cell_type": "code",
   "execution_count": null,
   "id": "f161e38a-a412-44f5-ab7d-c039312e5a04",
   "metadata": {},
   "outputs": [],
   "source": [
    "### Average Delivery Time by Product Categoryabs\n",
    "\n",
    "query4 = text(\"\"\"\n",
    "SELECT product_category_name,\n",
    "       ROUND(AVG(delivery_time_days), 2) AS avg_delivery_days\n",
    "FROM sales_data\n",
    "GROUP BY product_category_name\n",
    "ORDER BY avg_delivery_days DESC\n",
    "LIMIT 10\n",
    "\"\"\")"
   ]
  },
  {
   "cell_type": "markdown",
   "id": "0447f9b7-a1f8-4458-a3c2-134f0952df71",
   "metadata": {},
   "source": [
    "### Final ETL Script \n",
    "\n"
   ]
  },
  {
   "cell_type": "code",
   "execution_count": 156,
   "id": "47c1ca07-90f6-4bea-83b7-df7921f7461a",
   "metadata": {
    "collapsed": true,
    "jupyter": {
     "outputs_hidden": true
    }
   },
   "outputs": [
    {
     "name": "stderr",
     "output_type": "stream",
     "text": [
      "/var/folders/37/nw4lhjzn47zfwxclrvtmx3pr0000gn/T/ipykernel_1537/1968803727.py:18: FutureWarning: A value is trying to be set on a copy of a DataFrame or Series through chained assignment using an inplace method.\n",
      "The behavior will change in pandas 3.0. This inplace method will never work because the intermediate object on which we are setting values always behaves as a copy.\n",
      "\n",
      "For example, when doing 'df[col].method(value, inplace=True)', try using 'df.method({col: value}, inplace=True)' or df[col] = df[col].method(value) instead, to perform the operation inplace on the original object.\n",
      "\n",
      "\n",
      "  sales_data['product_category_name'].fillna('Unknown', inplace=True)\n",
      "/var/folders/37/nw4lhjzn47zfwxclrvtmx3pr0000gn/T/ipykernel_1537/1968803727.py:19: FutureWarning: A value is trying to be set on a copy of a DataFrame or Series through chained assignment using an inplace method.\n",
      "The behavior will change in pandas 3.0. This inplace method will never work because the intermediate object on which we are setting values always behaves as a copy.\n",
      "\n",
      "For example, when doing 'df[col].method(value, inplace=True)', try using 'df.method({col: value}, inplace=True)' or df[col] = df[col].method(value) instead, to perform the operation inplace on the original object.\n",
      "\n",
      "\n",
      "  sales_data['product_name_lenght'].fillna(0, inplace=True)\n",
      "/var/folders/37/nw4lhjzn47zfwxclrvtmx3pr0000gn/T/ipykernel_1537/1968803727.py:20: FutureWarning: A value is trying to be set on a copy of a DataFrame or Series through chained assignment using an inplace method.\n",
      "The behavior will change in pandas 3.0. This inplace method will never work because the intermediate object on which we are setting values always behaves as a copy.\n",
      "\n",
      "For example, when doing 'df[col].method(value, inplace=True)', try using 'df.method({col: value}, inplace=True)' or df[col] = df[col].method(value) instead, to perform the operation inplace on the original object.\n",
      "\n",
      "\n",
      "  sales_data['product_description_lenght'].fillna(0, inplace=True)\n",
      "/var/folders/37/nw4lhjzn47zfwxclrvtmx3pr0000gn/T/ipykernel_1537/1968803727.py:21: FutureWarning: A value is trying to be set on a copy of a DataFrame or Series through chained assignment using an inplace method.\n",
      "The behavior will change in pandas 3.0. This inplace method will never work because the intermediate object on which we are setting values always behaves as a copy.\n",
      "\n",
      "For example, when doing 'df[col].method(value, inplace=True)', try using 'df.method({col: value}, inplace=True)' or df[col] = df[col].method(value) instead, to perform the operation inplace on the original object.\n",
      "\n",
      "\n",
      "  sales_data['product_photos_qty'].fillna(0, inplace=True)\n",
      "/var/folders/37/nw4lhjzn47zfwxclrvtmx3pr0000gn/T/ipykernel_1537/1968803727.py:26: FutureWarning: A value is trying to be set on a copy of a DataFrame or Series through chained assignment using an inplace method.\n",
      "The behavior will change in pandas 3.0. This inplace method will never work because the intermediate object on which we are setting values always behaves as a copy.\n",
      "\n",
      "For example, when doing 'df[col].method(value, inplace=True)', try using 'df.method({col: value}, inplace=True)' or df[col] = df[col].method(value) instead, to perform the operation inplace on the original object.\n",
      "\n",
      "\n",
      "  sales_data[col].fillna(median_value, inplace=True)\n",
      "/var/folders/37/nw4lhjzn47zfwxclrvtmx3pr0000gn/T/ipykernel_1537/1968803727.py:30: FutureWarning: A value is trying to be set on a copy of a DataFrame or Series through chained assignment using an inplace method.\n",
      "The behavior will change in pandas 3.0. This inplace method will never work because the intermediate object on which we are setting values always behaves as a copy.\n",
      "\n",
      "For example, when doing 'df[col].method(value, inplace=True)', try using 'df.method({col: value}, inplace=True)' or df[col] = df[col].method(value) instead, to perform the operation inplace on the original object.\n",
      "\n",
      "\n",
      "  sales_data['order_approved_at'].fillna(sales_data['order_purchase_timestamp'], inplace=True)\n"
     ]
    },
    {
     "ename": "OperationalError",
     "evalue": "(sqlite3.OperationalError) database is locked\n[SQL: \nDROP TABLE sales_data]\n(Background on this error at: https://sqlalche.me/e/20/e3q8)",
     "output_type": "error",
     "traceback": [
      "\u001b[0;31m---------------------------------------------------------------------------\u001b[0m",
      "\u001b[0;31mOperationalError\u001b[0m                          Traceback (most recent call last)",
      "File \u001b[0;32m/opt/anaconda3/lib/python3.12/site-packages/sqlalchemy/engine/base.py:1967\u001b[0m, in \u001b[0;36mConnection._exec_single_context\u001b[0;34m(self, dialect, context, statement, parameters)\u001b[0m\n\u001b[1;32m   1966\u001b[0m     \u001b[38;5;28;01mif\u001b[39;00m \u001b[38;5;129;01mnot\u001b[39;00m evt_handled:\n\u001b[0;32m-> 1967\u001b[0m         \u001b[38;5;28mself\u001b[39m\u001b[38;5;241m.\u001b[39mdialect\u001b[38;5;241m.\u001b[39mdo_execute(\n\u001b[1;32m   1968\u001b[0m             cursor, str_statement, effective_parameters, context\n\u001b[1;32m   1969\u001b[0m         )\n\u001b[1;32m   1971\u001b[0m \u001b[38;5;28;01mif\u001b[39;00m \u001b[38;5;28mself\u001b[39m\u001b[38;5;241m.\u001b[39m_has_events \u001b[38;5;129;01mor\u001b[39;00m \u001b[38;5;28mself\u001b[39m\u001b[38;5;241m.\u001b[39mengine\u001b[38;5;241m.\u001b[39m_has_events:\n",
      "File \u001b[0;32m/opt/anaconda3/lib/python3.12/site-packages/sqlalchemy/engine/default.py:941\u001b[0m, in \u001b[0;36mDefaultDialect.do_execute\u001b[0;34m(self, cursor, statement, parameters, context)\u001b[0m\n\u001b[1;32m    940\u001b[0m \u001b[38;5;28;01mdef\u001b[39;00m \u001b[38;5;21mdo_execute\u001b[39m(\u001b[38;5;28mself\u001b[39m, cursor, statement, parameters, context\u001b[38;5;241m=\u001b[39m\u001b[38;5;28;01mNone\u001b[39;00m):\n\u001b[0;32m--> 941\u001b[0m     cursor\u001b[38;5;241m.\u001b[39mexecute(statement, parameters)\n",
      "\u001b[0;31mOperationalError\u001b[0m: database is locked",
      "\nThe above exception was the direct cause of the following exception:\n",
      "\u001b[0;31mOperationalError\u001b[0m                          Traceback (most recent call last)",
      "Cell \u001b[0;32mIn[156], line 66\u001b[0m\n\u001b[1;32m     63\u001b[0m     \u001b[38;5;28mprint\u001b[39m(\u001b[38;5;124m\"\u001b[39m\u001b[38;5;124m✅ ETL process complete.\u001b[39m\u001b[38;5;124m\"\u001b[39m)\n\u001b[1;32m     65\u001b[0m \u001b[38;5;66;03m# Execute it\u001b[39;00m\n\u001b[0;32m---> 66\u001b[0m run_etl()\n",
      "Cell \u001b[0;32mIn[156], line 62\u001b[0m, in \u001b[0;36mrun_etl\u001b[0;34m()\u001b[0m\n\u001b[1;32m     60\u001b[0m orders, order_items, products \u001b[38;5;241m=\u001b[39m extract_data()\n\u001b[1;32m     61\u001b[0m sales_data \u001b[38;5;241m=\u001b[39m transform_data(orders, order_items, products)\n\u001b[0;32m---> 62\u001b[0m load_data(sales_data)\n\u001b[1;32m     63\u001b[0m \u001b[38;5;28mprint\u001b[39m(\u001b[38;5;124m\"\u001b[39m\u001b[38;5;124m✅ ETL process complete.\u001b[39m\u001b[38;5;124m\"\u001b[39m)\n",
      "Cell \u001b[0;32mIn[156], line 55\u001b[0m, in \u001b[0;36mload_data\u001b[0;34m(sales_data, db_name)\u001b[0m\n\u001b[1;32m     53\u001b[0m \u001b[38;5;28;01mdef\u001b[39;00m \u001b[38;5;21mload_data\u001b[39m(sales_data, db_name\u001b[38;5;241m=\u001b[39m\u001b[38;5;124m'\u001b[39m\u001b[38;5;124mecommerce.db\u001b[39m\u001b[38;5;124m'\u001b[39m):\n\u001b[1;32m     54\u001b[0m     engine \u001b[38;5;241m=\u001b[39m create_engine(\u001b[38;5;124mf\u001b[39m\u001b[38;5;124m'\u001b[39m\u001b[38;5;124msqlite:///\u001b[39m\u001b[38;5;132;01m{\u001b[39;00mdb_name\u001b[38;5;132;01m}\u001b[39;00m\u001b[38;5;124m'\u001b[39m)\n\u001b[0;32m---> 55\u001b[0m     sales_data\u001b[38;5;241m.\u001b[39mto_sql(\u001b[38;5;124m'\u001b[39m\u001b[38;5;124msales_data\u001b[39m\u001b[38;5;124m'\u001b[39m, con\u001b[38;5;241m=\u001b[39mengine, if_exists\u001b[38;5;241m=\u001b[39m\u001b[38;5;124m'\u001b[39m\u001b[38;5;124mreplace\u001b[39m\u001b[38;5;124m'\u001b[39m, index\u001b[38;5;241m=\u001b[39m\u001b[38;5;28;01mFalse\u001b[39;00m)\n\u001b[1;32m     56\u001b[0m     \u001b[38;5;28mprint\u001b[39m(\u001b[38;5;124m\"\u001b[39m\u001b[38;5;124m✅ Data loaded into SQLite database.\u001b[39m\u001b[38;5;124m\"\u001b[39m)\n",
      "File \u001b[0;32m/opt/anaconda3/lib/python3.12/site-packages/pandas/util/_decorators.py:333\u001b[0m, in \u001b[0;36mdeprecate_nonkeyword_arguments.<locals>.decorate.<locals>.wrapper\u001b[0;34m(*args, **kwargs)\u001b[0m\n\u001b[1;32m    327\u001b[0m \u001b[38;5;28;01mif\u001b[39;00m \u001b[38;5;28mlen\u001b[39m(args) \u001b[38;5;241m>\u001b[39m num_allow_args:\n\u001b[1;32m    328\u001b[0m     warnings\u001b[38;5;241m.\u001b[39mwarn(\n\u001b[1;32m    329\u001b[0m         msg\u001b[38;5;241m.\u001b[39mformat(arguments\u001b[38;5;241m=\u001b[39m_format_argument_list(allow_args)),\n\u001b[1;32m    330\u001b[0m         \u001b[38;5;167;01mFutureWarning\u001b[39;00m,\n\u001b[1;32m    331\u001b[0m         stacklevel\u001b[38;5;241m=\u001b[39mfind_stack_level(),\n\u001b[1;32m    332\u001b[0m     )\n\u001b[0;32m--> 333\u001b[0m \u001b[38;5;28;01mreturn\u001b[39;00m func(\u001b[38;5;241m*\u001b[39margs, \u001b[38;5;241m*\u001b[39m\u001b[38;5;241m*\u001b[39mkwargs)\n",
      "File \u001b[0;32m/opt/anaconda3/lib/python3.12/site-packages/pandas/core/generic.py:3087\u001b[0m, in \u001b[0;36mNDFrame.to_sql\u001b[0;34m(self, name, con, schema, if_exists, index, index_label, chunksize, dtype, method)\u001b[0m\n\u001b[1;32m   2889\u001b[0m \u001b[38;5;250m\u001b[39m\u001b[38;5;124;03m\"\"\"\u001b[39;00m\n\u001b[1;32m   2890\u001b[0m \u001b[38;5;124;03mWrite records stored in a DataFrame to a SQL database.\u001b[39;00m\n\u001b[1;32m   2891\u001b[0m \n\u001b[0;32m   (...)\u001b[0m\n\u001b[1;32m   3083\u001b[0m \u001b[38;5;124;03m[(1,), (None,), (2,)]\u001b[39;00m\n\u001b[1;32m   3084\u001b[0m \u001b[38;5;124;03m\"\"\"\u001b[39;00m  \u001b[38;5;66;03m# noqa: E501\u001b[39;00m\n\u001b[1;32m   3085\u001b[0m \u001b[38;5;28;01mfrom\u001b[39;00m \u001b[38;5;21;01mpandas\u001b[39;00m\u001b[38;5;21;01m.\u001b[39;00m\u001b[38;5;21;01mio\u001b[39;00m \u001b[38;5;28;01mimport\u001b[39;00m sql\n\u001b[0;32m-> 3087\u001b[0m \u001b[38;5;28;01mreturn\u001b[39;00m sql\u001b[38;5;241m.\u001b[39mto_sql(\n\u001b[1;32m   3088\u001b[0m     \u001b[38;5;28mself\u001b[39m,\n\u001b[1;32m   3089\u001b[0m     name,\n\u001b[1;32m   3090\u001b[0m     con,\n\u001b[1;32m   3091\u001b[0m     schema\u001b[38;5;241m=\u001b[39mschema,\n\u001b[1;32m   3092\u001b[0m     if_exists\u001b[38;5;241m=\u001b[39mif_exists,\n\u001b[1;32m   3093\u001b[0m     index\u001b[38;5;241m=\u001b[39mindex,\n\u001b[1;32m   3094\u001b[0m     index_label\u001b[38;5;241m=\u001b[39mindex_label,\n\u001b[1;32m   3095\u001b[0m     chunksize\u001b[38;5;241m=\u001b[39mchunksize,\n\u001b[1;32m   3096\u001b[0m     dtype\u001b[38;5;241m=\u001b[39mdtype,\n\u001b[1;32m   3097\u001b[0m     method\u001b[38;5;241m=\u001b[39mmethod,\n\u001b[1;32m   3098\u001b[0m )\n",
      "File \u001b[0;32m/opt/anaconda3/lib/python3.12/site-packages/pandas/io/sql.py:842\u001b[0m, in \u001b[0;36mto_sql\u001b[0;34m(frame, name, con, schema, if_exists, index, index_label, chunksize, dtype, method, engine, **engine_kwargs)\u001b[0m\n\u001b[1;32m    837\u001b[0m     \u001b[38;5;28;01mraise\u001b[39;00m \u001b[38;5;167;01mNotImplementedError\u001b[39;00m(\n\u001b[1;32m    838\u001b[0m         \u001b[38;5;124m\"\u001b[39m\u001b[38;5;124m'\u001b[39m\u001b[38;5;124mframe\u001b[39m\u001b[38;5;124m'\u001b[39m\u001b[38;5;124m argument should be either a Series or a DataFrame\u001b[39m\u001b[38;5;124m\"\u001b[39m\n\u001b[1;32m    839\u001b[0m     )\n\u001b[1;32m    841\u001b[0m \u001b[38;5;28;01mwith\u001b[39;00m pandasSQL_builder(con, schema\u001b[38;5;241m=\u001b[39mschema, need_transaction\u001b[38;5;241m=\u001b[39m\u001b[38;5;28;01mTrue\u001b[39;00m) \u001b[38;5;28;01mas\u001b[39;00m pandas_sql:\n\u001b[0;32m--> 842\u001b[0m     \u001b[38;5;28;01mreturn\u001b[39;00m pandas_sql\u001b[38;5;241m.\u001b[39mto_sql(\n\u001b[1;32m    843\u001b[0m         frame,\n\u001b[1;32m    844\u001b[0m         name,\n\u001b[1;32m    845\u001b[0m         if_exists\u001b[38;5;241m=\u001b[39mif_exists,\n\u001b[1;32m    846\u001b[0m         index\u001b[38;5;241m=\u001b[39mindex,\n\u001b[1;32m    847\u001b[0m         index_label\u001b[38;5;241m=\u001b[39mindex_label,\n\u001b[1;32m    848\u001b[0m         schema\u001b[38;5;241m=\u001b[39mschema,\n\u001b[1;32m    849\u001b[0m         chunksize\u001b[38;5;241m=\u001b[39mchunksize,\n\u001b[1;32m    850\u001b[0m         dtype\u001b[38;5;241m=\u001b[39mdtype,\n\u001b[1;32m    851\u001b[0m         method\u001b[38;5;241m=\u001b[39mmethod,\n\u001b[1;32m    852\u001b[0m         engine\u001b[38;5;241m=\u001b[39mengine,\n\u001b[1;32m    853\u001b[0m         \u001b[38;5;241m*\u001b[39m\u001b[38;5;241m*\u001b[39mengine_kwargs,\n\u001b[1;32m    854\u001b[0m     )\n",
      "File \u001b[0;32m/opt/anaconda3/lib/python3.12/site-packages/pandas/io/sql.py:2008\u001b[0m, in \u001b[0;36mSQLDatabase.to_sql\u001b[0;34m(self, frame, name, if_exists, index, index_label, schema, chunksize, dtype, method, engine, **engine_kwargs)\u001b[0m\n\u001b[1;32m   1958\u001b[0m \u001b[38;5;250m\u001b[39m\u001b[38;5;124;03m\"\"\"\u001b[39;00m\n\u001b[1;32m   1959\u001b[0m \u001b[38;5;124;03mWrite records stored in a DataFrame to a SQL database.\u001b[39;00m\n\u001b[1;32m   1960\u001b[0m \n\u001b[0;32m   (...)\u001b[0m\n\u001b[1;32m   2004\u001b[0m \u001b[38;5;124;03m    Any additional kwargs are passed to the engine.\u001b[39;00m\n\u001b[1;32m   2005\u001b[0m \u001b[38;5;124;03m\"\"\"\u001b[39;00m\n\u001b[1;32m   2006\u001b[0m sql_engine \u001b[38;5;241m=\u001b[39m get_engine(engine)\n\u001b[0;32m-> 2008\u001b[0m table \u001b[38;5;241m=\u001b[39m \u001b[38;5;28mself\u001b[39m\u001b[38;5;241m.\u001b[39mprep_table(\n\u001b[1;32m   2009\u001b[0m     frame\u001b[38;5;241m=\u001b[39mframe,\n\u001b[1;32m   2010\u001b[0m     name\u001b[38;5;241m=\u001b[39mname,\n\u001b[1;32m   2011\u001b[0m     if_exists\u001b[38;5;241m=\u001b[39mif_exists,\n\u001b[1;32m   2012\u001b[0m     index\u001b[38;5;241m=\u001b[39mindex,\n\u001b[1;32m   2013\u001b[0m     index_label\u001b[38;5;241m=\u001b[39mindex_label,\n\u001b[1;32m   2014\u001b[0m     schema\u001b[38;5;241m=\u001b[39mschema,\n\u001b[1;32m   2015\u001b[0m     dtype\u001b[38;5;241m=\u001b[39mdtype,\n\u001b[1;32m   2016\u001b[0m )\n\u001b[1;32m   2018\u001b[0m total_inserted \u001b[38;5;241m=\u001b[39m sql_engine\u001b[38;5;241m.\u001b[39minsert_records(\n\u001b[1;32m   2019\u001b[0m     table\u001b[38;5;241m=\u001b[39mtable,\n\u001b[1;32m   2020\u001b[0m     con\u001b[38;5;241m=\u001b[39m\u001b[38;5;28mself\u001b[39m\u001b[38;5;241m.\u001b[39mcon,\n\u001b[0;32m   (...)\u001b[0m\n\u001b[1;32m   2027\u001b[0m     \u001b[38;5;241m*\u001b[39m\u001b[38;5;241m*\u001b[39mengine_kwargs,\n\u001b[1;32m   2028\u001b[0m )\n\u001b[1;32m   2030\u001b[0m \u001b[38;5;28mself\u001b[39m\u001b[38;5;241m.\u001b[39mcheck_case_sensitive(name\u001b[38;5;241m=\u001b[39mname, schema\u001b[38;5;241m=\u001b[39mschema)\n",
      "File \u001b[0;32m/opt/anaconda3/lib/python3.12/site-packages/pandas/io/sql.py:1912\u001b[0m, in \u001b[0;36mSQLDatabase.prep_table\u001b[0;34m(self, frame, name, if_exists, index, index_label, schema, dtype)\u001b[0m\n\u001b[1;32m   1900\u001b[0m             \u001b[38;5;28;01mraise\u001b[39;00m \u001b[38;5;167;01mValueError\u001b[39;00m(\u001b[38;5;124mf\u001b[39m\u001b[38;5;124m\"\u001b[39m\u001b[38;5;124mThe type of \u001b[39m\u001b[38;5;132;01m{\u001b[39;00mcol\u001b[38;5;132;01m}\u001b[39;00m\u001b[38;5;124m is not a SQLAlchemy type\u001b[39m\u001b[38;5;124m\"\u001b[39m)\n\u001b[1;32m   1902\u001b[0m table \u001b[38;5;241m=\u001b[39m SQLTable(\n\u001b[1;32m   1903\u001b[0m     name,\n\u001b[1;32m   1904\u001b[0m     \u001b[38;5;28mself\u001b[39m,\n\u001b[0;32m   (...)\u001b[0m\n\u001b[1;32m   1910\u001b[0m     dtype\u001b[38;5;241m=\u001b[39mdtype,\n\u001b[1;32m   1911\u001b[0m )\n\u001b[0;32m-> 1912\u001b[0m table\u001b[38;5;241m.\u001b[39mcreate()\n\u001b[1;32m   1913\u001b[0m \u001b[38;5;28;01mreturn\u001b[39;00m table\n",
      "File \u001b[0;32m/opt/anaconda3/lib/python3.12/site-packages/pandas/io/sql.py:988\u001b[0m, in \u001b[0;36mSQLTable.create\u001b[0;34m(self)\u001b[0m\n\u001b[1;32m    986\u001b[0m     \u001b[38;5;28;01mraise\u001b[39;00m \u001b[38;5;167;01mValueError\u001b[39;00m(\u001b[38;5;124mf\u001b[39m\u001b[38;5;124m\"\u001b[39m\u001b[38;5;124mTable \u001b[39m\u001b[38;5;124m'\u001b[39m\u001b[38;5;132;01m{\u001b[39;00m\u001b[38;5;28mself\u001b[39m\u001b[38;5;241m.\u001b[39mname\u001b[38;5;132;01m}\u001b[39;00m\u001b[38;5;124m'\u001b[39m\u001b[38;5;124m already exists.\u001b[39m\u001b[38;5;124m\"\u001b[39m)\n\u001b[1;32m    987\u001b[0m \u001b[38;5;28;01mif\u001b[39;00m \u001b[38;5;28mself\u001b[39m\u001b[38;5;241m.\u001b[39mif_exists \u001b[38;5;241m==\u001b[39m \u001b[38;5;124m\"\u001b[39m\u001b[38;5;124mreplace\u001b[39m\u001b[38;5;124m\"\u001b[39m:\n\u001b[0;32m--> 988\u001b[0m     \u001b[38;5;28mself\u001b[39m\u001b[38;5;241m.\u001b[39mpd_sql\u001b[38;5;241m.\u001b[39mdrop_table(\u001b[38;5;28mself\u001b[39m\u001b[38;5;241m.\u001b[39mname, \u001b[38;5;28mself\u001b[39m\u001b[38;5;241m.\u001b[39mschema)\n\u001b[1;32m    989\u001b[0m     \u001b[38;5;28mself\u001b[39m\u001b[38;5;241m.\u001b[39m_execute_create()\n\u001b[1;32m    990\u001b[0m \u001b[38;5;28;01melif\u001b[39;00m \u001b[38;5;28mself\u001b[39m\u001b[38;5;241m.\u001b[39mif_exists \u001b[38;5;241m==\u001b[39m \u001b[38;5;124m\"\u001b[39m\u001b[38;5;124mappend\u001b[39m\u001b[38;5;124m\"\u001b[39m:\n",
      "File \u001b[0;32m/opt/anaconda3/lib/python3.12/site-packages/pandas/io/sql.py:2063\u001b[0m, in \u001b[0;36mSQLDatabase.drop_table\u001b[0;34m(self, table_name, schema)\u001b[0m\n\u001b[1;32m   2059\u001b[0m \u001b[38;5;28mself\u001b[39m\u001b[38;5;241m.\u001b[39mmeta\u001b[38;5;241m.\u001b[39mreflect(\n\u001b[1;32m   2060\u001b[0m     bind\u001b[38;5;241m=\u001b[39m\u001b[38;5;28mself\u001b[39m\u001b[38;5;241m.\u001b[39mcon, only\u001b[38;5;241m=\u001b[39m[table_name], schema\u001b[38;5;241m=\u001b[39mschema, views\u001b[38;5;241m=\u001b[39m\u001b[38;5;28;01mTrue\u001b[39;00m\n\u001b[1;32m   2061\u001b[0m )\n\u001b[1;32m   2062\u001b[0m \u001b[38;5;28;01mwith\u001b[39;00m \u001b[38;5;28mself\u001b[39m\u001b[38;5;241m.\u001b[39mrun_transaction():\n\u001b[0;32m-> 2063\u001b[0m     \u001b[38;5;28mself\u001b[39m\u001b[38;5;241m.\u001b[39mget_table(table_name, schema)\u001b[38;5;241m.\u001b[39mdrop(bind\u001b[38;5;241m=\u001b[39m\u001b[38;5;28mself\u001b[39m\u001b[38;5;241m.\u001b[39mcon)\n\u001b[1;32m   2064\u001b[0m \u001b[38;5;28mself\u001b[39m\u001b[38;5;241m.\u001b[39mmeta\u001b[38;5;241m.\u001b[39mclear()\n",
      "File \u001b[0;32m/opt/anaconda3/lib/python3.12/site-packages/sqlalchemy/sql/schema.py:1296\u001b[0m, in \u001b[0;36mTable.drop\u001b[0;34m(self, bind, checkfirst)\u001b[0m\n\u001b[1;32m   1286\u001b[0m \u001b[38;5;28;01mdef\u001b[39;00m \u001b[38;5;21mdrop\u001b[39m(\u001b[38;5;28mself\u001b[39m, bind: _CreateDropBind, checkfirst: \u001b[38;5;28mbool\u001b[39m \u001b[38;5;241m=\u001b[39m \u001b[38;5;28;01mFalse\u001b[39;00m) \u001b[38;5;241m-\u001b[39m\u001b[38;5;241m>\u001b[39m \u001b[38;5;28;01mNone\u001b[39;00m:\n\u001b[1;32m   1287\u001b[0m \u001b[38;5;250m    \u001b[39m\u001b[38;5;124;03m\"\"\"Issue a ``DROP`` statement for this\u001b[39;00m\n\u001b[1;32m   1288\u001b[0m \u001b[38;5;124;03m    :class:`_schema.Table`, using the given\u001b[39;00m\n\u001b[1;32m   1289\u001b[0m \u001b[38;5;124;03m    :class:`.Connection` or :class:`.Engine` for connectivity.\u001b[39;00m\n\u001b[0;32m   (...)\u001b[0m\n\u001b[1;32m   1294\u001b[0m \n\u001b[1;32m   1295\u001b[0m \u001b[38;5;124;03m    \"\"\"\u001b[39;00m\n\u001b[0;32m-> 1296\u001b[0m     bind\u001b[38;5;241m.\u001b[39m_run_ddl_visitor(ddl\u001b[38;5;241m.\u001b[39mSchemaDropper, \u001b[38;5;28mself\u001b[39m, checkfirst\u001b[38;5;241m=\u001b[39mcheckfirst)\n",
      "File \u001b[0;32m/opt/anaconda3/lib/python3.12/site-packages/sqlalchemy/engine/base.py:2459\u001b[0m, in \u001b[0;36mConnection._run_ddl_visitor\u001b[0;34m(self, visitorcallable, element, **kwargs)\u001b[0m\n\u001b[1;32m   2447\u001b[0m \u001b[38;5;28;01mdef\u001b[39;00m \u001b[38;5;21m_run_ddl_visitor\u001b[39m(\n\u001b[1;32m   2448\u001b[0m     \u001b[38;5;28mself\u001b[39m,\n\u001b[1;32m   2449\u001b[0m     visitorcallable: Type[Union[SchemaGenerator, SchemaDropper]],\n\u001b[1;32m   2450\u001b[0m     element: SchemaItem,\n\u001b[1;32m   2451\u001b[0m     \u001b[38;5;241m*\u001b[39m\u001b[38;5;241m*\u001b[39mkwargs: Any,\n\u001b[1;32m   2452\u001b[0m ) \u001b[38;5;241m-\u001b[39m\u001b[38;5;241m>\u001b[39m \u001b[38;5;28;01mNone\u001b[39;00m:\n\u001b[1;32m   2453\u001b[0m \u001b[38;5;250m    \u001b[39m\u001b[38;5;124;03m\"\"\"run a DDL visitor.\u001b[39;00m\n\u001b[1;32m   2454\u001b[0m \n\u001b[1;32m   2455\u001b[0m \u001b[38;5;124;03m    This method is only here so that the MockConnection can change the\u001b[39;00m\n\u001b[1;32m   2456\u001b[0m \u001b[38;5;124;03m    options given to the visitor so that \"checkfirst\" is skipped.\u001b[39;00m\n\u001b[1;32m   2457\u001b[0m \n\u001b[1;32m   2458\u001b[0m \u001b[38;5;124;03m    \"\"\"\u001b[39;00m\n\u001b[0;32m-> 2459\u001b[0m     visitorcallable(\u001b[38;5;28mself\u001b[39m\u001b[38;5;241m.\u001b[39mdialect, \u001b[38;5;28mself\u001b[39m, \u001b[38;5;241m*\u001b[39m\u001b[38;5;241m*\u001b[39mkwargs)\u001b[38;5;241m.\u001b[39mtraverse_single(element)\n",
      "File \u001b[0;32m/opt/anaconda3/lib/python3.12/site-packages/sqlalchemy/sql/visitors.py:664\u001b[0m, in \u001b[0;36mExternalTraversal.traverse_single\u001b[0;34m(self, obj, **kw)\u001b[0m\n\u001b[1;32m    662\u001b[0m meth \u001b[38;5;241m=\u001b[39m \u001b[38;5;28mgetattr\u001b[39m(v, \u001b[38;5;124m\"\u001b[39m\u001b[38;5;124mvisit_\u001b[39m\u001b[38;5;132;01m%s\u001b[39;00m\u001b[38;5;124m\"\u001b[39m \u001b[38;5;241m%\u001b[39m obj\u001b[38;5;241m.\u001b[39m__visit_name__, \u001b[38;5;28;01mNone\u001b[39;00m)\n\u001b[1;32m    663\u001b[0m \u001b[38;5;28;01mif\u001b[39;00m meth:\n\u001b[0;32m--> 664\u001b[0m     \u001b[38;5;28;01mreturn\u001b[39;00m meth(obj, \u001b[38;5;241m*\u001b[39m\u001b[38;5;241m*\u001b[39mkw)\n",
      "File \u001b[0;32m/opt/anaconda3/lib/python3.12/site-packages/sqlalchemy/sql/ddl.py:1143\u001b[0m, in \u001b[0;36mSchemaDropper.visit_table\u001b[0;34m(self, table, drop_ok, _is_metadata_operation, _ignore_sequences)\u001b[0m\n\u001b[1;32m   1136\u001b[0m     \u001b[38;5;28;01mreturn\u001b[39;00m\n\u001b[1;32m   1138\u001b[0m \u001b[38;5;28;01mwith\u001b[39;00m \u001b[38;5;28mself\u001b[39m\u001b[38;5;241m.\u001b[39mwith_ddl_events(\n\u001b[1;32m   1139\u001b[0m     table,\n\u001b[1;32m   1140\u001b[0m     checkfirst\u001b[38;5;241m=\u001b[39m\u001b[38;5;28mself\u001b[39m\u001b[38;5;241m.\u001b[39mcheckfirst,\n\u001b[1;32m   1141\u001b[0m     _is_metadata_operation\u001b[38;5;241m=\u001b[39m_is_metadata_operation,\n\u001b[1;32m   1142\u001b[0m ):\n\u001b[0;32m-> 1143\u001b[0m     DropTable(table)\u001b[38;5;241m.\u001b[39m_invoke_with(\u001b[38;5;28mself\u001b[39m\u001b[38;5;241m.\u001b[39mconnection)\n\u001b[1;32m   1145\u001b[0m     \u001b[38;5;66;03m# traverse client side defaults which may refer to server-side\u001b[39;00m\n\u001b[1;32m   1146\u001b[0m     \u001b[38;5;66;03m# sequences. noting that some of these client side defaults may\u001b[39;00m\n\u001b[1;32m   1147\u001b[0m     \u001b[38;5;66;03m# also be set up as server side defaults\u001b[39;00m\n\u001b[0;32m   (...)\u001b[0m\n\u001b[1;32m   1150\u001b[0m     \u001b[38;5;66;03m# #associating-a-sequence-as-the-server-side-\u001b[39;00m\n\u001b[1;32m   1151\u001b[0m     \u001b[38;5;66;03m# default), so have to be dropped after the table is dropped.\u001b[39;00m\n\u001b[1;32m   1152\u001b[0m     \u001b[38;5;28;01mfor\u001b[39;00m column \u001b[38;5;129;01min\u001b[39;00m table\u001b[38;5;241m.\u001b[39mcolumns:\n",
      "File \u001b[0;32m/opt/anaconda3/lib/python3.12/site-packages/sqlalchemy/sql/ddl.py:314\u001b[0m, in \u001b[0;36mExecutableDDLElement._invoke_with\u001b[0;34m(self, bind)\u001b[0m\n\u001b[1;32m    312\u001b[0m \u001b[38;5;28;01mdef\u001b[39;00m \u001b[38;5;21m_invoke_with\u001b[39m(\u001b[38;5;28mself\u001b[39m, bind):\n\u001b[1;32m    313\u001b[0m     \u001b[38;5;28;01mif\u001b[39;00m \u001b[38;5;28mself\u001b[39m\u001b[38;5;241m.\u001b[39m_should_execute(\u001b[38;5;28mself\u001b[39m\u001b[38;5;241m.\u001b[39mtarget, bind):\n\u001b[0;32m--> 314\u001b[0m         \u001b[38;5;28;01mreturn\u001b[39;00m bind\u001b[38;5;241m.\u001b[39mexecute(\u001b[38;5;28mself\u001b[39m)\n",
      "File \u001b[0;32m/opt/anaconda3/lib/python3.12/site-packages/sqlalchemy/engine/base.py:1418\u001b[0m, in \u001b[0;36mConnection.execute\u001b[0;34m(self, statement, parameters, execution_options)\u001b[0m\n\u001b[1;32m   1416\u001b[0m     \u001b[38;5;28;01mraise\u001b[39;00m exc\u001b[38;5;241m.\u001b[39mObjectNotExecutableError(statement) \u001b[38;5;28;01mfrom\u001b[39;00m \u001b[38;5;21;01merr\u001b[39;00m\n\u001b[1;32m   1417\u001b[0m \u001b[38;5;28;01melse\u001b[39;00m:\n\u001b[0;32m-> 1418\u001b[0m     \u001b[38;5;28;01mreturn\u001b[39;00m meth(\n\u001b[1;32m   1419\u001b[0m         \u001b[38;5;28mself\u001b[39m,\n\u001b[1;32m   1420\u001b[0m         distilled_parameters,\n\u001b[1;32m   1421\u001b[0m         execution_options \u001b[38;5;129;01mor\u001b[39;00m NO_OPTIONS,\n\u001b[1;32m   1422\u001b[0m     )\n",
      "File \u001b[0;32m/opt/anaconda3/lib/python3.12/site-packages/sqlalchemy/sql/ddl.py:180\u001b[0m, in \u001b[0;36mExecutableDDLElement._execute_on_connection\u001b[0;34m(self, connection, distilled_params, execution_options)\u001b[0m\n\u001b[1;32m    177\u001b[0m \u001b[38;5;28;01mdef\u001b[39;00m \u001b[38;5;21m_execute_on_connection\u001b[39m(\n\u001b[1;32m    178\u001b[0m     \u001b[38;5;28mself\u001b[39m, connection, distilled_params, execution_options\n\u001b[1;32m    179\u001b[0m ):\n\u001b[0;32m--> 180\u001b[0m     \u001b[38;5;28;01mreturn\u001b[39;00m connection\u001b[38;5;241m.\u001b[39m_execute_ddl(\n\u001b[1;32m    181\u001b[0m         \u001b[38;5;28mself\u001b[39m, distilled_params, execution_options\n\u001b[1;32m    182\u001b[0m     )\n",
      "File \u001b[0;32m/opt/anaconda3/lib/python3.12/site-packages/sqlalchemy/engine/base.py:1529\u001b[0m, in \u001b[0;36mConnection._execute_ddl\u001b[0;34m(self, ddl, distilled_parameters, execution_options)\u001b[0m\n\u001b[1;32m   1524\u001b[0m dialect \u001b[38;5;241m=\u001b[39m \u001b[38;5;28mself\u001b[39m\u001b[38;5;241m.\u001b[39mdialect\n\u001b[1;32m   1526\u001b[0m compiled \u001b[38;5;241m=\u001b[39m ddl\u001b[38;5;241m.\u001b[39mcompile(\n\u001b[1;32m   1527\u001b[0m     dialect\u001b[38;5;241m=\u001b[39mdialect, schema_translate_map\u001b[38;5;241m=\u001b[39mschema_translate_map\n\u001b[1;32m   1528\u001b[0m )\n\u001b[0;32m-> 1529\u001b[0m ret \u001b[38;5;241m=\u001b[39m \u001b[38;5;28mself\u001b[39m\u001b[38;5;241m.\u001b[39m_execute_context(\n\u001b[1;32m   1530\u001b[0m     dialect,\n\u001b[1;32m   1531\u001b[0m     dialect\u001b[38;5;241m.\u001b[39mexecution_ctx_cls\u001b[38;5;241m.\u001b[39m_init_ddl,\n\u001b[1;32m   1532\u001b[0m     compiled,\n\u001b[1;32m   1533\u001b[0m     \u001b[38;5;28;01mNone\u001b[39;00m,\n\u001b[1;32m   1534\u001b[0m     exec_opts,\n\u001b[1;32m   1535\u001b[0m     compiled,\n\u001b[1;32m   1536\u001b[0m )\n\u001b[1;32m   1537\u001b[0m \u001b[38;5;28;01mif\u001b[39;00m \u001b[38;5;28mself\u001b[39m\u001b[38;5;241m.\u001b[39m_has_events \u001b[38;5;129;01mor\u001b[39;00m \u001b[38;5;28mself\u001b[39m\u001b[38;5;241m.\u001b[39mengine\u001b[38;5;241m.\u001b[39m_has_events:\n\u001b[1;32m   1538\u001b[0m     \u001b[38;5;28mself\u001b[39m\u001b[38;5;241m.\u001b[39mdispatch\u001b[38;5;241m.\u001b[39mafter_execute(\n\u001b[1;32m   1539\u001b[0m         \u001b[38;5;28mself\u001b[39m,\n\u001b[1;32m   1540\u001b[0m         ddl,\n\u001b[0;32m   (...)\u001b[0m\n\u001b[1;32m   1544\u001b[0m         ret,\n\u001b[1;32m   1545\u001b[0m     )\n",
      "File \u001b[0;32m/opt/anaconda3/lib/python3.12/site-packages/sqlalchemy/engine/base.py:1846\u001b[0m, in \u001b[0;36mConnection._execute_context\u001b[0;34m(self, dialect, constructor, statement, parameters, execution_options, *args, **kw)\u001b[0m\n\u001b[1;32m   1844\u001b[0m     \u001b[38;5;28;01mreturn\u001b[39;00m \u001b[38;5;28mself\u001b[39m\u001b[38;5;241m.\u001b[39m_exec_insertmany_context(dialect, context)\n\u001b[1;32m   1845\u001b[0m \u001b[38;5;28;01melse\u001b[39;00m:\n\u001b[0;32m-> 1846\u001b[0m     \u001b[38;5;28;01mreturn\u001b[39;00m \u001b[38;5;28mself\u001b[39m\u001b[38;5;241m.\u001b[39m_exec_single_context(\n\u001b[1;32m   1847\u001b[0m         dialect, context, statement, parameters\n\u001b[1;32m   1848\u001b[0m     )\n",
      "File \u001b[0;32m/opt/anaconda3/lib/python3.12/site-packages/sqlalchemy/engine/base.py:1986\u001b[0m, in \u001b[0;36mConnection._exec_single_context\u001b[0;34m(self, dialect, context, statement, parameters)\u001b[0m\n\u001b[1;32m   1983\u001b[0m     result \u001b[38;5;241m=\u001b[39m context\u001b[38;5;241m.\u001b[39m_setup_result_proxy()\n\u001b[1;32m   1985\u001b[0m \u001b[38;5;28;01mexcept\u001b[39;00m \u001b[38;5;167;01mBaseException\u001b[39;00m \u001b[38;5;28;01mas\u001b[39;00m e:\n\u001b[0;32m-> 1986\u001b[0m     \u001b[38;5;28mself\u001b[39m\u001b[38;5;241m.\u001b[39m_handle_dbapi_exception(\n\u001b[1;32m   1987\u001b[0m         e, str_statement, effective_parameters, cursor, context\n\u001b[1;32m   1988\u001b[0m     )\n\u001b[1;32m   1990\u001b[0m \u001b[38;5;28;01mreturn\u001b[39;00m result\n",
      "File \u001b[0;32m/opt/anaconda3/lib/python3.12/site-packages/sqlalchemy/engine/base.py:2355\u001b[0m, in \u001b[0;36mConnection._handle_dbapi_exception\u001b[0;34m(self, e, statement, parameters, cursor, context, is_sub_exec)\u001b[0m\n\u001b[1;32m   2353\u001b[0m \u001b[38;5;28;01melif\u001b[39;00m should_wrap:\n\u001b[1;32m   2354\u001b[0m     \u001b[38;5;28;01massert\u001b[39;00m sqlalchemy_exception \u001b[38;5;129;01mis\u001b[39;00m \u001b[38;5;129;01mnot\u001b[39;00m \u001b[38;5;28;01mNone\u001b[39;00m\n\u001b[0;32m-> 2355\u001b[0m     \u001b[38;5;28;01mraise\u001b[39;00m sqlalchemy_exception\u001b[38;5;241m.\u001b[39mwith_traceback(exc_info[\u001b[38;5;241m2\u001b[39m]) \u001b[38;5;28;01mfrom\u001b[39;00m \u001b[38;5;21;01me\u001b[39;00m\n\u001b[1;32m   2356\u001b[0m \u001b[38;5;28;01melse\u001b[39;00m:\n\u001b[1;32m   2357\u001b[0m     \u001b[38;5;28;01massert\u001b[39;00m exc_info[\u001b[38;5;241m1\u001b[39m] \u001b[38;5;129;01mis\u001b[39;00m \u001b[38;5;129;01mnot\u001b[39;00m \u001b[38;5;28;01mNone\u001b[39;00m\n",
      "File \u001b[0;32m/opt/anaconda3/lib/python3.12/site-packages/sqlalchemy/engine/base.py:1967\u001b[0m, in \u001b[0;36mConnection._exec_single_context\u001b[0;34m(self, dialect, context, statement, parameters)\u001b[0m\n\u001b[1;32m   1965\u001b[0m                 \u001b[38;5;28;01mbreak\u001b[39;00m\n\u001b[1;32m   1966\u001b[0m     \u001b[38;5;28;01mif\u001b[39;00m \u001b[38;5;129;01mnot\u001b[39;00m evt_handled:\n\u001b[0;32m-> 1967\u001b[0m         \u001b[38;5;28mself\u001b[39m\u001b[38;5;241m.\u001b[39mdialect\u001b[38;5;241m.\u001b[39mdo_execute(\n\u001b[1;32m   1968\u001b[0m             cursor, str_statement, effective_parameters, context\n\u001b[1;32m   1969\u001b[0m         )\n\u001b[1;32m   1971\u001b[0m \u001b[38;5;28;01mif\u001b[39;00m \u001b[38;5;28mself\u001b[39m\u001b[38;5;241m.\u001b[39m_has_events \u001b[38;5;129;01mor\u001b[39;00m \u001b[38;5;28mself\u001b[39m\u001b[38;5;241m.\u001b[39mengine\u001b[38;5;241m.\u001b[39m_has_events:\n\u001b[1;32m   1972\u001b[0m     \u001b[38;5;28mself\u001b[39m\u001b[38;5;241m.\u001b[39mdispatch\u001b[38;5;241m.\u001b[39mafter_cursor_execute(\n\u001b[1;32m   1973\u001b[0m         \u001b[38;5;28mself\u001b[39m,\n\u001b[1;32m   1974\u001b[0m         cursor,\n\u001b[0;32m   (...)\u001b[0m\n\u001b[1;32m   1978\u001b[0m         context\u001b[38;5;241m.\u001b[39mexecutemany,\n\u001b[1;32m   1979\u001b[0m     )\n",
      "File \u001b[0;32m/opt/anaconda3/lib/python3.12/site-packages/sqlalchemy/engine/default.py:941\u001b[0m, in \u001b[0;36mDefaultDialect.do_execute\u001b[0;34m(self, cursor, statement, parameters, context)\u001b[0m\n\u001b[1;32m    940\u001b[0m \u001b[38;5;28;01mdef\u001b[39;00m \u001b[38;5;21mdo_execute\u001b[39m(\u001b[38;5;28mself\u001b[39m, cursor, statement, parameters, context\u001b[38;5;241m=\u001b[39m\u001b[38;5;28;01mNone\u001b[39;00m):\n\u001b[0;32m--> 941\u001b[0m     cursor\u001b[38;5;241m.\u001b[39mexecute(statement, parameters)\n",
      "\u001b[0;31mOperationalError\u001b[0m: (sqlite3.OperationalError) database is locked\n[SQL: \nDROP TABLE sales_data]\n(Background on this error at: https://sqlalche.me/e/20/e3q8)"
     ]
    }
   ],
   "source": [
    "import pandas as pd\n",
    "from sqlalchemy import create_engine\n",
    "\n",
    "# Step 1: Extract\n",
    "def extract_data():\n",
    "    orders = pd.read_csv('olist_orders_dataset.csv')\n",
    "    order_items = pd.read_csv('olist_order_items_dataset.csv')\n",
    "    products = pd.read_csv('olist_products_dataset.csv')\n",
    "    return orders, order_items, products\n",
    "\n",
    "# Step 2: Transform\n",
    "def transform_data(orders, order_items, products):\n",
    "    # Merge into sales_data\n",
    "    merged = pd.merge(order_items, products, on='product_id')\n",
    "    sales_data = pd.merge(merged, orders, on='order_id')\n",
    "\n",
    "    # === Cleaning ===\n",
    "    sales_data['product_category_name'].fillna('Unknown', inplace=True)\n",
    "    sales_data['product_name_lenght'].fillna(0, inplace=True)\n",
    "    sales_data['product_description_lenght'].fillna(0, inplace=True)\n",
    "    sales_data['product_photos_qty'].fillna(0, inplace=True)\n",
    "\n",
    "    # Fill product dimensions with median\n",
    "    for col in ['product_weight_g', 'product_length_cm', 'product_height_cm', 'product_width_cm']:\n",
    "        median_value = sales_data[col].median()\n",
    "        sales_data[col].fillna(median_value, inplace=True)\n",
    "\n",
    "    # Impute order_approved_at\n",
    "    if 'order_purchase_timestamp' in sales_data.columns:\n",
    "        sales_data['order_approved_at'].fillna(sales_data['order_purchase_timestamp'], inplace=True)\n",
    "    else:\n",
    "        sales_data.dropna(subset=['order_approved_at'], inplace=True)\n",
    "\n",
    "    # Filter: drop rows with missing delivery date for 'delivered' orders\n",
    "    if 'order_status' in sales_data.columns:\n",
    "        sales_data = sales_data[~((sales_data['order_status'] == 'delivered') & \n",
    "                                  (sales_data['order_delivered_customer_date'].isna()))]\n",
    "\n",
    "    # Convert all relevant columns to datetime\n",
    "    date_cols = ['shipping_limit_date', 'order_purchase_timestamp', 'order_approved_at',\n",
    "                 'order_delivered_carrier_date', 'order_delivered_customer_date', 'order_estimated_delivery_date']\n",
    "    for col in date_cols:\n",
    "        sales_data[col] = pd.to_datetime(sales_data[col])\n",
    "\n",
    "    # === Enrichment ===\n",
    "    sales_data['total_order_value'] = sales_data['price'] + sales_data['freight_value']\n",
    "    sales_data['delivery_time_days'] = (sales_data['order_delivered_customer_date'] - \n",
    "                                        sales_data['order_purchase_timestamp']).dt.days\n",
    "\n",
    "    return sales_data\n",
    "\n",
    "# Step 3: Load\n",
    "def load_data(sales_data, db_name='ecommerce.db'):\n",
    "    engine = create_engine(f'sqlite:///{db_name}')\n",
    "    sales_data.to_sql('sales_data', con=engine, if_exists='replace', index=False)\n",
    "    print(\"✅ Data loaded into SQLite database.\")\n",
    "\n",
    "# Step 4: Run the pipeline\n",
    "def run_etl():\n",
    "    orders, order_items, products = extract_data()\n",
    "    sales_data = transform_data(orders, order_items, products)\n",
    "    load_data(sales_data)\n",
    "    print(\"✅ ETL process complete.\")\n",
    "\n",
    "# Execute it\n",
    "run_etl()\n"
   ]
  },
  {
   "cell_type": "code",
   "execution_count": null,
   "id": "dc95908a-dfec-4d33-bf96-a215672e7f6a",
   "metadata": {},
   "outputs": [],
   "source": [
    "sales_data.to_csv('sales_data_with_features.csv', index=False)\n"
   ]
  },
  {
   "cell_type": "code",
   "execution_count": null,
   "id": "fd6d4eee-75d2-4402-9157-44ce0172998d",
   "metadata": {},
   "outputs": [],
   "source": [
    "import sqlite3\n",
    "\n",
    "# Create new SQLite DB file\n",
    "conn = sqlite3.connect('ecommerce.db')\n",
    "\n",
    "# Save the DataFrame to a table\n",
    "sales_data.to_sql('sales_data', conn, if_exists='replace', index=False)\n",
    "\n",
    "conn.close()\n"
   ]
  },
  {
   "cell_type": "code",
   "execution_count": null,
   "id": "e678818a-6947-4de4-9918-d92c8fd58b9d",
   "metadata": {},
   "outputs": [],
   "source": [
    "\n",
    "# Load the translation file\n",
    "translations = pd.read_csv('product_category_name_translation.csv')\n",
    "\n",
    "# Merge it into your existing sales_data\n",
    "sales_data = sales_data.merge(translations, on='product_category_name', how='left')\n",
    "\n",
    "# If no English name is found, fall back to original\n",
    "sales_data['product_category_clean'] = sales_data['product_category_name_english'].fillna(sales_data['product_category_name'])\n",
    "\n",
    "# Optional: drop the translation helper columns\n",
    "sales_data.drop(columns=['product_category_name_english'], inplace=True)\n",
    "\n",
    "# Save updated CSV\n",
    "sales_data.to_csv('sales_data_with_translated_categories.csv', index=False)\n"
   ]
  },
  {
   "cell_type": "markdown",
   "id": "c16f8745-7962-4423-a207-c1032fcb4105",
   "metadata": {},
   "source": [
    "### Day4 deeper analysis "
   ]
  },
  {
   "cell_type": "code",
   "execution_count": 161,
   "id": "69a814ea-cf7f-498c-9777-aeb2aa1887d6",
   "metadata": {},
   "outputs": [
    {
     "name": "stdout",
     "output_type": "stream",
     "text": [
      "<class 'pandas.core.frame.DataFrame'>\n",
      "RangeIndex: 103886 entries, 0 to 103885\n",
      "Data columns (total 5 columns):\n",
      " #   Column                Non-Null Count   Dtype  \n",
      "---  ------                --------------   -----  \n",
      " 0   order_id              103886 non-null  object \n",
      " 1   payment_sequential    103886 non-null  int64  \n",
      " 2   payment_type          103886 non-null  object \n",
      " 3   payment_installments  103886 non-null  int64  \n",
      " 4   payment_value         103886 non-null  float64\n",
      "dtypes: float64(1), int64(2), object(2)\n",
      "memory usage: 4.0+ MB\n"
     ]
    },
    {
     "data": {
      "text/plain": [
       "payment_type\n",
       "credit_card    76795\n",
       "boleto         19784\n",
       "voucher         5775\n",
       "debit_card      1529\n",
       "not_defined        3\n",
       "Name: count, dtype: int64"
      ]
     },
     "execution_count": 161,
     "metadata": {},
     "output_type": "execute_result"
    }
   ],
   "source": [
    "payments.info()\n",
    "payments.head()\n",
    "payments['payment_type'].value_counts()\n"
   ]
  },
  {
   "cell_type": "code",
   "execution_count": 173,
   "id": "5d879608-703f-43de-bcf3-6660943347d4",
   "metadata": {},
   "outputs": [],
   "source": [
    "# Aggregate payment info per order_id\n",
    "payments_agg = payments.groupby('order_id').agg({\n",
    "    'payment_type': lambda x: x.mode()[0],  # most common payment type (if multiple)\n",
    "    'payment_installments': 'mean',\n",
    "    'payment_value': 'sum'\n",
    "}).reset_index()\n",
    "\n",
    "# Rename for clarity\n",
    "payments_agg.rename(columns={\n",
    "    'payment_type': 'primary_payment_type',\n",
    "    'payment_installments': 'avg_installments',\n",
    "    'payment_value': 'total_payment_value'\n",
    "}, inplace=True)\n"
   ]
  },
  {
   "cell_type": "code",
   "execution_count": 174,
   "id": "44d0ce52-6a2d-4c13-9b44-65b1ec9a9e4d",
   "metadata": {},
   "outputs": [
    {
     "name": "stdout",
     "output_type": "stream",
     "text": [
      "                           order_id  order_item_id  \\\n",
      "0  00010242fe8c5a6d1ba2dd792cb16214              1   \n",
      "1  00018f77f2f0320c557190d7a144bdd3              1   \n",
      "2  000229ec398224ef6ca0657da4fc703e              1   \n",
      "3  00024acbcdf0a6daa1e931b038114c75              1   \n",
      "4  00042b26cf59d7ce69dfabb4e55b4fd9              1   \n",
      "\n",
      "                         product_id                         seller_id  \\\n",
      "0  4244733e06e7ecb4970a6e2683c13e61  48436dade18ac8b2bce089ec2a041202   \n",
      "1  e5f2d52b802189ee658865ca93d83a8f  dd7ddc04e1b6c2c614352b383efe2d36   \n",
      "2  c777355d18b72b67abbeef9df44fd0fd  5b51032eddd242adc84c38acab88f23d   \n",
      "3  7634da152a4610f1595efa32f14722fc  9d7a1d34a5052409006425275ba1c2b4   \n",
      "4  ac6c3623068f30de03045865e4e10089  df560393f3a51e74553ab94004ba5c87   \n",
      "\n",
      "  shipping_limit_date   price  freight_value product_category_name  \\\n",
      "0 2017-09-19 09:45:35   58.90          13.29            cool_stuff   \n",
      "1 2017-05-03 11:05:13  239.90          19.93              pet_shop   \n",
      "2 2018-01-18 14:48:30  199.00          17.87      moveis_decoracao   \n",
      "3 2018-08-15 10:10:18   12.99          12.79            perfumaria   \n",
      "4 2017-02-13 13:57:51  199.90          18.14    ferramentas_jardim   \n",
      "\n",
      "   product_name_lenght  product_description_lenght  ...  \\\n",
      "0                 58.0                       598.0  ...   \n",
      "1                 56.0                       239.0  ...   \n",
      "2                 59.0                       695.0  ...   \n",
      "3                 42.0                       480.0  ...   \n",
      "4                 59.0                       409.0  ...   \n",
      "\n",
      "   order_estimated_delivery_date  total_order_value  delivery_time_days  \\\n",
      "0                     2017-09-29              72.19                   7   \n",
      "1                     2017-05-15             259.83                  16   \n",
      "2                     2018-02-05             216.87                   7   \n",
      "3                     2018-08-20              25.78                   6   \n",
      "4                     2017-03-17             218.04                  25   \n",
      "\n",
      "   order_month  primary_payment_type_x avg_installments_x  \\\n",
      "0      2017-09             credit_card                2.0   \n",
      "1      2017-04             credit_card                3.0   \n",
      "2      2018-01             credit_card                5.0   \n",
      "3      2018-08             credit_card                2.0   \n",
      "4      2017-02             credit_card                3.0   \n",
      "\n",
      "  total_payment_value_x primary_payment_type_y avg_installments_y  \\\n",
      "0                 72.19            credit_card                2.0   \n",
      "1                259.83            credit_card                3.0   \n",
      "2                216.87            credit_card                5.0   \n",
      "3                 25.78            credit_card                2.0   \n",
      "4                218.04            credit_card                3.0   \n",
      "\n",
      "  total_payment_value_y  \n",
      "0                 72.19  \n",
      "1                259.83  \n",
      "2                216.87  \n",
      "3                 25.78  \n",
      "4                218.04  \n",
      "\n",
      "[5 rows x 31 columns]\n"
     ]
    }
   ],
   "source": [
    "print(sales_data.head())"
   ]
  },
  {
   "cell_type": "code",
   "execution_count": 187,
   "id": "9ed93689-1c41-4b05-952f-e8fb57427259",
   "metadata": {
    "collapsed": true,
    "jupyter": {
     "outputs_hidden": true
    },
    "scrolled": true
   },
   "outputs": [
    {
     "ename": "MergeError",
     "evalue": "Passing 'suffixes' which cause duplicate columns {'total_payment_value_x', 'avg_installments_x', 'primary_payment_type_x'} is not allowed.",
     "output_type": "error",
     "traceback": [
      "\u001b[0;31m---------------------------------------------------------------------------\u001b[0m",
      "\u001b[0;31mMergeError\u001b[0m                                Traceback (most recent call last)",
      "Cell \u001b[0;32mIn[187], line 2\u001b[0m\n\u001b[1;32m      1\u001b[0m \u001b[38;5;66;03m# Merge payment info into enriched sales data\u001b[39;00m\n\u001b[0;32m----> 2\u001b[0m sales_data \u001b[38;5;241m=\u001b[39m sales_data\u001b[38;5;241m.\u001b[39mmerge(payments_agg, on\u001b[38;5;241m=\u001b[39m\u001b[38;5;124m'\u001b[39m\u001b[38;5;124morder_id\u001b[39m\u001b[38;5;124m'\u001b[39m, how\u001b[38;5;241m=\u001b[39m\u001b[38;5;124m'\u001b[39m\u001b[38;5;124mleft\u001b[39m\u001b[38;5;124m'\u001b[39m)\n",
      "File \u001b[0;32m/opt/anaconda3/lib/python3.12/site-packages/pandas/core/frame.py:10832\u001b[0m, in \u001b[0;36mDataFrame.merge\u001b[0;34m(self, right, how, on, left_on, right_on, left_index, right_index, sort, suffixes, copy, indicator, validate)\u001b[0m\n\u001b[1;32m  10813\u001b[0m \u001b[38;5;129m@Substitution\u001b[39m(\u001b[38;5;124m\"\u001b[39m\u001b[38;5;124m\"\u001b[39m)\n\u001b[1;32m  10814\u001b[0m \u001b[38;5;129m@Appender\u001b[39m(_merge_doc, indents\u001b[38;5;241m=\u001b[39m\u001b[38;5;241m2\u001b[39m)\n\u001b[1;32m  10815\u001b[0m \u001b[38;5;28;01mdef\u001b[39;00m \u001b[38;5;21mmerge\u001b[39m(\n\u001b[0;32m   (...)\u001b[0m\n\u001b[1;32m  10828\u001b[0m     validate: MergeValidate \u001b[38;5;241m|\u001b[39m \u001b[38;5;28;01mNone\u001b[39;00m \u001b[38;5;241m=\u001b[39m \u001b[38;5;28;01mNone\u001b[39;00m,\n\u001b[1;32m  10829\u001b[0m ) \u001b[38;5;241m-\u001b[39m\u001b[38;5;241m>\u001b[39m DataFrame:\n\u001b[1;32m  10830\u001b[0m     \u001b[38;5;28;01mfrom\u001b[39;00m \u001b[38;5;21;01mpandas\u001b[39;00m\u001b[38;5;21;01m.\u001b[39;00m\u001b[38;5;21;01mcore\u001b[39;00m\u001b[38;5;21;01m.\u001b[39;00m\u001b[38;5;21;01mreshape\u001b[39;00m\u001b[38;5;21;01m.\u001b[39;00m\u001b[38;5;21;01mmerge\u001b[39;00m \u001b[38;5;28;01mimport\u001b[39;00m merge\n\u001b[0;32m> 10832\u001b[0m     \u001b[38;5;28;01mreturn\u001b[39;00m merge(\n\u001b[1;32m  10833\u001b[0m         \u001b[38;5;28mself\u001b[39m,\n\u001b[1;32m  10834\u001b[0m         right,\n\u001b[1;32m  10835\u001b[0m         how\u001b[38;5;241m=\u001b[39mhow,\n\u001b[1;32m  10836\u001b[0m         on\u001b[38;5;241m=\u001b[39mon,\n\u001b[1;32m  10837\u001b[0m         left_on\u001b[38;5;241m=\u001b[39mleft_on,\n\u001b[1;32m  10838\u001b[0m         right_on\u001b[38;5;241m=\u001b[39mright_on,\n\u001b[1;32m  10839\u001b[0m         left_index\u001b[38;5;241m=\u001b[39mleft_index,\n\u001b[1;32m  10840\u001b[0m         right_index\u001b[38;5;241m=\u001b[39mright_index,\n\u001b[1;32m  10841\u001b[0m         sort\u001b[38;5;241m=\u001b[39msort,\n\u001b[1;32m  10842\u001b[0m         suffixes\u001b[38;5;241m=\u001b[39msuffixes,\n\u001b[1;32m  10843\u001b[0m         copy\u001b[38;5;241m=\u001b[39mcopy,\n\u001b[1;32m  10844\u001b[0m         indicator\u001b[38;5;241m=\u001b[39mindicator,\n\u001b[1;32m  10845\u001b[0m         validate\u001b[38;5;241m=\u001b[39mvalidate,\n\u001b[1;32m  10846\u001b[0m     )\n",
      "File \u001b[0;32m/opt/anaconda3/lib/python3.12/site-packages/pandas/core/reshape/merge.py:184\u001b[0m, in \u001b[0;36mmerge\u001b[0;34m(left, right, how, on, left_on, right_on, left_index, right_index, sort, suffixes, copy, indicator, validate)\u001b[0m\n\u001b[1;32m    169\u001b[0m \u001b[38;5;28;01melse\u001b[39;00m:\n\u001b[1;32m    170\u001b[0m     op \u001b[38;5;241m=\u001b[39m _MergeOperation(\n\u001b[1;32m    171\u001b[0m         left_df,\n\u001b[1;32m    172\u001b[0m         right_df,\n\u001b[0;32m   (...)\u001b[0m\n\u001b[1;32m    182\u001b[0m         validate\u001b[38;5;241m=\u001b[39mvalidate,\n\u001b[1;32m    183\u001b[0m     )\n\u001b[0;32m--> 184\u001b[0m     \u001b[38;5;28;01mreturn\u001b[39;00m op\u001b[38;5;241m.\u001b[39mget_result(copy\u001b[38;5;241m=\u001b[39mcopy)\n",
      "File \u001b[0;32m/opt/anaconda3/lib/python3.12/site-packages/pandas/core/reshape/merge.py:888\u001b[0m, in \u001b[0;36m_MergeOperation.get_result\u001b[0;34m(self, copy)\u001b[0m\n\u001b[1;32m    884\u001b[0m     \u001b[38;5;28mself\u001b[39m\u001b[38;5;241m.\u001b[39mleft, \u001b[38;5;28mself\u001b[39m\u001b[38;5;241m.\u001b[39mright \u001b[38;5;241m=\u001b[39m \u001b[38;5;28mself\u001b[39m\u001b[38;5;241m.\u001b[39m_indicator_pre_merge(\u001b[38;5;28mself\u001b[39m\u001b[38;5;241m.\u001b[39mleft, \u001b[38;5;28mself\u001b[39m\u001b[38;5;241m.\u001b[39mright)\n\u001b[1;32m    886\u001b[0m join_index, left_indexer, right_indexer \u001b[38;5;241m=\u001b[39m \u001b[38;5;28mself\u001b[39m\u001b[38;5;241m.\u001b[39m_get_join_info()\n\u001b[0;32m--> 888\u001b[0m result \u001b[38;5;241m=\u001b[39m \u001b[38;5;28mself\u001b[39m\u001b[38;5;241m.\u001b[39m_reindex_and_concat(\n\u001b[1;32m    889\u001b[0m     join_index, left_indexer, right_indexer, copy\u001b[38;5;241m=\u001b[39mcopy\n\u001b[1;32m    890\u001b[0m )\n\u001b[1;32m    891\u001b[0m result \u001b[38;5;241m=\u001b[39m result\u001b[38;5;241m.\u001b[39m__finalize__(\u001b[38;5;28mself\u001b[39m, method\u001b[38;5;241m=\u001b[39m\u001b[38;5;28mself\u001b[39m\u001b[38;5;241m.\u001b[39m_merge_type)\n\u001b[1;32m    893\u001b[0m \u001b[38;5;28;01mif\u001b[39;00m \u001b[38;5;28mself\u001b[39m\u001b[38;5;241m.\u001b[39mindicator:\n",
      "File \u001b[0;32m/opt/anaconda3/lib/python3.12/site-packages/pandas/core/reshape/merge.py:840\u001b[0m, in \u001b[0;36m_MergeOperation._reindex_and_concat\u001b[0;34m(self, join_index, left_indexer, right_indexer, copy)\u001b[0m\n\u001b[1;32m    837\u001b[0m left \u001b[38;5;241m=\u001b[39m \u001b[38;5;28mself\u001b[39m\u001b[38;5;241m.\u001b[39mleft[:]\n\u001b[1;32m    838\u001b[0m right \u001b[38;5;241m=\u001b[39m \u001b[38;5;28mself\u001b[39m\u001b[38;5;241m.\u001b[39mright[:]\n\u001b[0;32m--> 840\u001b[0m llabels, rlabels \u001b[38;5;241m=\u001b[39m _items_overlap_with_suffix(\n\u001b[1;32m    841\u001b[0m     \u001b[38;5;28mself\u001b[39m\u001b[38;5;241m.\u001b[39mleft\u001b[38;5;241m.\u001b[39m_info_axis, \u001b[38;5;28mself\u001b[39m\u001b[38;5;241m.\u001b[39mright\u001b[38;5;241m.\u001b[39m_info_axis, \u001b[38;5;28mself\u001b[39m\u001b[38;5;241m.\u001b[39msuffixes\n\u001b[1;32m    842\u001b[0m )\n\u001b[1;32m    844\u001b[0m \u001b[38;5;28;01mif\u001b[39;00m left_indexer \u001b[38;5;129;01mis\u001b[39;00m \u001b[38;5;129;01mnot\u001b[39;00m \u001b[38;5;28;01mNone\u001b[39;00m \u001b[38;5;129;01mand\u001b[39;00m \u001b[38;5;129;01mnot\u001b[39;00m is_range_indexer(left_indexer, \u001b[38;5;28mlen\u001b[39m(left)):\n\u001b[1;32m    845\u001b[0m     \u001b[38;5;66;03m# Pinning the index here (and in the right code just below) is not\u001b[39;00m\n\u001b[1;32m    846\u001b[0m     \u001b[38;5;66;03m#  necessary, but makes the `.take` more performant if we have e.g.\u001b[39;00m\n\u001b[1;32m    847\u001b[0m     \u001b[38;5;66;03m#  a MultiIndex for left.index.\u001b[39;00m\n\u001b[1;32m    848\u001b[0m     lmgr \u001b[38;5;241m=\u001b[39m left\u001b[38;5;241m.\u001b[39m_mgr\u001b[38;5;241m.\u001b[39mreindex_indexer(\n\u001b[1;32m    849\u001b[0m         join_index,\n\u001b[1;32m    850\u001b[0m         left_indexer,\n\u001b[0;32m   (...)\u001b[0m\n\u001b[1;32m    855\u001b[0m         use_na_proxy\u001b[38;5;241m=\u001b[39m\u001b[38;5;28;01mTrue\u001b[39;00m,\n\u001b[1;32m    856\u001b[0m     )\n",
      "File \u001b[0;32m/opt/anaconda3/lib/python3.12/site-packages/pandas/core/reshape/merge.py:2757\u001b[0m, in \u001b[0;36m_items_overlap_with_suffix\u001b[0;34m(left, right, suffixes)\u001b[0m\n\u001b[1;32m   2755\u001b[0m     dups\u001b[38;5;241m.\u001b[39mextend(rlabels[(rlabels\u001b[38;5;241m.\u001b[39mduplicated()) \u001b[38;5;241m&\u001b[39m (\u001b[38;5;241m~\u001b[39mright\u001b[38;5;241m.\u001b[39mduplicated())]\u001b[38;5;241m.\u001b[39mtolist())\n\u001b[1;32m   2756\u001b[0m \u001b[38;5;28;01mif\u001b[39;00m dups:\n\u001b[0;32m-> 2757\u001b[0m     \u001b[38;5;28;01mraise\u001b[39;00m MergeError(\n\u001b[1;32m   2758\u001b[0m         \u001b[38;5;124mf\u001b[39m\u001b[38;5;124m\"\u001b[39m\u001b[38;5;124mPassing \u001b[39m\u001b[38;5;124m'\u001b[39m\u001b[38;5;124msuffixes\u001b[39m\u001b[38;5;124m'\u001b[39m\u001b[38;5;124m which cause duplicate columns \u001b[39m\u001b[38;5;132;01m{\u001b[39;00m\u001b[38;5;28mset\u001b[39m(dups)\u001b[38;5;132;01m}\u001b[39;00m\u001b[38;5;124m is \u001b[39m\u001b[38;5;124m\"\u001b[39m\n\u001b[1;32m   2759\u001b[0m         \u001b[38;5;124mf\u001b[39m\u001b[38;5;124m\"\u001b[39m\u001b[38;5;124mnot allowed.\u001b[39m\u001b[38;5;124m\"\u001b[39m,\n\u001b[1;32m   2760\u001b[0m     )\n\u001b[1;32m   2762\u001b[0m \u001b[38;5;28;01mreturn\u001b[39;00m llabels, rlabels\n",
      "\u001b[0;31mMergeError\u001b[0m: Passing 'suffixes' which cause duplicate columns {'total_payment_value_x', 'avg_installments_x', 'primary_payment_type_x'} is not allowed."
     ]
    }
   ],
   "source": [
    "# Merge payment info into enriched sales data\n",
    "sales_data = sales_data.merge(payments_agg, on='order_id', how='left')\n"
   ]
  },
  {
   "cell_type": "code",
   "execution_count": 189,
   "id": "7372d368-7722-4e92-83fd-e3430bb18dda",
   "metadata": {},
   "outputs": [
    {
     "name": "stdout",
     "output_type": "stream",
     "text": [
      "Index(['order_id', 'order_item_id', 'product_id', 'seller_id',\n",
      "       'shipping_limit_date', 'price', 'freight_value',\n",
      "       'product_category_name', 'product_name_lenght',\n",
      "       'product_description_lenght', 'product_photos_qty', 'product_weight_g',\n",
      "       'product_length_cm', 'product_height_cm', 'product_width_cm',\n",
      "       'customer_id', 'order_status', 'order_purchase_timestamp',\n",
      "       'order_approved_at', 'order_delivered_carrier_date',\n",
      "       'order_delivered_customer_date', 'order_estimated_delivery_date',\n",
      "       'total_order_value', 'delivery_time_days', 'order_month',\n",
      "       'primary_payment_type_x', 'avg_installments_x', 'total_payment_value_x',\n",
      "       'primary_payment_type_y', 'avg_installments_y', 'total_payment_value_y',\n",
      "       'primary_payment_type', 'avg_installments', 'total_payment_value'],\n",
      "      dtype='object')\n"
     ]
    }
   ],
   "source": [
    "print(sales_data.columns)"
   ]
  },
  {
   "cell_type": "code",
   "execution_count": 191,
   "id": "d55e7fd7-8354-4b10-b4c7-0d7614347967",
   "metadata": {},
   "outputs": [
    {
     "name": "stdout",
     "output_type": "stream",
     "text": [
      "<class 'pandas.core.frame.DataFrame'>\n",
      "RangeIndex: 110195 entries, 0 to 110194\n",
      "Data columns (total 3 columns):\n",
      " #   Column                Non-Null Count   Dtype  \n",
      "---  ------                --------------   -----  \n",
      " 0   primary_payment_type  110192 non-null  object \n",
      " 1   avg_installments      110192 non-null  float64\n",
      " 2   total_payment_value   110192 non-null  float64\n",
      "dtypes: float64(2), object(1)\n",
      "memory usage: 2.5+ MB\n"
     ]
    },
    {
     "data": {
      "text/plain": [
       "primary_payment_type\n",
       "credit_card    84153\n",
       "boleto         22362\n",
       "voucher         2026\n",
       "debit_card      1651\n",
       "Name: count, dtype: int64"
      ]
     },
     "execution_count": 191,
     "metadata": {},
     "output_type": "execute_result"
    }
   ],
   "source": [
    "sales_data[['primary_payment_type', 'avg_installments', 'total_payment_value']].info()\n",
    "sales_data['primary_payment_type'].value_counts()\n"
   ]
  },
  {
   "cell_type": "code",
   "execution_count": 193,
   "id": "81f860dc-2bf8-44a2-ab00-2fb9a374932f",
   "metadata": {},
   "outputs": [
    {
     "name": "stdout",
     "output_type": "stream",
     "text": [
      "primary_payment_type\n",
      "credit_card    76.37\n",
      "boleto         20.29\n",
      "voucher         1.84\n",
      "debit_card      1.50\n",
      "Name: proportion, dtype: float64\n"
     ]
    }
   ],
   "source": [
    "payment_distribution = sales_data['primary_payment_type'].value_counts(normalize=True) * 100\n",
    "print(payment_distribution.round(2))\n",
    "### % of orders by payment type"
   ]
  },
  {
   "cell_type": "code",
   "execution_count": 195,
   "id": "895a87f3-0caa-445c-8310-51d10ac0b91f",
   "metadata": {},
   "outputs": [
    {
     "name": "stdout",
     "output_type": "stream",
     "text": [
      "primary_payment_type\n",
      "credit_card    12229401.56\n",
      "boleto          2769932.71\n",
      "voucher          211402.83\n",
      "debit_card       208068.87\n",
      "Name: total_order_value, dtype: float64\n"
     ]
    }
   ],
   "source": [
    "### which payment type brings the most revenue\n",
    "revenue_by_payment = sales_data.groupby('primary_payment_type')['total_order_value'].sum().sort_values(ascending=False)\n",
    "print(revenue_by_payment)\n"
   ]
  },
  {
   "cell_type": "code",
   "execution_count": 197,
   "id": "410b4701-e52b-40dc-94bb-d7a4ad2f563c",
   "metadata": {},
   "outputs": [
    {
     "name": "stdout",
     "output_type": "stream",
     "text": [
      "primary_payment_type\n",
      "boleto         1.00\n",
      "credit_card    3.62\n",
      "debit_card     1.00\n",
      "voucher        1.04\n",
      "Name: avg_installments, dtype: float64\n"
     ]
    }
   ],
   "source": [
    "## avg installments by payment type\n",
    "avg_installments = sales_data.groupby('primary_payment_type')['avg_installments'].mean().round(2)\n",
    "print(avg_installments)\n"
   ]
  },
  {
   "cell_type": "code",
   "execution_count": 199,
   "id": "12e9786f-ad70-4182-8597-17a5c3e8c7bd",
   "metadata": {},
   "outputs": [],
   "source": [
    "###revenue by payment over time\n",
    "\n",
    "sales_data['order_month'] = sales_data['order_purchase_timestamp'].dt.to_period('M')\n",
    "monthly_revenue_by_payment = (\n",
    "    sales_data.groupby(['order_month', 'primary_payment_type'])['total_order_value']\n",
    "    .sum().reset_index()\n",
    ")"
   ]
  },
  {
   "cell_type": "code",
   "execution_count": 201,
   "id": "65787ab5-ab6e-4364-b300-75672dcf2520",
   "metadata": {},
   "outputs": [],
   "source": [
    "sales_data.to_csv('sales_data_with_payments.csv', index=False)\n",
    "monthly_revenue_by_payment.to_csv('monthly_revenue_by_payment.csv', index=False)\n"
   ]
  },
  {
   "cell_type": "markdown",
   "id": "de600c27-1af7-4f0d-9d97-7b34cfec036c",
   "metadata": {},
   "source": [
    "#### Sellers analysis\n"
   ]
  },
  {
   "cell_type": "code",
   "execution_count": 204,
   "id": "1b58bec4-748e-4064-bc2d-7201b47094bb",
   "metadata": {},
   "outputs": [],
   "source": [
    "order_items = order_items.merge(sellers, on='seller_id', how='left')"
   ]
  },
  {
   "cell_type": "code",
   "execution_count": 206,
   "id": "d97008f4-0987-4a40-9a32-70729513993c",
   "metadata": {},
   "outputs": [],
   "source": [
    "seller_revenue = (\n",
    "    order_items.groupby(['seller_id', 'seller_state'])['price']\n",
    "    .sum()\n",
    "    .reset_index()\n",
    "    .sort_values(by='price', ascending=False)\n",
    ")\n"
   ]
  },
  {
   "cell_type": "code",
   "execution_count": 212,
   "id": "6f419bfd-a84b-4906-9fc5-a2050fce0983",
   "metadata": {},
   "outputs": [
    {
     "name": "stdout",
     "output_type": "stream",
     "text": [
      "                             seller_id seller_state      price\n",
      "857   4869f7a5dfa277a7dca6462dcf3b52b2           SP  229472.63\n",
      "1013  53243585a1d6dc2643021fd1853d8905           BA  222776.05\n",
      "881   4a3ca9315b744ce9f8e9374361493884           SP  200472.92\n",
      "3024  fa1c13f2614d7b5c4749cbc52fecda94           SP  194042.03\n",
      "1535  7c67e1448b00f6e969d365cea6b010ab           SP  187923.89\n",
      "1560  7e93a43ef30c4f03f38b393420bc753a           SP  176431.87\n",
      "2643  da8622b14eb17ae2831f4ac5b9dab84a           SP  160236.57\n",
      "1505  7a67c85e85bb2ce8582c35f2203ad736           SP  141745.53\n",
      "192   1025f0e2d44d7041d6cf58b6550e0bfa           SP  138968.55\n",
      "1824  955fee9216a65b617aa5c0531780ce60           SP  135171.70\n"
     ]
    }
   ],
   "source": [
    "top_sellers = seller_revenue.head(10)\n",
    "print(top_sellers)"
   ]
  },
  {
   "cell_type": "code",
   "execution_count": 214,
   "id": "5615abfd-f2e0-48be-8eea-95e7e5647e78",
   "metadata": {},
   "outputs": [],
   "source": [
    "sellers_per_state = sellers['seller_state'].value_counts().reset_index()\n",
    "sellers_per_state.columns = ['state', 'num_sellers']\n"
   ]
  },
  {
   "cell_type": "code",
   "execution_count": 216,
   "id": "803a4c72-6395-43a1-a225-a7c7d1f85d45",
   "metadata": {},
   "outputs": [],
   "source": [
    "state_revenue = seller_revenue.groupby('seller_state')['price'].sum().reset_index().sort_values(by='price', ascending=False)\n"
   ]
  },
  {
   "cell_type": "code",
   "execution_count": 218,
   "id": "ae612a78-d28f-443f-8c86-ec8c5b4586d1",
   "metadata": {},
   "outputs": [
    {
     "data": {
      "image/png": "[encoded data removed]",
      "text/plain": [
       "<Figure size 640x480 with 1 Axes>"
      ]
     },
     "metadata": {},
     "output_type": "display_data"
    }
   ],
   "source": [
    "seller_revenue['price'].describe()\n",
    "# histogram\n",
    "import matplotlib.pyplot as plt\n",
    "plt.hist(seller_revenue['price'], bins=50)\n",
    "plt.title(\"Revenue Distribution Across Sellers\")\n",
    "plt.xlabel(\"Revenue\")\n",
    "plt.ylabel(\"Seller Count\")\n",
    "plt.show()\n"
   ]
  },
  {
   "cell_type": "code",
   "execution_count": 220,
   "id": "e9f545db-6f1e-4123-8c7a-497fe794aa65",
   "metadata": {},
   "outputs": [],
   "source": [
    "seller_revenue.to_csv(\"seller_revenue_by_state.csv\", index=False)\n",
    "sellers_per_state.to_csv(\"sellers_per_state.csv\", index=False)\n",
    "state_revenue.to_csv(\"revenue_per_state.csv\", index=False)\n"
   ]
  },
  {
   "cell_type": "code",
   "execution_count": 222,
   "id": "7c720b02-b28a-4559-96a0-19e77a3d4064",
   "metadata": {},
   "outputs": [],
   "source": [
    "sales_data.to_csv(\"sales_data_with_payment_features.csv\", index=False)\n"
   ]
  },
  {
   "cell_type": "code",
   "execution_count": null,
   "id": "3ee7d262-6d7d-4d80-a1af-72618c6021a7",
   "metadata": {},
   "outputs": [],
   "source": []
  }
 ],
 "metadata": {
  "kernelspec": {
   "display_name": "Python [conda env:base] *",
   "language": "python",
   "name": "conda-base-py"
  },
  "language_info": {
   "codemirror_mode": {
    "name": "ipython",
    "version": 3
   },
   "file_extension": ".py",
   "mimetype": "text/x-python",
   "name": "python",
   "nbconvert_exporter": "python",
   "pygments_lexer": "ipython3",
   "version": "3.12.7"
  }
 },
 "nbformat": 4,
 "nbformat_minor": 5
}
